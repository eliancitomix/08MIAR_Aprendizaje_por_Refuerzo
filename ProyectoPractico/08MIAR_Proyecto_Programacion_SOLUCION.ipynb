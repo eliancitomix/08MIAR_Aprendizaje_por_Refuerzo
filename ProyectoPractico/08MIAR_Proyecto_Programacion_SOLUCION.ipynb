{
  "cells": [
    {
      "cell_type": "markdown",
      "metadata": {
        "id": "view-in-github",
        "colab_type": "text"
      },
      "source": [
        "<a href=\"https://colab.research.google.com/github/emichester/08MIAR_Aprendizaje_por_Refuerzo/blob/main/ProyectoPractico/08MIAR_Proyecto_Programacion_SOLUCION.ipynb\" target=\"_parent\"><img src=\"https://colab.research.google.com/assets/colab-badge.svg\" alt=\"Open In Colab\"/></a>"
      ]
    },
    {
      "cell_type": "markdown",
      "metadata": {
        "id": "jUehXgCyIRdq"
      },
      "source": [
        "# Actividad - Proyecto práctico\n",
        "\n",
        "\n",
        "> La actividad se desarrollará en grupos pre-definidos de 2-3 alumnos. Se debe indicar los nombres en orden alfabético (de apellidos). Recordad que esta actividad se corresponde con un 30% de la nota final de la asignatura. Se debe entregar entregar el trabajo en la presente notebook.\n",
        "*   Alumno 1: [Caamaño de Melo, Guillermo](mailto:elguillesise@gmail.com)\n",
        "*   Alumno 2: [Hernández Salas, Emilio Jesús](mailto:emiliohersal@gmail.com)\n",
        "*   Alumno 3: [Rodríguez Juárez, Javier](mailto:jr.juarez.79@gmail.com)\n",
        "\n",
        "\n",
        "\n",
        "\n"
      ]
    },
    {
      "cell_type": "markdown",
      "metadata": {
        "id": "JwpYlnjWJhS9"
      },
      "source": [
        "---\n",
        "## **PARTE 1** - Instalación y requisitos previos\n",
        "\n",
        "> Las prácticas han sido preparadas para poder realizarse en el entorno de trabajo de Google Colab. Sin embargo, esta plataforma presenta ciertas incompatibilidades a la hora de visualizar la renderización en gym. Por ello, para obtener estas visualizaciones, se deberá trasladar el entorno de trabajo a local. Por ello, el presente dosier presenta instrucciones para poder trabajar en ambos entornos. Siga los siguientes pasos para un correcto funcionamiento:\n",
        "1.   **LOCAL:** Preparar el enviroment, siguiendo las intrucciones detalladas en la sección *1.1.Preparar enviroment*.\n",
        "2.  **AMBOS:** Modificar las variables \"mount\" y \"drive_mount\" a la carpeta de trabajo en drive en el caso de estar en Colab, y ejecturar la celda *1.2.Localizar entorno de trabajo*.\n",
        "3. **COLAB:** se deberá ejecutar las celdas correspondientes al montaje de la carpeta de trabajo en Drive. Esta corresponde a la sección *1.3.Montar carpeta de datos local*.\n",
        "4.  **AMBOS:** Instalar las librerías necesarias, siguiendo la sección *1.4.Instalar librerías necesarias*.\n"
      ]
    },
    {
      "cell_type": "markdown",
      "metadata": {
        "id": "RU2BPrK2JkP0"
      },
      "source": [
        "---\n",
        "### 1.1. Preparar enviroment (solo local)\n",
        "\n",
        "\n",
        "\n",
        "> Para preparar el entorno de trabajo en local, se han seguido los siguientes pasos:\n",
        "1. En Windows, puede ser necesario instalar las C++ Build Tools. Para ello, siga los siguientes pasos: https://towardsdatascience.com/how-to-install-openai-gym-in-a-windows-environment-338969e24d30.\n",
        "2. Instalar Anaconda\n",
        "3. Siguiendo el código que se presenta comentado en la próxima celda: Crear un enviroment, cambiar la ruta de trabajo, e instalar librerías básicas.\n",
        "\n",
        "\n",
        "```\n",
        "conda create --name miar_rl python=3.8\n",
        "conda activate miar_rl\n",
        "cd \"PATH_TO_FOLDER\"\n",
        "conda install git\n",
        "pip install jupyter\n",
        "```\n",
        "\n",
        "\n",
        "4. Abrir la notebook con *jupyter-notebook*.\n",
        "\n",
        "\n",
        "\n",
        "```\n",
        "jupyter-notebook\n",
        "```\n"
      ]
    },
    {
      "cell_type": "markdown",
      "metadata": {
        "id": "w-kixNPiJqTc"
      },
      "source": [
        "---\n",
        "### 1.2. Localizar entorno de trabajo: Google colab o local"
      ]
    },
    {
      "cell_type": "code",
      "execution_count": null,
      "metadata": {
        "id": "S_YDFwZ-JscI"
      },
      "outputs": [],
      "source": [
        "# ATENCIÓN!! Modificar ruta relativa a la práctica si es distinta (drive_root)\n",
        "mount='/content/gdrive'\n",
        "drive_root = mount + \"/My Drive/08_MIAR/actividades/proyecto practico\"\n",
        "\n",
        "try:\n",
        "  from google.colab import drive\n",
        "  IN_COLAB=True\n",
        "except:\n",
        "  IN_COLAB=False"
      ]
    },
    {
      "cell_type": "markdown",
      "metadata": {
        "id": "8Dp_a1iBJ0tf"
      },
      "source": [
        "---\n",
        "### 1.3. Montar carpeta de datos local (solo Colab)"
      ]
    },
    {
      "cell_type": "code",
      "execution_count": null,
      "metadata": {
        "id": "I6n7MIefJ21i",
        "outputId": "b8e0c1a4-5c15-4c59-9348-c02390f505b1"
      },
      "outputs": [
        {
          "name": "stdout",
          "output_type": "stream",
          "text": [
            "Archivos en el directorio: \n",
            "['08MIAR_Proyecto_Programacion_SOLUCION.ipynb', 'data', 'imgs', 'logs', 'weights']\n"
          ]
        }
      ],
      "source": [
        "# Switch to the directory on the Google Drive that you want to use\n",
        "import os\n",
        "if IN_COLAB:\n",
        "  print(\"We're running Colab\")\n",
        "\n",
        "  if IN_COLAB:\n",
        "    # Mount the Google Drive at mount\n",
        "    print(\"Colab: mounting Google drive on \", mount)\n",
        "\n",
        "    drive.mount(mount)\n",
        "\n",
        "    # Create drive_root if it doesn't exist\n",
        "    create_drive_root = True\n",
        "    if create_drive_root:\n",
        "      print(\"\\nColab: making sure \", drive_root, \" exists.\")\n",
        "      os.makedirs(drive_root, exist_ok=True)\n",
        "\n",
        "    # Change to the directory\n",
        "    print(\"\\nColab: Changing directory to \", drive_root)\n",
        "    %cd $drive_root\n",
        "# Verify we're in the correct working directory\n",
        "%pwd\n",
        "print(\"Archivos en el directorio: \")\n",
        "print(os.listdir())"
      ]
    },
    {
      "cell_type": "markdown",
      "metadata": {
        "id": "i1ZSL5bpJ560"
      },
      "source": [
        "---\n",
        "### 1.4. Instalar librerías necesarias"
      ]
    },
    {
      "cell_type": "code",
      "execution_count": null,
      "metadata": {
        "id": "UbVRjvHCJ8UF"
      },
      "outputs": [],
      "source": [
        "%%capture\n",
        "\n",
        "if IN_COLAB:\n",
        "  %pip install gym==0.17.3\n",
        "  %pip install git+https://github.com/Kojoley/atari-py.git\n",
        "  %pip install keras-rl2==1.0.5\n",
        "  %pip install tensorflow==2.8\n",
        "else:\n",
        "  %pip install pandas==1.4.4\n",
        "  %pip install matplotlib==3.4.3\n",
        "  %pip install contourpy==1.0.4\n",
        "  %pip install openpyxl==3.1.2\n",
        "  %pip install numpy==1.19.2\n",
        "  %pip install gym==0.17.3\n",
        "  %pip install git+https://github.com/Kojoley/atari-py.git\n",
        "  %pip install pyglet==1.5.0\n",
        "  %pip install h5py==3.1.0\n",
        "  %pip install Pillow==9.5.0\n",
        "  %pip install keras-rl2==1.0.5\n",
        "  %pip install Keras==2.2.4\n",
        "  %pip install tensorflow==2.5.3\n",
        "  %pip install torch==2.0.1\n",
        "  %pip install agents==1.4.0"
      ]
    },
    {
      "cell_type": "markdown",
      "metadata": {
        "id": "XPcHj6-Udngw"
      },
      "source": [
        "---\n",
        "### 1.5. Definir directorios del proyecto en local"
      ]
    },
    {
      "cell_type": "code",
      "execution_count": null,
      "metadata": {
        "id": "Ph57_hJ-dngx"
      },
      "outputs": [],
      "source": [
        "if not IN_COLAB:\n",
        "    dir_root = ''\n",
        "\n",
        "WEIGHTS_PATH = os.path.join(dir_root, \"weights\")\n",
        "CHECKPOINT_PATH = os.path.join(dir_root, \"checkpoints\")\n",
        "LOGS_PATH = os.path.join(dir_root, \"logs\")\n",
        "HYPERPARAMETERS_PATH = os.path.join(dir_root, \"data\", 'Hiperparametros.xlsx')"
      ]
    },
    {
      "cell_type": "markdown",
      "metadata": {
        "id": "AOGeWloudngx"
      },
      "source": [
        "Dibujamos el parámetro del LOG elegido"
      ]
    },
    {
      "cell_type": "code",
      "execution_count": null,
      "metadata": {
        "id": "F7dUaTLEdngx"
      },
      "outputs": [],
      "source": [
        "import json\n",
        "import pandas as pd\n",
        "import matplotlib.pyplot as plt\n",
        "\n",
        "def graph_training(env_name, model_name, variable='mean_q'):\n",
        "  with open(os.path.join(LOGS_PATH, 'dqn_{}_log_{}.json'.format(env_name, model_name))) as f:\n",
        "    data = json.load(f)\n",
        "    print(len(data[variable]))\n",
        "    pd.DataFrame(data[variable]).plot(title=f\"{model_name}: Evolución - {variable}\", legend=False)\n",
        "    plt.xlabel('Steps')\n",
        "    plt.ylabel(str(variable))\n",
        "    plt.savefig('imgs/' + model_name + '_' + variable + '.png')"
      ]
    },
    {
      "cell_type": "markdown",
      "metadata": {
        "id": "4hzP_5ZuGb2X"
      },
      "source": [
        "---\n",
        "## **PARTE 2**. Enunciado\n",
        "\n",
        "Consideraciones a tener en cuenta:\n",
        "\n",
        "- El entorno sobre el que trabajaremos será _SpaceInvaders-v0_ y el algoritmo que usaremos será _DQN_.\n",
        "\n",
        "- Para nuestro ejercicio, el requisito mínimo será alcanzado cuando el agente consiga una **media de recompensa por encima de 20 puntos en modo test**. Por ello, esta media de la recompensa se calculará a partir del código de test en la última celda del notebook.\n",
        "\n",
        "Este proyecto práctico consta de tres partes:\n",
        "\n",
        "1.   Implementar la red neuronal que se usará en la solución\n",
        "2.   Implementar las distintas piezas de la solución DQN\n",
        "3.   Justificar la respuesta en relación a los resultados obtenidos\n",
        "\n",
        "**Rúbrica**: Se valorará la originalidad en la solución aportada, así como la capacidad de discutir los resultados de forma detallada. El requisito mínimo servirá para aprobar la actividad, bajo premisa de que la discusión del resultado sera apropiada.\n",
        "\n",
        "IMPORTANTE:\n",
        "\n",
        "* Si no se consigue una puntuación óptima, responder sobre la mejor puntuación obtenida.\n",
        "* Para entrenamientos largos, recordad que podéis usar checkpoints de vuestros modelos para retomar los entrenamientos. En este caso, recordad cambiar los parámetros adecuadamente (sobre todo los relacionados con el proceso de exploración).\n",
        "* Se deberá entregar unicamente el notebook y los pesos del mejor modelo en un fichero .zip, de forma organizada.\n",
        "* Cada alumno deberá de subir la solución de forma individual."
      ]
    },
    {
      "cell_type": "markdown",
      "metadata": {
        "id": "6_b3mzw8IzJP"
      },
      "source": [
        "---\n",
        "## **PARTE 3**. Desarrollo y preguntas"
      ]
    },
    {
      "cell_type": "markdown",
      "metadata": {
        "id": "duPmUNOVGb2a"
      },
      "source": [
        "#### Importar librerías"
      ]
    },
    {
      "cell_type": "code",
      "execution_count": null,
      "metadata": {
        "id": "j3eRhgI-Gb2a"
      },
      "outputs": [],
      "source": [
        "from __future__ import division\n",
        "\n",
        "from PIL import Image\n",
        "import numpy as np\n",
        "import gym\n",
        "\n",
        "from tensorflow.keras.models import Sequential\n",
        "from tensorflow.keras.layers import Dense, Activation, Flatten, Convolution2D, Permute,  MaxPooling2D, GlobalAveragePooling2D, LeakyReLU , BatchNormalization, Dropout, Input, Add\n",
        "from tensorflow.keras.optimizers import Adam\n",
        "from tensorflow.keras.regularizers import l2\n",
        "import tensorflow.keras.backend as K\n",
        "\n",
        "from rl.agents.dqn import DQNAgent\n",
        "from rl.policy import LinearAnnealedPolicy, BoltzmannQPolicy, EpsGreedyQPolicy\n",
        "from rl.memory import SequentialMemory\n",
        "from rl.core import Processor\n",
        "from rl.callbacks import FileLogger, ModelIntervalCheckpoint"
      ]
    },
    {
      "cell_type": "markdown",
      "metadata": {
        "id": "f4jgQjzoGb2a"
      },
      "source": [
        "#### Configuración base"
      ]
    },
    {
      "cell_type": "code",
      "execution_count": null,
      "metadata": {
        "id": "jwOE6I_KGb2a"
      },
      "outputs": [],
      "source": [
        "INPUT_SHAPE = (84, 84)\n",
        "WINDOW_LENGTH = 4\n",
        "\n",
        "env_name = 'SpaceInvaders-v0'\n",
        "env = gym.make(env_name)\n",
        "\n",
        "np.random.seed(123)\n",
        "env.seed(123)\n",
        "nb_actions = env.action_space.n"
      ]
    },
    {
      "cell_type": "code",
      "execution_count": null,
      "metadata": {
        "id": "9jGEZUcpGb2a"
      },
      "outputs": [],
      "source": [
        "class AtariProcessor(Processor):\n",
        "    def process_observation(self, observation):\n",
        "        assert observation.ndim == 3  # (height, width, channel)\n",
        "        img = Image.fromarray(observation)\n",
        "        img = img.resize(INPUT_SHAPE).convert('L')\n",
        "        processed_observation = np.array(img)\n",
        "        assert processed_observation.shape == INPUT_SHAPE\n",
        "        return processed_observation.astype('uint8')\n",
        "\n",
        "    def process_state_batch(self, batch):\n",
        "        processed_batch = batch.astype('float32') / 255.\n",
        "        return processed_batch\n",
        "\n",
        "    def process_reward(self, reward):\n",
        "        return np.clip(reward, -1., 1.)"
      ]
    },
    {
      "cell_type": "markdown",
      "metadata": {
        "id": "4VO3avOWdngy"
      },
      "source": [
        "Carga de hiperparámetros desde archivo"
      ]
    },
    {
      "cell_type": "code",
      "execution_count": null,
      "metadata": {
        "id": "9Q7nOvmgdngy"
      },
      "outputs": [],
      "source": [
        "def load_hyperparameters(version=0):\n",
        "    # Leemos la configuración de hiperparámetros\n",
        "    hpdf = pd.read_excel(HYPERPARAMETERS_PATH, \"Hiperparametros\", index_col=0)\n",
        "    # Seleccionamos la version de los hiperparámetros que queremos\n",
        "    if version > hpdf.index.max():\n",
        "        raise ValueError(f\"Introduzca un número entre 0 y {hpdf.index.max()}\")\n",
        "    HP = hpdf.loc[version]\n",
        "\n",
        "    global LEARNING_RATE\n",
        "    global MEMORY_SIZE\n",
        "    global SCHEDULER_STEPS\n",
        "    global WARMUP_STEPS\n",
        "    global MODEL_UPDATE\n",
        "    global MODEL_CHECKPOINT_STEPS\n",
        "    global TRAIN_STEPS\n",
        "    global LOG_INTERVAL\n",
        "    global GAMMA\n",
        "    global DUELING\n",
        "    global DUELING_TYPE\n",
        "\n",
        "    ###########  HIPERPARÁMETROS DE ENTRENAMIENTO  ###########\n",
        "    LEARNING_RATE = HP['LEARNING_RATE'].astype(np.float32)\n",
        "    MEMORY_SIZE = int(HP['MEMORY_SIZE'])\n",
        "\n",
        "    SCHEDULER_STEPS = HP['SCHEDULER_STEPS'].astype(np.int32) # steps en los que aplica el scheduler\n",
        "    WARMUP_STEPS = HP['WARMUP_STEPS'].astype(np.int32) # steps de calentamiento\n",
        "    MODEL_UPDATE = HP['MODEL_UPDATE'].astype(np.int32) # cada estos steps se actualiza el modelo\n",
        "    MODEL_CHECKPOINT_STEPS = HP['MODEL_CHECKPOINT_STEPS'].astype(np.int32) # cada estos steps se guarda un checkpoint del modelo\n",
        "    TRAIN_STEPS = HP['TRAIN_STEPS'].astype(np.int32) # número de steps de entrenamiento\n",
        "    LOG_INTERVAL = HP['LOG_INTERVAL'].astype(np.int32)\n",
        "\n",
        "    GAMMA = HP['GAMMA'].astype(np.float32)\n",
        "\n",
        "    DUELING =HP['enable_dueling_network'].astype(np.bool)\n",
        "    DUELING_TYPE = HP['dueling_type']"
      ]
    },
    {
      "cell_type": "markdown",
      "metadata": {
        "id": "0oddSDN0dngy"
      },
      "source": [
        "---"
      ]
    },
    {
      "cell_type": "code",
      "execution_count": null,
      "metadata": {
        "id": "5EM5nhIgdngz",
        "outputId": "dcca1332-fe30-4a35-c0a7-4e7992bf6ee5"
      },
      "outputs": [
        {
          "name": "stdout",
          "output_type": "stream",
          "text": [
            "El tamaño del espacio de acciones es:  6  y son las siguientes:\n"
          ]
        }
      ],
      "source": [
        "print(\"El tamaño del espacio de acciones es: \",nb_actions,\" y son las siguientes:\")"
      ]
    },
    {
      "cell_type": "markdown",
      "metadata": {
        "id": "ZWHivvAkdngz"
      },
      "source": [
        "|Número|Operación|Descripción|\n",
        "|:-:|:-:|:--|\n",
        "|0|NOOP|Ninguna acción|\n",
        "|1|FIRE|Disparar|\n",
        "|2|RIGHT|Moverse a la derecha|\n",
        "|3|LEFT|Moverse a la izquierda|\n",
        "|4|RIGHTFIRE|Moverse a la derecha y disparar|\n",
        "|5|LEFTFIRE|Moverse a la izquierda y disparar|"
      ]
    },
    {
      "cell_type": "code",
      "execution_count": null,
      "metadata": {
        "id": "Jq16QtS6dngz",
        "outputId": "3cd19405-d2c4-436e-fc02-6dfc02704d6d"
      },
      "outputs": [
        {
          "name": "stdout",
          "output_type": "stream",
          "text": [
            "Formato de las observaciones: Box(0, 255, (210, 160, 3), uint8)\n"
          ]
        }
      ],
      "source": [
        "print(\"Formato de las observaciones:\", env.observation_space)"
      ]
    },
    {
      "cell_type": "markdown",
      "metadata": {
        "id": "Nn7tikVddngz"
      },
      "source": [
        "- - -\n",
        "### 3.0. Modelo inicial"
      ]
    },
    {
      "cell_type": "code",
      "execution_count": null,
      "metadata": {
        "id": "o2a78ZAAdngz"
      },
      "outputs": [],
      "source": [
        "load_hyperparameters(0)"
      ]
    },
    {
      "cell_type": "markdown",
      "metadata": {
        "id": "AD3HQeSGdngz"
      },
      "source": [
        "1. Implementación de la red neuronal. [[Playing Atari with Deep Reinforcement Learning, Mnih et al.](https://arxiv.org/abs/1312.5602)] [[Count-Based Temperature Scheduling for Maximum Entropy Reinforcement Learning, Dailin Hu et al.](https://www.researchgate.net/publication/356631902_Count-Based_Temperature_Scheduling_for_Maximum_Entropy_Reinforcement_Learning)] [[Hyperparameters, Dailin Hu et al.](https://www.researchgate.net/figure/Hyper-parameters-for-tabular-experiments_tbl1_356631902)]"
      ]
    },
    {
      "cell_type": "code",
      "execution_count": null,
      "metadata": {
        "id": "9HJIW7_Fdngz",
        "outputId": "4da18ba5-afec-4705-972a-3c6f86f386c3"
      },
      "outputs": [
        {
          "name": "stdout",
          "output_type": "stream",
          "text": [
            "channels_last\n",
            "Model: \"sequential_10\"\n",
            "_________________________________________________________________\n",
            "Layer (type)                 Output Shape              Param #   \n",
            "=================================================================\n",
            "permute_10 (Permute)         (None, 84, 84, 4)         0         \n",
            "_________________________________________________________________\n",
            "conv2d_27 (Conv2D)           (None, 20, 20, 32)        8224      \n",
            "_________________________________________________________________\n",
            "activation_37 (Activation)   (None, 20, 20, 32)        0         \n",
            "_________________________________________________________________\n",
            "conv2d_28 (Conv2D)           (None, 9, 9, 64)          32832     \n",
            "_________________________________________________________________\n",
            "activation_38 (Activation)   (None, 9, 9, 64)          0         \n",
            "_________________________________________________________________\n",
            "conv2d_29 (Conv2D)           (None, 7, 7, 64)          36928     \n",
            "_________________________________________________________________\n",
            "activation_39 (Activation)   (None, 7, 7, 64)          0         \n",
            "_________________________________________________________________\n",
            "flatten_6 (Flatten)          (None, 3136)              0         \n",
            "_________________________________________________________________\n",
            "dense_16 (Dense)             (None, 512)               1606144   \n",
            "_________________________________________________________________\n",
            "activation_40 (Activation)   (None, 512)               0         \n",
            "_________________________________________________________________\n",
            "dense_17 (Dense)             (None, 6)                 3078      \n",
            "_________________________________________________________________\n",
            "activation_41 (Activation)   (None, 6)                 0         \n",
            "=================================================================\n",
            "Total params: 1,687,206\n",
            "Trainable params: 1,687,206\n",
            "Non-trainable params: 0\n",
            "_________________________________________________________________\n"
          ]
        }
      ],
      "source": [
        "model_name = 'Modelo_00'\n",
        "\n",
        "input_shape = (WINDOW_LENGTH,) + INPUT_SHAPE\n",
        "\n",
        "model = Sequential()\n",
        "\n",
        "print(K.image_data_format())\n",
        "\n",
        "if K.image_data_format() == 'channels_last':\n",
        "    # (width, height, channels)\n",
        "    model.add(Permute((2, 3, 1), input_shape=input_shape))\n",
        "elif K.image_data_format() == 'channels_first':\n",
        "    # (channels, width, height)\n",
        "    model.add(Permute((1, 2, 3), input_shape=input_shape))\n",
        "else:\n",
        "    raise RuntimeError('Unknown image_dim_ordering.')\n",
        "\n",
        "model.add(Convolution2D(32, (8, 8), strides=(4, 4)))\n",
        "model.add(Activation('relu'))\n",
        "\n",
        "model.add(Convolution2D(64, (4, 4), strides=(2, 2)))\n",
        "model.add(Activation('relu'))\n",
        "\n",
        "model.add(Convolution2D(64, (3, 3), strides=(1, 1)))\n",
        "model.add(Activation('relu'))\n",
        "\n",
        "model.add(Flatten())\n",
        "model.add(Dense(512))\n",
        "model.add(Activation('relu'))\n",
        "\n",
        "model.add(Dense(nb_actions))\n",
        "model.add(Activation('linear'))\n",
        "model.summary()"
      ]
    },
    {
      "cell_type": "markdown",
      "metadata": {
        "id": "-0sIMOBbdng0"
      },
      "source": [
        "2. Implementación de la solución DQN"
      ]
    },
    {
      "cell_type": "code",
      "execution_count": null,
      "metadata": {
        "id": "6WpI09F7dng0"
      },
      "outputs": [],
      "source": [
        "memory = SequentialMemory(limit=MEMORY_SIZE, window_length=WINDOW_LENGTH)\n",
        "processor = AtariProcessor()"
      ]
    },
    {
      "cell_type": "code",
      "execution_count": null,
      "metadata": {
        "id": "s06Gc0MWdng0"
      },
      "outputs": [],
      "source": [
        "policy = LinearAnnealedPolicy(EpsGreedyQPolicy(), attr='eps',\n",
        "                              value_max=1., value_min=.1,\n",
        "                              value_test=.05,\n",
        "                              nb_steps=SCHEDULER_STEPS)"
      ]
    },
    {
      "cell_type": "code",
      "execution_count": null,
      "metadata": {
        "id": "JAIeEkXfdng0"
      },
      "outputs": [],
      "source": [
        "dqn = DQNAgent(model=model,\n",
        "               nb_actions=nb_actions,\n",
        "               policy=policy,\n",
        "               memory=memory,\n",
        "               processor=processor,\n",
        "               nb_steps_warmup=WARMUP_STEPS,       # Acumular memoria inicial\n",
        "               gamma=GAMMA,                        # Discount reward\n",
        "               target_model_update=MODEL_UPDATE,   # Actualización del modelo\n",
        "               train_interval=4)\n",
        "\n",
        "dqn.compile(Adam(learning_rate=LEARNING_RATE), metrics=['mae'])"
      ]
    },
    {
      "cell_type": "code",
      "execution_count": null,
      "metadata": {
        "id": "_03MDcQddng0"
      },
      "outputs": [],
      "source": [
        "weights_filename = WEIGHTS_PATH + '/' + 'dqn_{}_weights_{}.h5f'.format(env_name, model_name)\n",
        "checkpoint_weights_filename = CHECKPOINT_PATH + 'dqn_' + env_name + '_weights_{step}.h5f'\n",
        "log_filename = LOGS_PATH + 'dqn_{}_log_{}.json'.format(env_name, model_name)\n",
        "\n",
        "callbacks = [ModelIntervalCheckpoint(checkpoint_weights_filename, interval=MODEL_CHECKPOINT_STEPS)]\n",
        "callbacks += [FileLogger(log_filename, interval=100)]\n",
        "\n",
        "dqn.fit(env, callbacks=callbacks, nb_steps=TRAIN_STEPS, log_interval=LOG_INTERVAL, visualize=False)\n",
        "\n",
        "dqn.save_weights(weights_filename, overwrite=True)"
      ]
    },
    {
      "cell_type": "code",
      "execution_count": null,
      "metadata": {
        "id": "RZpXtf_sdng0",
        "outputId": "4ee9c2e7-7f6b-4e19-db4e-88f58713ecf2"
      },
      "outputs": [
        {
          "name": "stdout",
          "output_type": "stream",
          "text": [
            "2280\n"
          ]
        },
        {
          "data": {
            "image/png": "[encoded data removed]",
            "text/plain": [
              "<Figure size 640x480 with 1 Axes>"
            ]
          },
          "metadata": {},
          "output_type": "display_data"
        }
      ],
      "source": [
        "graph_training(env_name, model_name, 'mean_q')"
      ]
    },
    {
      "cell_type": "code",
      "execution_count": null,
      "metadata": {
        "id": "XkyZx3TFdng0",
        "outputId": "ebdf638d-5cd5-412c-e403-5af249f0da83"
      },
      "outputs": [
        {
          "name": "stdout",
          "output_type": "stream",
          "text": [
            "Testing for 10 episodes ...\n",
            "Episode 1: reward: 21.000, steps: 942\n",
            "Episode 2: reward: 22.000, steps: 816\n",
            "Episode 3: reward: 10.000, steps: 463\n",
            "Episode 4: reward: 24.000, steps: 1240\n",
            "Episode 5: reward: 19.000, steps: 615\n",
            "Episode 6: reward: 15.000, steps: 913\n",
            "Episode 7: reward: 21.000, steps: 1082\n",
            "Episode 8: reward: 23.000, steps: 825\n",
            "Episode 9: reward: 22.000, steps: 981\n",
            "Episode 10: reward: 25.000, steps: 856"
          ]
        }
      ],
      "source": [
        "# Testing part to calculate the mean reward\n",
        "weights_filename = WEIGHTS_PATH + '/' + 'dqn_{}_weights_{}.h5f'.format(env_name, model_name)\n",
        "dqn.load_weights(weights_filename)\n",
        "dqn.test(env, nb_episodes=10, visualize=False)"
      ]
    },
    {
      "cell_type": "markdown",
      "metadata": {
        "id": "hk7Dr8Nxdng1"
      },
      "source": [
        "3. Justificación de los parámetros seleccionados y de los resultados obtenidos"
      ]
    },
    {
      "cell_type": "markdown",
      "metadata": {
        "id": "EK2SfXy-dng1"
      },
      "source": [
        "La recompensa media obtenida es de: <span style=\"color:red\">**20,2**</span>\n",
        "\n",
        "Red neuronal basada en el artículo **[Playing Atari with Deep Reinforcement Learning](https://arxiv.org/pdf/1312.5602.pdf), Minh, V. et al. (2013)** y lo tomaremos como base de comparación del resto de modelos que probaremos a lo largo de este proyecto.\n",
        "\n",
        "Los hiperparámetros del modelo de Aprendizaje por refuerzo son los mismos que hemos visto en clase para el juego de *Breakout*.\n",
        "\n",
        "Según se aprecia en la gráfica de la media de la recompensa esperada a futuro, ampliando el tiempo de entrenamiento podrían mejorarse los resultados ya que mantiene una pendiente ascendente al llegar a los 1,75M de steps."
      ]
    },
    {
      "cell_type": "markdown",
      "metadata": {
        "id": "FFoedhzrdng5"
      },
      "source": [
        "---\n",
        "### 3.1 Modificando la red neuronal del Agente"
      ]
    },
    {
      "cell_type": "markdown",
      "metadata": {
        "id": "CGuI9TaZdng5"
      },
      "source": [
        "- - -\n",
        "#### 3.1.1. Modelo 1"
      ]
    },
    {
      "cell_type": "code",
      "execution_count": null,
      "metadata": {
        "id": "Vd7iTkIpdng5"
      },
      "outputs": [],
      "source": [
        "load_hyperparameters(0)"
      ]
    },
    {
      "cell_type": "markdown",
      "metadata": {
        "id": "W1V-qVxbdng7"
      },
      "source": [
        "1. Implementación de la red neuronal"
      ]
    },
    {
      "cell_type": "code",
      "execution_count": null,
      "metadata": {
        "id": "1l_mcON1dng7",
        "outputId": "fc9083da-f254-4c65-8f4f-53ad3a9b36bd"
      },
      "outputs": [
        {
          "name": "stdout",
          "output_type": "stream",
          "text": [
            "channels_last\n",
            "Model: \"sequential_11\"\n",
            "_________________________________________________________________\n",
            "Layer (type)                 Output Shape              Param #   \n",
            "=================================================================\n",
            "permute_11 (Permute)         (None, 84, 84, 4)         0         \n",
            "_________________________________________________________________\n",
            "conv2d_30 (Conv2D)           (None, 84, 84, 32)        1184      \n",
            "_________________________________________________________________\n",
            "activation_42 (Activation)   (None, 84, 84, 32)        0         \n",
            "_________________________________________________________________\n",
            "max_pooling2d_18 (MaxPooling (None, 42, 42, 32)        0         \n",
            "_________________________________________________________________\n",
            "conv2d_31 (Conv2D)           (None, 42, 42, 64)        18496     \n",
            "_________________________________________________________________\n",
            "activation_43 (Activation)   (None, 42, 42, 64)        0         \n",
            "_________________________________________________________________\n",
            "max_pooling2d_19 (MaxPooling (None, 21, 21, 64)        0         \n",
            "_________________________________________________________________\n",
            "conv2d_32 (Conv2D)           (None, 21, 21, 64)        36928     \n",
            "_________________________________________________________________\n",
            "activation_44 (Activation)   (None, 21, 21, 64)        0         \n",
            "_________________________________________________________________\n",
            "flatten_7 (Flatten)          (None, 28224)             0         \n",
            "_________________________________________________________________\n",
            "dense_18 (Dense)             (None, 512)               14451200  \n",
            "_________________________________________________________________\n",
            "activation_45 (Activation)   (None, 512)               0         \n",
            "_________________________________________________________________\n",
            "dense_19 (Dense)             (None, 6)                 3078      \n",
            "_________________________________________________________________\n",
            "activation_46 (Activation)   (None, 6)                 0         \n",
            "=================================================================\n",
            "Total params: 14,510,886\n",
            "Trainable params: 14,510,886\n",
            "Non-trainable params: 0\n",
            "_________________________________________________________________\n",
            "None\n"
          ]
        }
      ],
      "source": [
        "model_name = 'Modelo_01'\n",
        "\n",
        "input_shape = (WINDOW_LENGTH,) + INPUT_SHAPE\n",
        "\n",
        "model = Sequential()\n",
        "\n",
        "print(K.image_data_format())\n",
        "\n",
        "if K.image_data_format() == 'channels_last':\n",
        "    # (width, height, channels)\n",
        "    model.add(Permute((2, 3, 1), input_shape=input_shape))\n",
        "elif K.image_data_format() == 'channels_first':\n",
        "    # (channels, width, height)\n",
        "    model.add(Permute((1, 2, 3), input_shape=input_shape))\n",
        "else:\n",
        "    raise RuntimeError('Unknown image_dim_ordering.')\n",
        "\n",
        "model.add(Convolution2D(32, (3, 3), padding='same'))\n",
        "model.add(Activation('relu'))\n",
        "model.add(MaxPooling2D())\n",
        "\n",
        "model.add(Convolution2D(64, (3, 3), padding='same'))\n",
        "model.add(Activation('relu'))\n",
        "model.add(MaxPooling2D())\n",
        "\n",
        "model.add(Convolution2D(64, (3, 3), padding='same'))\n",
        "model.add(Activation('relu'))\n",
        "\n",
        "model.add(Flatten())\n",
        "model.add(Dense(512))\n",
        "model.add(Activation('relu'))\n",
        "model.add(Dense(nb_actions))\n",
        "model.add(Activation('linear'))\n",
        "\n",
        "print(model.summary())"
      ]
    },
    {
      "cell_type": "markdown",
      "metadata": {
        "id": "Ky2gGexodng8"
      },
      "source": [
        "2. Implementación de la solución DQN"
      ]
    },
    {
      "cell_type": "code",
      "execution_count": null,
      "metadata": {
        "id": "rGbNBPw_dng8"
      },
      "outputs": [],
      "source": [
        "memory = SequentialMemory(limit=MEMORY_SIZE, window_length=WINDOW_LENGTH)\n",
        "processor = AtariProcessor()"
      ]
    },
    {
      "cell_type": "code",
      "execution_count": null,
      "metadata": {
        "id": "VFgK2-Vodng8"
      },
      "outputs": [],
      "source": [
        "policy = LinearAnnealedPolicy(EpsGreedyQPolicy(), attr='eps',\n",
        "                              value_max=1., value_min=.1,\n",
        "                              value_test=.05,\n",
        "                              nb_steps=SCHEDULER_STEPS)"
      ]
    },
    {
      "cell_type": "code",
      "execution_count": null,
      "metadata": {
        "id": "kMI2aFiPdng8"
      },
      "outputs": [],
      "source": [
        "dqn = DQNAgent(model=model,\n",
        "               nb_actions=nb_actions,\n",
        "               policy=policy,\n",
        "               memory=memory,\n",
        "               processor=processor,\n",
        "               nb_steps_warmup=WARMUP_STEPS,       # Acumular memoria inicial\n",
        "               gamma=GAMMA,                        # Discount reward\n",
        "               target_model_update=MODEL_UPDATE,   # Actualización del modelo\n",
        "               train_interval=4)\n",
        "\n",
        "dqn.compile(Adam(learning_rate=LEARNING_RATE), metrics=['mae'])"
      ]
    },
    {
      "cell_type": "code",
      "execution_count": null,
      "metadata": {
        "id": "ZcEgl6wZdng9"
      },
      "outputs": [],
      "source": [
        "weights_filename = WEIGHTS_PATH + '/' + 'dqn_{}_weights_{}.h5f'.format(env_name, model_name)\n",
        "checkpoint_weights_filename = CHECKPOINT_PATH + 'dqn_' + env_name + '_weights_{step}.h5f'\n",
        "log_filename = LOGS_PATH + 'dqn_{}_log_{}.json'.format(env_name, model_name)\n",
        "\n",
        "callbacks = [ModelIntervalCheckpoint(checkpoint_weights_filename, interval=MODEL_CHECKPOINT_STEPS)]\n",
        "callbacks += [FileLogger(log_filename, interval=100)]\n",
        "\n",
        "dqn.fit(env, callbacks=callbacks, nb_steps=TRAIN_STEPS, log_interval=LOG_INTERVAL, visualize=False)\n",
        "\n",
        "dqn.save_weights(weights_filename, overwrite=True)"
      ]
    },
    {
      "cell_type": "code",
      "execution_count": null,
      "metadata": {
        "id": "0BuHHAZodng9",
        "outputId": "9fe1f888-c311-4402-b38b-a5a4433fe39a"
      },
      "outputs": [
        {
          "name": "stdout",
          "output_type": "stream",
          "text": [
            "2172\n"
          ]
        },
        {
          "data": {
            "image/png": "[encoded data removed]",
            "text/plain": [
              "<Figure size 640x480 with 1 Axes>"
            ]
          },
          "metadata": {},
          "output_type": "display_data"
        }
      ],
      "source": [
        "graph_training(env_name, model_name, 'mean_q')"
      ]
    },
    {
      "cell_type": "code",
      "execution_count": null,
      "metadata": {
        "id": "sPjdX98zdng9",
        "outputId": "b10b665f-255d-44e5-ff6f-0e07f725ff8c"
      },
      "outputs": [
        {
          "name": "stdout",
          "output_type": "stream",
          "text": [
            "Testing for 10 episodes ...\n",
            "Episode 1: reward: 16.000, steps: 634\n",
            "Episode 2: reward: 18.000, steps: 620\n",
            "Episode 3: reward: 13.000, steps: 599\n",
            "Episode 4: reward: 27.000, steps: 904\n",
            "Episode 5: reward: 18.000, steps: 785\n",
            "Episode 6: reward: 11.000, steps: 510\n",
            "Episode 7: reward: 22.000, steps: 987\n",
            "Episode 8: reward: 19.000, steps: 730\n",
            "Episode 9: reward: 15.000, steps: 492\n",
            "Episode 10: reward: 17.000, steps: 708\n"
          ]
        }
      ],
      "source": [
        "# Testing part to calculate the mean reward\n",
        "weights_filename = 'dqn_{}_weights_{}.h5f'.format(env_name, model_name)\n",
        "dqn.load_weights(weights_filename)\n",
        "dqn.test(env, nb_episodes=10, visualize=False)"
      ]
    },
    {
      "cell_type": "markdown",
      "metadata": {
        "id": "OmrCfLIIdng9"
      },
      "source": [
        "3. Justificación de los parámetros seleccionados y de los resultados obtenidos"
      ]
    },
    {
      "cell_type": "markdown",
      "metadata": {
        "id": "HIEKAvdydng9"
      },
      "source": [
        "La recompensa media obtenida es de **17,6**\n",
        "\n",
        "Respecto del modelo base se han modificado los strides, que ahora son iguales a 2, y empleando para reducir el tamaño de cada filtro una capa *MaxPooling2D*.\n",
        "\n",
        "La pérdida de información al aplicar este tipo de reducción de la dimensionalidad de cada filtro pude ocasionar la pérdida de puntuación."
      ]
    },
    {
      "cell_type": "markdown",
      "metadata": {
        "id": "I5WJXfS2dng9"
      },
      "source": [
        "- - -\n",
        "#### 3.1.2. Modelo 2"
      ]
    },
    {
      "cell_type": "code",
      "execution_count": null,
      "metadata": {
        "id": "cuM5_NYgdng-"
      },
      "outputs": [],
      "source": [
        "load_hyperparameters(0)"
      ]
    },
    {
      "cell_type": "markdown",
      "metadata": {
        "id": "7yitXTADGb2b"
      },
      "source": [
        "1. Implementación de la red neuronal"
      ]
    },
    {
      "cell_type": "code",
      "execution_count": null,
      "metadata": {
        "id": "O4GKrfWSGb2b",
        "outputId": "1ae07c8a-8a79-4f73-e051-75856776c34c"
      },
      "outputs": [
        {
          "name": "stdout",
          "output_type": "stream",
          "text": [
            "channels_last\n",
            "Model: \"sequential_12\"\n",
            "_________________________________________________________________\n",
            "Layer (type)                 Output Shape              Param #   \n",
            "=================================================================\n",
            "permute_12 (Permute)         (None, 84, 84, 4)         0         \n",
            "_________________________________________________________________\n",
            "conv2d_33 (Conv2D)           (None, 84, 84, 32)        1184      \n",
            "_________________________________________________________________\n",
            "activation_47 (Activation)   (None, 84, 84, 32)        0         \n",
            "_________________________________________________________________\n",
            "batch_normalization_12 (Batc (None, 84, 84, 32)        128       \n",
            "_________________________________________________________________\n",
            "max_pooling2d_20 (MaxPooling (None, 42, 42, 32)        0         \n",
            "_________________________________________________________________\n",
            "conv2d_34 (Conv2D)           (None, 42, 42, 64)        18496     \n",
            "_________________________________________________________________\n",
            "activation_48 (Activation)   (None, 42, 42, 64)        0         \n",
            "_________________________________________________________________\n",
            "batch_normalization_13 (Batc (None, 42, 42, 64)        256       \n",
            "_________________________________________________________________\n",
            "max_pooling2d_21 (MaxPooling (None, 21, 21, 64)        0         \n",
            "_________________________________________________________________\n",
            "conv2d_35 (Conv2D)           (None, 21, 21, 64)        36928     \n",
            "_________________________________________________________________\n",
            "activation_49 (Activation)   (None, 21, 21, 64)        0         \n",
            "_________________________________________________________________\n",
            "batch_normalization_14 (Batc (None, 21, 21, 64)        256       \n",
            "_________________________________________________________________\n",
            "flatten_8 (Flatten)          (None, 28224)             0         \n",
            "_________________________________________________________________\n",
            "dense_20 (Dense)             (None, 512)               14451200  \n",
            "_________________________________________________________________\n",
            "activation_50 (Activation)   (None, 512)               0         \n",
            "_________________________________________________________________\n",
            "dense_21 (Dense)             (None, 6)                 3078      \n",
            "_________________________________________________________________\n",
            "activation_51 (Activation)   (None, 6)                 0         \n",
            "=================================================================\n",
            "Total params: 14,511,526\n",
            "Trainable params: 14,511,206\n",
            "Non-trainable params: 320\n",
            "_________________________________________________________________\n",
            "None\n"
          ]
        }
      ],
      "source": [
        "model_name = 'Modelo_02'\n",
        "\n",
        "input_shape = (WINDOW_LENGTH,) + INPUT_SHAPE\n",
        "\n",
        "model = Sequential()\n",
        "\n",
        "print(K.image_data_format())\n",
        "\n",
        "if K.image_data_format() == 'channels_last':\n",
        "    # (width, height, channels)\n",
        "    model.add(Permute((2, 3, 1), input_shape=input_shape))\n",
        "elif K.image_data_format() == 'channels_first':\n",
        "    # (channels, width, height)\n",
        "    model.add(Permute((1, 2, 3), input_shape=input_shape))\n",
        "else:\n",
        "    raise RuntimeError('Unknown image_dim_ordering.')\n",
        "\n",
        "model.add(Convolution2D(32, (3, 3), padding='same'))\n",
        "model.add(Activation('relu'))\n",
        "model.add(BatchNormalization())\n",
        "model.add(MaxPooling2D())\n",
        "\n",
        "model.add(Convolution2D(64, (3, 3), padding='same'))\n",
        "model.add(Activation('relu'))\n",
        "model.add(BatchNormalization())\n",
        "model.add(MaxPooling2D())\n",
        "\n",
        "model.add(Convolution2D(64, (3, 3), padding='same'))\n",
        "model.add(Activation('relu'))\n",
        "model.add(BatchNormalization())\n",
        "\n",
        "model.add(Flatten())\n",
        "model.add(Dense(512))\n",
        "model.add(Activation('relu'))\n",
        "model.add(Dense(nb_actions))\n",
        "model.add(Activation('linear'))\n",
        "\n",
        "print(model.summary())"
      ]
    },
    {
      "cell_type": "markdown",
      "metadata": {
        "id": "OB9-_5HPGb2b"
      },
      "source": [
        "2. Implementación de la solución DQN"
      ]
    },
    {
      "cell_type": "code",
      "execution_count": null,
      "metadata": {
        "id": "GwaTNt5rdng_"
      },
      "outputs": [],
      "source": [
        "memory = SequentialMemory(limit=MEMORY_SIZE, window_length=WINDOW_LENGTH)\n",
        "processor = AtariProcessor()"
      ]
    },
    {
      "cell_type": "code",
      "execution_count": null,
      "metadata": {
        "id": "OLONtFIOdng_"
      },
      "outputs": [],
      "source": [
        "policy = LinearAnnealedPolicy(EpsGreedyQPolicy(), attr='eps',\n",
        "                              value_max=1., value_min=.1,\n",
        "                              value_test=.05,\n",
        "                              nb_steps=SCHEDULER_STEPS)"
      ]
    },
    {
      "cell_type": "code",
      "execution_count": null,
      "metadata": {
        "id": "a7Eh0QKNdng_"
      },
      "outputs": [],
      "source": [
        "dqn = DQNAgent(model=model,\n",
        "               nb_actions=nb_actions,\n",
        "               policy=policy,\n",
        "               memory=memory,\n",
        "               processor=processor,\n",
        "               nb_steps_warmup=WARMUP_STEPS,       # Acumular memoria inicial\n",
        "               gamma=GAMMA,                        # Discount reward\n",
        "               target_model_update=MODEL_UPDATE,   # Actualización del modelo\n",
        "               train_interval=4)\n",
        "\n",
        "dqn.compile(Adam(learning_rate=LEARNING_RATE), metrics=['mae'])"
      ]
    },
    {
      "cell_type": "code",
      "execution_count": null,
      "metadata": {
        "id": "Rlyd8fn_dng_"
      },
      "outputs": [],
      "source": [
        "weights_filename = WEIGHTS_PATH + '/' + 'dqn_{}_weights_{}.h5f'.format(env_name, model_name)\n",
        "checkpoint_weights_filename = CHECKPOINT_PATH + 'dqn_' + env_name + '_weights_{step}.h5f'\n",
        "log_filename = LOGS_PATH + 'dqn_{}_log_{}.json'.format(env_name, model_name)\n",
        "\n",
        "callbacks = [ModelIntervalCheckpoint(checkpoint_weights_filename, interval=MODEL_CHECKPOINT_STEPS)]\n",
        "callbacks += [FileLogger(log_filename, interval=100)]\n",
        "\n",
        "dqn.fit(env, callbacks=callbacks, nb_steps=TRAIN_STEPS, log_interval=LOG_INTERVAL, visualize=False)\n",
        "\n",
        "dqn.save_weights(weights_filename, overwrite=True)"
      ]
    },
    {
      "cell_type": "code",
      "execution_count": null,
      "metadata": {
        "id": "G875_uacdnhA",
        "outputId": "68efd973-52e2-4545-c1ee-0ee783777b56"
      },
      "outputs": [
        {
          "name": "stdout",
          "output_type": "stream",
          "text": [
            "2083\n"
          ]
        },
        {
          "data": {
            "image/png": "[encoded data removed]",
            "text/plain": [
              "<Figure size 640x480 with 1 Axes>"
            ]
          },
          "metadata": {},
          "output_type": "display_data"
        }
      ],
      "source": [
        "graph_training(env_name, model_name, 'mean_q')"
      ]
    },
    {
      "cell_type": "code",
      "execution_count": null,
      "metadata": {
        "id": "pCD6FL_vdnhA",
        "outputId": "3ef74d1b-3eb3-403e-9de5-185f9d5a97b0"
      },
      "outputs": [
        {
          "name": "stdout",
          "output_type": "stream",
          "text": [
            "Testing for 10 episodes ...\n",
            "Episode 1: reward: 17.000, steps: 968\n",
            "Episode 2: reward: 17.000, steps: 971\n",
            "Episode 3: reward: 17.000, steps: 965\n",
            "Episode 4: reward: 17.000, steps: 959\n",
            "Episode 5: reward: 17.000, steps: 951\n",
            "Episode 6: reward: 17.000, steps: 961\n",
            "Episode 7: reward: 17.000, steps: 952\n",
            "Episode 8: reward: 17.000, steps: 973\n",
            "Episode 9: reward: 17.000, steps: 976\n",
            "Episode 10: reward: 17.000, steps: 977\n"
          ]
        }
      ],
      "source": [
        "# Testing part to calculate the mean reward\n",
        "weights_filename = 'dqn_{}_weights_{}.h5f'.format(env_name, model_name)\n",
        "dqn.load_weights(weights_filename)\n",
        "dqn.test(env, nb_episodes=10, visualize=False)"
      ]
    },
    {
      "cell_type": "markdown",
      "metadata": {
        "id": "-NAlu8b1Gb2b"
      },
      "source": [
        "3. Justificación de los parámetros seleccionados y de los resultados obtenidos"
      ]
    },
    {
      "cell_type": "markdown",
      "metadata": {
        "id": "bP-hYZ9hdnhA"
      },
      "source": [
        "La recompensa media obtenida es de **17,0**\n",
        "\n",
        "Se ha incluido un *Batch Normalization* tras cada capa convolucional.\n",
        "\n",
        "Viendo la gráfica de la media de la recompensa esperada a futuro vemos que tiene un incremento más constante pero más lento, de ahí que el resultado empeore respecto del modelo anterior. Es por esto que también que todos los resultados del test sean iguales."
      ]
    },
    {
      "cell_type": "markdown",
      "metadata": {
        "id": "gGQyovZHdnhA"
      },
      "source": [
        "- - -\n",
        "#### 3.1.3. Modelo 3"
      ]
    },
    {
      "cell_type": "code",
      "execution_count": null,
      "metadata": {
        "id": "DgbObpCfdnhA"
      },
      "outputs": [],
      "source": [
        "load_hyperparameters(0)"
      ]
    },
    {
      "cell_type": "markdown",
      "metadata": {
        "id": "4IPdgk0sdnhA"
      },
      "source": [
        "1. Implementación de la red neuronal"
      ]
    },
    {
      "cell_type": "code",
      "execution_count": null,
      "metadata": {
        "id": "4XvKjJlXdnhB",
        "outputId": "ce75548a-541c-4a29-fe3c-974b79f54564"
      },
      "outputs": [
        {
          "name": "stdout",
          "output_type": "stream",
          "text": [
            "channels_last\n",
            "Model: \"sequential_13\"\n",
            "_________________________________________________________________\n",
            "Layer (type)                 Output Shape              Param #   \n",
            "=================================================================\n",
            "permute_13 (Permute)         (None, 84, 84, 4)         0         \n",
            "_________________________________________________________________\n",
            "conv2d_36 (Conv2D)           (None, 84, 84, 32)        1184      \n",
            "_________________________________________________________________\n",
            "activation_52 (Activation)   (None, 84, 84, 32)        0         \n",
            "_________________________________________________________________\n",
            "dropout_12 (Dropout)         (None, 84, 84, 32)        0         \n",
            "_________________________________________________________________\n",
            "max_pooling2d_22 (MaxPooling (None, 42, 42, 32)        0         \n",
            "_________________________________________________________________\n",
            "conv2d_37 (Conv2D)           (None, 42, 42, 64)        18496     \n",
            "_________________________________________________________________\n",
            "activation_53 (Activation)   (None, 42, 42, 64)        0         \n",
            "_________________________________________________________________\n",
            "dropout_13 (Dropout)         (None, 42, 42, 64)        0         \n",
            "_________________________________________________________________\n",
            "max_pooling2d_23 (MaxPooling (None, 21, 21, 64)        0         \n",
            "_________________________________________________________________\n",
            "conv2d_38 (Conv2D)           (None, 21, 21, 64)        36928     \n",
            "_________________________________________________________________\n",
            "activation_54 (Activation)   (None, 21, 21, 64)        0         \n",
            "_________________________________________________________________\n",
            "dropout_14 (Dropout)         (None, 21, 21, 64)        0         \n",
            "_________________________________________________________________\n",
            "flatten_9 (Flatten)          (None, 28224)             0         \n",
            "_________________________________________________________________\n",
            "dense_22 (Dense)             (None, 512)               14451200  \n",
            "_________________________________________________________________\n",
            "activation_55 (Activation)   (None, 512)               0         \n",
            "_________________________________________________________________\n",
            "dense_23 (Dense)             (None, 6)                 3078      \n",
            "_________________________________________________________________\n",
            "activation_56 (Activation)   (None, 6)                 0         \n",
            "=================================================================\n",
            "Total params: 14,510,886\n",
            "Trainable params: 14,510,886\n",
            "Non-trainable params: 0\n",
            "_________________________________________________________________\n",
            "None\n"
          ]
        }
      ],
      "source": [
        "model_name = 'Modelo_03'\n",
        "\n",
        "input_shape = (WINDOW_LENGTH,) + INPUT_SHAPE\n",
        "\n",
        "model = Sequential()\n",
        "\n",
        "print(K.image_data_format())\n",
        "\n",
        "if K.image_data_format() == 'channels_last':\n",
        "    # (width, height, channels)\n",
        "    model.add(Permute((2, 3, 1), input_shape=input_shape))\n",
        "elif K.image_data_format() == 'channels_first':\n",
        "    # (channels, width, height)\n",
        "    model.add(Permute((1, 2, 3), input_shape=input_shape))\n",
        "else:\n",
        "    raise RuntimeError('Unknown image_dim_ordering.')\n",
        "\n",
        "model.add(Convolution2D(32, (3, 3), padding='same'))\n",
        "model.add(Activation('relu'))\n",
        "model.add(Dropout(0.2))\n",
        "model.add(MaxPooling2D())\n",
        "\n",
        "model.add(Convolution2D(64, (3, 3), padding='same'))\n",
        "model.add(Activation('relu'))\n",
        "model.add(Dropout(0.2))\n",
        "model.add(MaxPooling2D())\n",
        "\n",
        "model.add(Convolution2D(64, (3, 3), padding='same'))\n",
        "model.add(Activation('relu'))\n",
        "model.add(Dropout(0.2))\n",
        "\n",
        "model.add(Flatten())\n",
        "model.add(Dense(512))\n",
        "model.add(Activation('relu'))\n",
        "model.add(Dense(nb_actions))\n",
        "model.add(Activation('linear'))\n",
        "\n",
        "print(model.summary())"
      ]
    },
    {
      "cell_type": "markdown",
      "metadata": {
        "id": "tcZ14Dj-dnhB"
      },
      "source": [
        "2. Implementación de la solución DQN"
      ]
    },
    {
      "cell_type": "code",
      "execution_count": null,
      "metadata": {
        "id": "nbD-QBL7dnhB"
      },
      "outputs": [],
      "source": [
        "memory = SequentialMemory(limit=MEMORY_SIZE, window_length=WINDOW_LENGTH)\n",
        "processor = AtariProcessor()"
      ]
    },
    {
      "cell_type": "code",
      "execution_count": null,
      "metadata": {
        "id": "_iQWRgKIdnhB"
      },
      "outputs": [],
      "source": [
        "policy = LinearAnnealedPolicy(EpsGreedyQPolicy(), attr='eps',\n",
        "                              value_max=1., value_min=.1,\n",
        "                              value_test=.05,\n",
        "                              nb_steps=SCHEDULER_STEPS)"
      ]
    },
    {
      "cell_type": "code",
      "execution_count": null,
      "metadata": {
        "id": "u7P2FRkOdnhB"
      },
      "outputs": [],
      "source": [
        "dqn = DQNAgent(model=model,\n",
        "               nb_actions=nb_actions,\n",
        "               policy=policy,\n",
        "               memory=memory,\n",
        "               processor=processor,\n",
        "               nb_steps_warmup=WARMUP_STEPS,       # Acumular memoria inicial\n",
        "               gamma=GAMMA,                        # Discount reward\n",
        "               target_model_update=MODEL_UPDATE,   # Actualización del modelo\n",
        "               train_interval=4)\n",
        "\n",
        "dqn.compile(Adam(learning_rate=LEARNING_RATE), metrics=['mae'])"
      ]
    },
    {
      "cell_type": "code",
      "execution_count": null,
      "metadata": {
        "id": "o_jbEhBXdnhB"
      },
      "outputs": [],
      "source": [
        "weights_filename = WEIGHTS_PATH + '/' + 'dqn_{}_weights_{}.h5f'.format(env_name, model_name)\n",
        "checkpoint_weights_filename = CHECKPOINT_PATH + 'dqn_' + env_name + '_weights_{step}.h5f'\n",
        "log_filename = LOGS_PATH + 'dqn_{}_log_{}.json'.format(env_name, model_name)\n",
        "\n",
        "callbacks = [ModelIntervalCheckpoint(checkpoint_weights_filename, interval=MODEL_CHECKPOINT_STEPS)]\n",
        "callbacks += [FileLogger(log_filename, interval=100)]\n",
        "\n",
        "dqn.fit(env, callbacks=callbacks, nb_steps=TRAIN_STEPS, log_interval=LOG_INTERVAL, visualize=False)\n",
        "\n",
        "dqn.save_weights(weights_filename, overwrite=True)"
      ]
    },
    {
      "cell_type": "code",
      "execution_count": null,
      "metadata": {
        "id": "DtafSIwPdnhB",
        "outputId": "4eaad99c-5e61-4e35-83c8-02757eaac23f"
      },
      "outputs": [
        {
          "name": "stdout",
          "output_type": "stream",
          "text": [
            "2446\n"
          ]
        },
        {
          "data": {
            "image/png": "[encoded data removed]",
            "text/plain": [
              "<Figure size 640x480 with 1 Axes>"
            ]
          },
          "metadata": {},
          "output_type": "display_data"
        }
      ],
      "source": [
        "graph_training(env_name, model_name, 'mean_q')"
      ]
    },
    {
      "cell_type": "code",
      "execution_count": null,
      "metadata": {
        "id": "sOemZq_ldnhC",
        "outputId": "d3fde2a0-45fd-452b-9676-0dc20b829f51"
      },
      "outputs": [
        {
          "name": "stdout",
          "output_type": "stream",
          "text": [
            "Testing for 10 episodes ...\n",
            "Episode 1: reward: 12.000, steps: 840\n",
            "Episode 2: reward: 12.000, steps: 845\n",
            "Episode 3: reward: 12.000, steps: 838\n",
            "Episode 4: reward: 12.000, steps: 837\n",
            "Episode 5: reward: 16.000, steps: 952\n",
            "Episode 6: reward: 11.000, steps: 814\n",
            "Episode 7: reward: 11.000, steps: 809\n",
            "Episode 8: reward: 12.000, steps: 823\n",
            "Episode 9: reward: 12.000, steps: 841\n",
            "Episode 10: reward: 12.000, steps: 860\n"
          ]
        }
      ],
      "source": [
        "# Testing part to calculate the mean reward\n",
        "weights_filename = 'dqn_{}_weights_{}.h5f'.format(env_name, model_name)\n",
        "dqn.load_weights(weights_filename)\n",
        "dqn.test(env, nb_episodes=10, visualize=False)"
      ]
    },
    {
      "cell_type": "markdown",
      "metadata": {
        "id": "45eVWMT2dnhC"
      },
      "source": [
        "3. Justificación de los parámetros seleccionados y de los resultados obtenidos"
      ]
    },
    {
      "cell_type": "markdown",
      "metadata": {
        "id": "B4-tyk6fdnhC"
      },
      "source": [
        "La recompensa media obtenida es de **12,2**\n",
        "\n",
        "Se ha incluido *Dropout* del 20% en lugar de *Batch Normalization* tras cada capa convolucional.\n",
        "\n",
        "Viendo la gráfica de la media de la recompensa esperada a futuro vemos que alcanza valores menores, de ahí que el resultado empeore respecto del modelo anterior."
      ]
    },
    {
      "cell_type": "markdown",
      "metadata": {
        "id": "LgPsTpItdnhC"
      },
      "source": [
        "- - -\n",
        "#### 3.1.4. Modelo 4"
      ]
    },
    {
      "cell_type": "code",
      "execution_count": null,
      "metadata": {
        "id": "bXBRIO6AdnhC"
      },
      "outputs": [],
      "source": [
        "load_hyperparameters(0)"
      ]
    },
    {
      "cell_type": "markdown",
      "metadata": {
        "id": "vr4FF_JydnhD"
      },
      "source": [
        "1. Implementación de la red neuronal"
      ]
    },
    {
      "cell_type": "code",
      "execution_count": null,
      "metadata": {
        "id": "QbJ7OIukdnhD",
        "outputId": "ac15a489-b9e1-4319-f08e-b062be7cf7da"
      },
      "outputs": [
        {
          "name": "stdout",
          "output_type": "stream",
          "text": [
            "channels_last\n",
            "WARNING:tensorflow:From c:\\Users\\Maelstrom\\OneDrive\\Master Inteligencia Artificial\\MIAR\\08 Aprendizaje por Refuerzo\\Actividades\\Proyecto_Programacion\\Proyecto\\lib\\site-packages\\tensorflow\\python\\keras\\layers\\normalization.py:534: _colocate_with (from tensorflow.python.framework.ops) is deprecated and will be removed in a future version.\n",
            "Instructions for updating:\n",
            "Colocations handled automatically by placer.\n",
            "Model: \"sequential\"\n",
            "_________________________________________________________________\n",
            "Layer (type)                 Output Shape              Param #   \n",
            "=================================================================\n",
            "permute (Permute)            (None, 84, 84, 4)         0         \n",
            "_________________________________________________________________\n",
            "conv2d (Conv2D)              (None, 84, 84, 32)        1184      \n",
            "_________________________________________________________________\n",
            "max_pooling2d (MaxPooling2D) (None, 42, 42, 32)        0         \n",
            "_________________________________________________________________\n",
            "leaky_re_lu (LeakyReLU)      (None, 42, 42, 32)        0         \n",
            "_________________________________________________________________\n",
            "batch_normalization (BatchNo (None, 42, 42, 32)        128       \n",
            "_________________________________________________________________\n",
            "dropout (Dropout)            (None, 42, 42, 32)        0         \n",
            "_________________________________________________________________\n",
            "conv2d_1 (Conv2D)            (None, 42, 42, 64)        18496     \n",
            "_________________________________________________________________\n",
            "max_pooling2d_1 (MaxPooling2 (None, 21, 21, 64)        0         \n",
            "_________________________________________________________________\n",
            "leaky_re_lu_1 (LeakyReLU)    (None, 21, 21, 64)        0         \n",
            "_________________________________________________________________\n",
            "batch_normalization_1 (Batch (None, 21, 21, 64)        256       \n",
            "_________________________________________________________________\n",
            "dropout_1 (Dropout)          (None, 21, 21, 64)        0         \n",
            "_________________________________________________________________\n",
            "conv2d_2 (Conv2D)            (None, 21, 21, 64)        36928     \n",
            "_________________________________________________________________\n",
            "max_pooling2d_2 (MaxPooling2 (None, 21, 21, 64)        0         \n",
            "_________________________________________________________________\n",
            "leaky_re_lu_2 (LeakyReLU)    (None, 21, 21, 64)        0         \n",
            "_________________________________________________________________\n",
            "batch_normalization_2 (Batch (None, 21, 21, 64)        256       \n",
            "_________________________________________________________________\n",
            "dropout_2 (Dropout)          (None, 21, 21, 64)        0         \n",
            "_________________________________________________________________\n",
            "global_average_pooling2d (Gl (None, 64)                0         \n",
            "_________________________________________________________________\n",
            "dense (Dense)                (None, 6)                 390       \n",
            "_________________________________________________________________\n",
            "activation (Activation)      (None, 6)                 0         \n",
            "=================================================================\n",
            "Total params: 57,638\n",
            "Trainable params: 57,318\n",
            "Non-trainable params: 320\n",
            "_________________________________________________________________\n",
            "None\n"
          ]
        }
      ],
      "source": [
        "model_name = 'Modelo_04'\n",
        "\n",
        "input_shape = (WINDOW_LENGTH,) + INPUT_SHAPE\n",
        "\n",
        "model = Sequential()\n",
        "\n",
        "print(K.image_data_format())\n",
        "\n",
        "if K.image_data_format() == 'channels_last':\n",
        "    # (width, height, channels)\n",
        "    model.add(Permute((2, 3, 1), input_shape=input_shape))\n",
        "elif K.image_data_format() == 'channels_first':\n",
        "    # (channels, width, height)\n",
        "    model.add(Permute((1, 2, 3), input_shape=input_shape))\n",
        "else:\n",
        "    raise RuntimeError('Unknown image_dim_ordering.')\n",
        "\n",
        "# Block 1\n",
        "model.add(Convolution2D(32, (3, 3), padding='same', kernel_regularizer=l2(0.001)))\n",
        "model.add(MaxPooling2D((2, 2)))\n",
        "model.add(LeakyReLU())\n",
        "model.add(BatchNormalization())\n",
        "model.add(Dropout(0.2))\n",
        "\n",
        "# Block 2\n",
        "model.add(Convolution2D(64, (3, 3), padding='same', kernel_regularizer=l2(0.001)))\n",
        "model.add(MaxPooling2D((2, 2)))\n",
        "model.add(LeakyReLU())\n",
        "model.add(BatchNormalization())\n",
        "model.add(Dropout(0.2))\n",
        "\n",
        "# Block 3\n",
        "model.add(Convolution2D(64, (3, 3), padding='same', kernel_regularizer=l2(0.001)))\n",
        "model.add(MaxPooling2D((1, 1)))\n",
        "model.add(LeakyReLU())\n",
        "model.add(BatchNormalization())\n",
        "model.add(Dropout(0.2))\n",
        "\n",
        "# Top Model\n",
        "model.add(GlobalAveragePooling2D())\n",
        "model.add(Dense(nb_actions))\n",
        "model.add(Activation('linear'))\n",
        "\n",
        "print(model.summary())"
      ]
    },
    {
      "cell_type": "markdown",
      "metadata": {
        "id": "LR-AzGhrdnhD"
      },
      "source": [
        "2. Implementación de la solución DQN"
      ]
    },
    {
      "cell_type": "code",
      "execution_count": null,
      "metadata": {
        "id": "O5BU-YEzdnhD"
      },
      "outputs": [],
      "source": [
        "memory = SequentialMemory(limit=MEMORY_SIZE, window_length=WINDOW_LENGTH)\n",
        "processor = AtariProcessor()"
      ]
    },
    {
      "cell_type": "code",
      "execution_count": null,
      "metadata": {
        "id": "z6Dy60XCdnhD"
      },
      "outputs": [],
      "source": [
        "policy = LinearAnnealedPolicy(EpsGreedyQPolicy(), attr='eps',\n",
        "                              value_max=1., value_min=.1,\n",
        "                              value_test=.05,\n",
        "                              nb_steps=SCHEDULER_STEPS)"
      ]
    },
    {
      "cell_type": "code",
      "execution_count": null,
      "metadata": {
        "id": "1cVXLimAdnhD"
      },
      "outputs": [],
      "source": [
        "dqn = DQNAgent(model=model,\n",
        "               nb_actions=nb_actions,\n",
        "               policy=policy,\n",
        "               memory=memory,\n",
        "               processor=processor,\n",
        "               nb_steps_warmup=WARMUP_STEPS,       # Acumular memoria inicial\n",
        "               gamma=GAMMA,                        # Discount reward\n",
        "               target_model_update=MODEL_UPDATE,   # Actualización del modelo\n",
        "               train_interval=4)\n",
        "\n",
        "dqn.compile(Adam(learning_rate=LEARNING_RATE), metrics=['mae'])"
      ]
    },
    {
      "cell_type": "code",
      "execution_count": null,
      "metadata": {
        "id": "MPWsLPy4dnhE"
      },
      "outputs": [],
      "source": [
        "weights_filename = WEIGHTS_PATH + '/' + 'dqn_{}_weights_{}.h5f'.format(env_name, model_name)\n",
        "checkpoint_weights_filename = CHECKPOINT_PATH + 'dqn_' + env_name + '_weights_{step}.h5f'\n",
        "log_filename = LOGS_PATH + 'dqn_{}_log_{}.json'.format(env_name, model_name)\n",
        "\n",
        "callbacks = [ModelIntervalCheckpoint(checkpoint_weights_filename, interval=MODEL_CHECKPOINT_STEPS)]\n",
        "callbacks += [FileLogger(log_filename, interval=100)]\n",
        "\n",
        "dqn.fit(env, callbacks=callbacks, nb_steps=TRAIN_STEPS, log_interval=LOG_INTERVAL, visualize=False)\n",
        "\n",
        "dqn.save_weights(weights_filename, overwrite=True)"
      ]
    },
    {
      "cell_type": "code",
      "execution_count": null,
      "metadata": {
        "id": "Dnft1uEkdnhE",
        "outputId": "53056f0c-ce6a-4984-f7e4-8ce0290c2e62"
      },
      "outputs": [
        {
          "name": "stdout",
          "output_type": "stream",
          "text": [
            "1001\n"
          ]
        },
        {
          "data": {
            "image/png": "[encoded data removed]",
            "text/plain": [
              "<Figure size 640x480 with 1 Axes>"
            ]
          },
          "metadata": {},
          "output_type": "display_data"
        }
      ],
      "source": [
        "graph_training(env_name, model_name, 'mean_q')"
      ]
    },
    {
      "cell_type": "code",
      "execution_count": null,
      "metadata": {
        "id": "-WAPdJnKdnhE",
        "outputId": "9ebeaad1-8684-4a40-ca7a-dd4164115cac"
      },
      "outputs": [
        {
          "name": "stdout",
          "output_type": "stream",
          "text": [
            "Testing for 10 episodes ...\n",
            "Episode 1: reward: 15.000, steps: 1211\n",
            "Episode 2: reward: 16.000, steps: 898\n",
            "Episode 3: reward: 18.000, steps: 1128\n",
            "Episode 4: reward: 21.000, steps: 1456\n",
            "Episode 5: reward: 15.000, steps: 767\n",
            "Episode 6: reward: 17.000, steps: 1122\n",
            "Episode 7: reward: 14.000, steps: 678\n",
            "Episode 8: reward: 19.000, steps: 987\n",
            "Episode 9: reward: 18.000, steps: 1231\n",
            "Episode 10: reward: 20.000, steps: 1023\n"
          ]
        }
      ],
      "source": [
        "# Testing part to calculate the mean reward\n",
        "weights_filename = 'dqn_{}_weights_{}.h5f'.format(env_name, model_name)\n",
        "dqn.load_weights(weights_filename)\n",
        "dqn.test(env, nb_episodes=10, visualize=False)"
      ]
    },
    {
      "cell_type": "markdown",
      "metadata": {
        "id": "o3UM4K2AdnhE"
      },
      "source": [
        "3. Justificación de los parámetros seleccionados y de los resultados obtenidos"
      ]
    },
    {
      "cell_type": "markdown",
      "metadata": {
        "id": "iPQ4pQW1dnhE"
      },
      "source": [
        "La recompensa media obtenida es de **17,3**\n",
        "\n",
        "Se ha incluido una regularización *L2* en cada capa convolucional, con una función de pérdida *LeayReLU* (en lugar de *ReLU* como hasta ahora). También se ha incluido *Batch Normalization* y *Dropout* del 20% tras cada capa convolucional.\n",
        "\n",
        "Este modelo tan complejo, además de tner un entrenamiento mucho más lento, tampoco llega a alcanzar la puntuación media mínima exigida de 20 ptos."
      ]
    },
    {
      "cell_type": "markdown",
      "metadata": {
        "id": "zzGO32ykdnhE"
      },
      "source": [
        "---\n",
        "### 3.2. Modificando el algorítmo de Aprendizaje por refuerzo"
      ]
    },
    {
      "cell_type": "markdown",
      "metadata": {
        "id": "Gm88-g4HdnhF"
      },
      "source": [
        "- - -\n",
        "#### 3.2.1. Modelo 5"
      ]
    },
    {
      "cell_type": "code",
      "execution_count": null,
      "metadata": {
        "id": "mituYB6ZdnhF"
      },
      "outputs": [],
      "source": [
        "load_hyperparameters(2)"
      ]
    },
    {
      "cell_type": "markdown",
      "metadata": {
        "id": "vAT7CAfzdnhF"
      },
      "source": [
        "1. Implementación de la red neuronal (misma arquitectura del Modelo 1 cambiando los hiperparámetros del algoritmo de ApR)"
      ]
    },
    {
      "cell_type": "code",
      "execution_count": null,
      "metadata": {
        "id": "qT4P0TgJdnhF",
        "outputId": "76182f78-43d9-43f0-954e-8b519f4040cd"
      },
      "outputs": [
        {
          "name": "stdout",
          "output_type": "stream",
          "text": [
            "channels_last\n",
            "Model: \"sequential_15\"\n",
            "_________________________________________________________________\n",
            "Layer (type)                 Output Shape              Param #   \n",
            "=================================================================\n",
            "permute_15 (Permute)         (None, 84, 84, 4)         0         \n",
            "_________________________________________________________________\n",
            "conv2d_42 (Conv2D)           (None, 20, 20, 32)        8224      \n",
            "_________________________________________________________________\n",
            "activation_58 (Activation)   (None, 20, 20, 32)        0         \n",
            "_________________________________________________________________\n",
            "conv2d_43 (Conv2D)           (None, 9, 9, 64)          32832     \n",
            "_________________________________________________________________\n",
            "activation_59 (Activation)   (None, 9, 9, 64)          0         \n",
            "_________________________________________________________________\n",
            "conv2d_44 (Conv2D)           (None, 7, 7, 64)          36928     \n",
            "_________________________________________________________________\n",
            "activation_60 (Activation)   (None, 7, 7, 64)          0         \n",
            "_________________________________________________________________\n",
            "flatten_10 (Flatten)         (None, 3136)              0         \n",
            "_________________________________________________________________\n",
            "dense_25 (Dense)             (None, 512)               1606144   \n",
            "_________________________________________________________________\n",
            "activation_61 (Activation)   (None, 512)               0         \n",
            "_________________________________________________________________\n",
            "dense_26 (Dense)             (None, 6)                 3078      \n",
            "_________________________________________________________________\n",
            "activation_62 (Activation)   (None, 6)                 0         \n",
            "=================================================================\n",
            "Total params: 1,687,206\n",
            "Trainable params: 1,687,206\n",
            "Non-trainable params: 0\n",
            "_________________________________________________________________\n"
          ]
        }
      ],
      "source": [
        "model_name = 'Modelo_05'\n",
        "\n",
        "input_shape = (WINDOW_LENGTH,) + INPUT_SHAPE\n",
        "\n",
        "model = Sequential()\n",
        "\n",
        "print(K.image_data_format())\n",
        "\n",
        "if K.image_data_format() == 'channels_last':\n",
        "    # (width, height, channels)\n",
        "    model.add(Permute((2, 3, 1), input_shape=input_shape))\n",
        "elif K.image_data_format() == 'channels_first':\n",
        "    # (channels, width, height)\n",
        "    model.add(Permute((1, 2, 3), input_shape=input_shape))\n",
        "else:\n",
        "    raise RuntimeError('Unknown image_dim_ordering.')\n",
        "\n",
        "model.add(Convolution2D(32, (8, 8), strides=(4, 4)))\n",
        "model.add(Activation('relu'))\n",
        "\n",
        "model.add(Convolution2D(64, (4, 4), strides=(2, 2)))\n",
        "model.add(Activation('relu'))\n",
        "\n",
        "model.add(Convolution2D(64, (3, 3), strides=(1, 1)))\n",
        "model.add(Activation('relu'))\n",
        "\n",
        "model.add(Flatten())\n",
        "model.add(Dense(512))\n",
        "model.add(Activation('relu'))\n",
        "\n",
        "model.add(Dense(nb_actions))\n",
        "model.add(Activation('linear'))\n",
        "model.summary()"
      ]
    },
    {
      "cell_type": "markdown",
      "metadata": {
        "id": "0k1ANPfqdnhF"
      },
      "source": [
        "2. Implementación de la solución DQN"
      ]
    },
    {
      "cell_type": "code",
      "execution_count": null,
      "metadata": {
        "id": "eJSjlZpFdnhF"
      },
      "outputs": [],
      "source": [
        "memory = SequentialMemory(limit=MEMORY_SIZE, window_length=WINDOW_LENGTH)\n",
        "processor = AtariProcessor()"
      ]
    },
    {
      "cell_type": "code",
      "execution_count": null,
      "metadata": {
        "id": "9VDaa8tVdnhF"
      },
      "outputs": [],
      "source": [
        "policy = LinearAnnealedPolicy(EpsGreedyQPolicy(), attr='eps',\n",
        "                              value_max=1., value_min=.1,\n",
        "                              value_test=.05,\n",
        "                              nb_steps=SCHEDULER_STEPS)"
      ]
    },
    {
      "cell_type": "code",
      "execution_count": null,
      "metadata": {
        "id": "MGt9-KjtdnhF"
      },
      "outputs": [],
      "source": [
        "dqn = DQNAgent(model=model,\n",
        "               nb_actions=nb_actions,\n",
        "               policy=policy,\n",
        "               memory=memory,\n",
        "               processor=processor,\n",
        "               nb_steps_warmup=WARMUP_STEPS,       # Acumular memoria inicial\n",
        "               gamma=GAMMA,                        # Discount reward\n",
        "               target_model_update=MODEL_UPDATE,   # Actualización del modelo\n",
        "               train_interval=4)\n",
        "\n",
        "dqn.compile(Adam(learning_rate=LEARNING_RATE), metrics=['mae'])"
      ]
    },
    {
      "cell_type": "code",
      "execution_count": null,
      "metadata": {
        "id": "KGN_gR1mdnhG"
      },
      "outputs": [],
      "source": [
        "weights_filename = WEIGHTS_PATH + '/' + 'dqn_{}_weights_{}.h5f'.format(env_name, model_name)\n",
        "checkpoint_weights_filename = CHECKPOINT_PATH + 'dqn_' + env_name + '_weights_{step}.h5f'\n",
        "log_filename = LOGS_PATH + 'dqn_{}_log_{}.json'.format(env_name, model_name)\n",
        "\n",
        "callbacks = [ModelIntervalCheckpoint(checkpoint_weights_filename, interval=MODEL_CHECKPOINT_STEPS)]\n",
        "callbacks += [FileLogger(log_filename, interval=100)]\n",
        "\n",
        "dqn.fit(env, callbacks=callbacks, nb_steps=TRAIN_STEPS, log_interval=LOG_INTERVAL, visualize=False)\n",
        "\n",
        "dqn.save_weights(weights_filename, overwrite=True)"
      ]
    },
    {
      "cell_type": "code",
      "execution_count": null,
      "metadata": {
        "id": "p0O_X0isdnhG",
        "outputId": "035f01a6-4b58-4e3f-ca90-2a5d1b5da5d7"
      },
      "outputs": [
        {
          "name": "stdout",
          "output_type": "stream",
          "text": [
            "2396\n"
          ]
        },
        {
          "data": {
            "image/png": "[encoded data removed]",
            "text/plain": [
              "<Figure size 640x480 with 1 Axes>"
            ]
          },
          "metadata": {},
          "output_type": "display_data"
        }
      ],
      "source": [
        "graph_training(env_name, model_name, 'mean_q')"
      ]
    },
    {
      "cell_type": "code",
      "execution_count": null,
      "metadata": {
        "id": "A12ILAyadnhG",
        "outputId": "3cd4f15a-b0fd-43c1-f966-a0e60484ceb3"
      },
      "outputs": [
        {
          "name": "stdout",
          "output_type": "stream",
          "text": [
            "Testing for 10 episodes ...\n",
            "Episode 1: reward: 21.000, steps: 942\n",
            "Episode 2: reward: 22.000, steps: 816\n",
            "Episode 3: reward: 10.000, steps: 463\n",
            "Episode 4: reward: 24.000, steps: 1240\n",
            "Episode 5: reward: 19.000, steps: 615\n",
            "Episode 6: reward: 15.000, steps: 913\n",
            "Episode 7: reward: 21.000, steps: 1082\n",
            "Episode 8: reward: 23.000, steps: 825\n",
            "Episode 9: reward: 22.000, steps: 981\n",
            "Episode 10: reward: 25.000, steps: 856"
          ]
        }
      ],
      "source": [
        "# Testing part to calculate the mean reward\n",
        "weights_filename = WEIGHTS_PATH + '/' + 'dqn_{}_weights_{}.h5f'.format(env_name, model_name)\n",
        "dqn.load_weights(weights_filename)\n",
        "dqn.test(env, nb_episodes=10, visualize=False)"
      ]
    },
    {
      "cell_type": "markdown",
      "metadata": {
        "id": "ZG67oi8OdnhG"
      },
      "source": [
        "3. Justificación de los parámetros seleccionados y de los resultados obtenidos"
      ]
    },
    {
      "cell_type": "markdown",
      "metadata": {
        "id": "SMkIDXnadnhG"
      },
      "source": [
        "La recompensa media obtenida es de: <span style=\"color:red\">**24,1**</span>\n",
        "\n",
        "Una vez hemos explorado distintas soluciones del modelo de red neuronal del agente sin obtener mejores resultados, pasamos a probar diferentes hiperparámetros en el algorítmo de aprendizaje por refuerzo. En este caso, aumentando el warmup inicial a 500.000 steps, se mejora la puntuación, incluso alcanzado sobradamente la puntuacion mínima pedida en el enunciado. Con este cambio se ha aumentado x10 la exploración inicial aleatoria del entorno. Al ser un algorítmo *off-policy*, estás serán tenidas en cuenta durante el proceso de entrenamiento hasta que se llene la memoria con transiciones de políticas posteriores."
      ]
    },
    {
      "cell_type": "markdown",
      "metadata": {
        "id": "C3_JhyFCdnhG"
      },
      "source": [
        "- - -\n",
        "#### 3.2.2. Modelo 6"
      ]
    },
    {
      "cell_type": "code",
      "execution_count": null,
      "metadata": {
        "id": "sWFtsv6LdnhH"
      },
      "outputs": [],
      "source": [
        "load_hyperparameters(10)"
      ]
    },
    {
      "cell_type": "markdown",
      "metadata": {
        "id": "F4ZSMCPbdnhH"
      },
      "source": [
        "1. Implementación de la red neuronal (misma arquitectura del Modelo 1 cambiando los hiperparámetros del algoritmo de ApR)"
      ]
    },
    {
      "cell_type": "code",
      "execution_count": null,
      "metadata": {
        "id": "67ghIykZdnhH",
        "outputId": "20880884-4531-4d56-e5f2-faf9ccc7634b"
      },
      "outputs": [
        {
          "name": "stdout",
          "output_type": "stream",
          "text": [
            "channels_last\n",
            "Model: \"sequential_20\"\n",
            "_________________________________________________________________\n",
            "Layer (type)                 Output Shape              Param #   \n",
            "=================================================================\n",
            "permute_20 (Permute)         (None, 84, 84, 4)         0         \n",
            "_________________________________________________________________\n",
            "conv2d_57 (Conv2D)           (None, 20, 20, 32)        8224      \n",
            "_________________________________________________________________\n",
            "activation_83 (Activation)   (None, 20, 20, 32)        0         \n",
            "_________________________________________________________________\n",
            "conv2d_58 (Conv2D)           (None, 9, 9, 64)          32832     \n",
            "_________________________________________________________________\n",
            "activation_84 (Activation)   (None, 9, 9, 64)          0         \n",
            "_________________________________________________________________\n",
            "conv2d_59 (Conv2D)           (None, 7, 7, 64)          36928     \n",
            "_________________________________________________________________\n",
            "activation_85 (Activation)   (None, 7, 7, 64)          0         \n",
            "_________________________________________________________________\n",
            "flatten_15 (Flatten)         (None, 3136)              0         \n",
            "_________________________________________________________________\n",
            "dense_36 (Dense)             (None, 512)               1606144   \n",
            "_________________________________________________________________\n",
            "activation_86 (Activation)   (None, 512)               0         \n",
            "_________________________________________________________________\n",
            "dense_37 (Dense)             (None, 6)                 3078      \n",
            "_________________________________________________________________\n",
            "activation_87 (Activation)   (None, 6)                 0         \n",
            "=================================================================\n",
            "Total params: 1,687,206\n",
            "Trainable params: 1,687,206\n",
            "Non-trainable params: 0\n",
            "_________________________________________________________________\n"
          ]
        }
      ],
      "source": [
        "model_name = 'Modelo_06'\n",
        "\n",
        "input_shape = (WINDOW_LENGTH,) + INPUT_SHAPE\n",
        "\n",
        "model = Sequential()\n",
        "\n",
        "print(K.image_data_format())\n",
        "\n",
        "if K.image_data_format() == 'channels_last':\n",
        "    # (width, height, channels)\n",
        "    model.add(Permute((2, 3, 1), input_shape=input_shape))\n",
        "elif K.image_data_format() == 'channels_first':\n",
        "    # (channels, width, height)\n",
        "    model.add(Permute((1, 2, 3), input_shape=input_shape))\n",
        "else:\n",
        "    raise RuntimeError('Unknown image_dim_ordering.')\n",
        "\n",
        "model.add(Convolution2D(32, (8, 8), strides=(4, 4)))\n",
        "model.add(Activation('relu'))\n",
        "\n",
        "model.add(Convolution2D(64, (4, 4), strides=(2, 2)))\n",
        "model.add(Activation('relu'))\n",
        "\n",
        "model.add(Convolution2D(64, (3, 3), strides=(1, 1)))\n",
        "model.add(Activation('relu'))\n",
        "\n",
        "model.add(Flatten())\n",
        "model.add(Dense(512))\n",
        "model.add(Activation('relu'))\n",
        "\n",
        "model.add(Dense(nb_actions))\n",
        "model.add(Activation('linear'))\n",
        "model.summary()"
      ]
    },
    {
      "cell_type": "markdown",
      "metadata": {
        "id": "QzHFz1uXdnhH"
      },
      "source": [
        "2. Implementación de la solución DQN"
      ]
    },
    {
      "cell_type": "code",
      "execution_count": null,
      "metadata": {
        "id": "h4vT6JGNdnhH"
      },
      "outputs": [],
      "source": [
        "memory = SequentialMemory(limit=MEMORY_SIZE, window_length=WINDOW_LENGTH)\n",
        "processor = AtariProcessor()"
      ]
    },
    {
      "cell_type": "code",
      "execution_count": null,
      "metadata": {
        "id": "U0n1odFDdnhH"
      },
      "outputs": [],
      "source": [
        "policy = LinearAnnealedPolicy(EpsGreedyQPolicy(), attr='eps',\n",
        "                              value_max=1., value_min=.1,\n",
        "                              value_test=.05,\n",
        "                              nb_steps=SCHEDULER_STEPS)"
      ]
    },
    {
      "cell_type": "code",
      "execution_count": null,
      "metadata": {
        "id": "SLc6w8XbdnhH"
      },
      "outputs": [],
      "source": [
        "dqn = DQNAgent(model=model,\n",
        "               nb_actions=nb_actions,\n",
        "               policy=policy,\n",
        "               memory=memory,\n",
        "               processor=processor,\n",
        "               nb_steps_warmup=WARMUP_STEPS,       # Acumular memoria inicial\n",
        "               gamma=GAMMA,                        # Discount reward\n",
        "               target_model_update=MODEL_UPDATE,   # Actualización del modelo\n",
        "               train_interval=4)\n",
        "\n",
        "dqn.compile(Adam(learning_rate=LEARNING_RATE), metrics=['mae'])"
      ]
    },
    {
      "cell_type": "code",
      "execution_count": null,
      "metadata": {
        "id": "3Dxy6KgQdnhI"
      },
      "outputs": [],
      "source": [
        "weights_filename = WEIGHTS_PATH + '/' + 'dqn_{}_weights_{}.h5f'.format(env_name, model_name)\n",
        "checkpoint_weights_filename = CHECKPOINT_PATH + 'dqn_' + env_name + '_weights_{step}.h5f'\n",
        "log_filename = LOGS_PATH + 'dqn_{}_log_{}.json'.format(env_name, model_name)\n",
        "\n",
        "callbacks = [ModelIntervalCheckpoint(checkpoint_weights_filename, interval=MODEL_CHECKPOINT_STEPS)]\n",
        "callbacks += [FileLogger(log_filename, interval=100)]\n",
        "\n",
        "dqn.fit(env, callbacks=callbacks, nb_steps=TRAIN_STEPS, log_interval=LOG_INTERVAL, visualize=False)\n",
        "\n",
        "dqn.save_weights(weights_filename, overwrite=True)"
      ]
    },
    {
      "cell_type": "code",
      "execution_count": null,
      "metadata": {
        "id": "PowlmY4FdnhI",
        "outputId": "cdd1dc9d-0549-47b7-9e7b-5baba7c3c540"
      },
      "outputs": [
        {
          "name": "stdout",
          "output_type": "stream",
          "text": [
            "2263\n"
          ]
        },
        {
          "data": {
            "image/png": "[encoded data removed]",
            "text/plain": [
              "<Figure size 640x480 with 1 Axes>"
            ]
          },
          "metadata": {},
          "output_type": "display_data"
        }
      ],
      "source": [
        "graph_training(env_name, model_name, 'mean_q')"
      ]
    },
    {
      "cell_type": "code",
      "execution_count": null,
      "metadata": {
        "id": "6NWw_XUcdnhI",
        "outputId": "93f63536-e324-4ff0-fe31-9ecfbfd07b17"
      },
      "outputs": [
        {
          "name": "stdout",
          "output_type": "stream",
          "text": [
            "Testing for 10 episodes ...\n",
            "Episode 1: reward: 12.000, steps: 670\n",
            "Episode 2: reward: 20.000, steps: 902\n",
            "Episode 3: reward: 13.000, steps: 633\n",
            "Episode 4: reward: 17.000, steps: 978\n",
            "Episode 5: reward: 14.000, steps: 621\n",
            "Episode 6: reward: 21.000, steps: 869\n",
            "Episode 7: reward: 17.000, steps: 833\n",
            "Episode 8: reward: 18.000, steps: 796\n",
            "Episode 9: reward: 27.000, steps: 944\n",
            "Episode 10: reward: 12.000, steps: 670\n"
          ]
        }
      ],
      "source": [
        "# Testing part to calculate the mean reward\n",
        "weights_filename = 'dqn_{}_weights_{}.h5f'.format(env_name, model_name)\n",
        "dqn.load_weights(weights_filename)\n",
        "dqn.test(env, nb_episodes=10, visualize=False)"
      ]
    },
    {
      "cell_type": "markdown",
      "metadata": {
        "id": "MvR9qumDdnhI"
      },
      "source": [
        "3. Justificación de los parámetros seleccionados y de los resultados obtenidos"
      ]
    },
    {
      "cell_type": "markdown",
      "metadata": {
        "id": "0L0qpBThdnhI"
      },
      "source": [
        "La recompensa media obtenida es de: **17,1**\n",
        "\n",
        "En este modelo, se ha reducido el tamaño de la memoria a la mitad, con el objetivo de \"olvidar\" acciones al principio del entrenamiento, totalmente aleatorias, y mantener las más recientes, según ha ido aprendiendo el modelo. La pérdida de exploración en este caso, en contraposición al modelo anterior, redunda en una peor puntuación media."
      ]
    },
    {
      "cell_type": "markdown",
      "metadata": {
        "id": "_rck1cZLdnhI"
      },
      "source": [
        "- - -\n",
        "#### 3.2.3. Modelo 7"
      ]
    },
    {
      "cell_type": "code",
      "execution_count": null,
      "metadata": {
        "id": "mc2mWADkdnhI"
      },
      "outputs": [],
      "source": [
        "load_hyperparameters(4)"
      ]
    },
    {
      "cell_type": "markdown",
      "metadata": {
        "id": "Q4ZYgfI8dnhI"
      },
      "source": [
        "1. Implementación de la red neuronal (misma arquitectura del Modelo 1 cambiando los hiperparámetros del algoritmo de ApR)"
      ]
    },
    {
      "cell_type": "code",
      "execution_count": null,
      "metadata": {
        "id": "3eCdV7K4dnhI",
        "outputId": "283f8c46-cb92-49bc-fd46-bb34912f177b"
      },
      "outputs": [
        {
          "name": "stdout",
          "output_type": "stream",
          "text": [
            "channels_last\n",
            "Model: \"sequential_21\"\n",
            "_________________________________________________________________\n",
            "Layer (type)                 Output Shape              Param #   \n",
            "=================================================================\n",
            "permute_21 (Permute)         (None, 84, 84, 4)         0         \n",
            "_________________________________________________________________\n",
            "conv2d_60 (Conv2D)           (None, 20, 20, 32)        8224      \n",
            "_________________________________________________________________\n",
            "activation_88 (Activation)   (None, 20, 20, 32)        0         \n",
            "_________________________________________________________________\n",
            "conv2d_61 (Conv2D)           (None, 9, 9, 64)          32832     \n",
            "_________________________________________________________________\n",
            "activation_89 (Activation)   (None, 9, 9, 64)          0         \n",
            "_________________________________________________________________\n",
            "conv2d_62 (Conv2D)           (None, 7, 7, 64)          36928     \n",
            "_________________________________________________________________\n",
            "activation_90 (Activation)   (None, 7, 7, 64)          0         \n",
            "_________________________________________________________________\n",
            "flatten_16 (Flatten)         (None, 3136)              0         \n",
            "_________________________________________________________________\n",
            "dense_38 (Dense)             (None, 512)               1606144   \n",
            "_________________________________________________________________\n",
            "activation_91 (Activation)   (None, 512)               0         \n",
            "_________________________________________________________________\n",
            "dense_39 (Dense)             (None, 6)                 3078      \n",
            "_________________________________________________________________\n",
            "activation_92 (Activation)   (None, 6)                 0         \n",
            "=================================================================\n",
            "Total params: 1,687,206\n",
            "Trainable params: 1,687,206\n",
            "Non-trainable params: 0\n",
            "_________________________________________________________________\n"
          ]
        }
      ],
      "source": [
        "model_name = 'Modelo_07'\n",
        "\n",
        "input_shape = (WINDOW_LENGTH,) + INPUT_SHAPE\n",
        "\n",
        "model = Sequential()\n",
        "\n",
        "print(K.image_data_format())\n",
        "\n",
        "if K.image_data_format() == 'channels_last':\n",
        "    # (width, height, channels)\n",
        "    model.add(Permute((2, 3, 1), input_shape=input_shape))\n",
        "elif K.image_data_format() == 'channels_first':\n",
        "    # (channels, width, height)\n",
        "    model.add(Permute((1, 2, 3), input_shape=input_shape))\n",
        "else:\n",
        "    raise RuntimeError('Unknown image_dim_ordering.')\n",
        "\n",
        "model.add(Convolution2D(32, (8, 8), strides=(4, 4)))\n",
        "model.add(Activation('relu'))\n",
        "\n",
        "model.add(Convolution2D(64, (4, 4), strides=(2, 2)))\n",
        "model.add(Activation('relu'))\n",
        "\n",
        "model.add(Convolution2D(64, (3, 3), strides=(1, 1)))\n",
        "model.add(Activation('relu'))\n",
        "\n",
        "model.add(Flatten())\n",
        "model.add(Dense(512))\n",
        "model.add(Activation('relu'))\n",
        "\n",
        "model.add(Dense(nb_actions))\n",
        "model.add(Activation('linear'))\n",
        "model.summary()"
      ]
    },
    {
      "cell_type": "markdown",
      "metadata": {
        "id": "zi9LckvydnhJ"
      },
      "source": [
        "2. Implementación de la solución DQN"
      ]
    },
    {
      "cell_type": "code",
      "execution_count": null,
      "metadata": {
        "id": "fvJPvGkednhJ"
      },
      "outputs": [],
      "source": [
        "memory = SequentialMemory(limit=MEMORY_SIZE, window_length=WINDOW_LENGTH)\n",
        "processor = AtariProcessor()"
      ]
    },
    {
      "cell_type": "code",
      "execution_count": null,
      "metadata": {
        "id": "gZw7RHlDdnhJ"
      },
      "outputs": [],
      "source": [
        "policy = LinearAnnealedPolicy(EpsGreedyQPolicy(), attr='eps',\n",
        "                              value_max=1., value_min=.1,\n",
        "                              value_test=.05,\n",
        "                              nb_steps=SCHEDULER_STEPS)"
      ]
    },
    {
      "cell_type": "code",
      "execution_count": null,
      "metadata": {
        "id": "vZaH3t3KdnhJ"
      },
      "outputs": [],
      "source": [
        "dqn = DQNAgent(model=model,\n",
        "               nb_actions=nb_actions,\n",
        "               policy=policy,\n",
        "               memory=memory,\n",
        "               processor=processor,\n",
        "               nb_steps_warmup=WARMUP_STEPS,       # Acumular memoria inicial\n",
        "               gamma=GAMMA,                        # Discount reward\n",
        "               target_model_update=MODEL_UPDATE,   # Actualización del modelo\n",
        "               train_interval=4,\n",
        "               enable_dueling_network=DUELING, dueling_type=DUELING_TYPE)\n",
        "\n",
        "dqn.compile(Adam(learning_rate=LEARNING_RATE), metrics=['mae'])"
      ]
    },
    {
      "cell_type": "code",
      "execution_count": null,
      "metadata": {
        "id": "hLid5zzkdnhJ"
      },
      "outputs": [],
      "source": [
        "weights_filename = WEIGHTS_PATH + '/' + 'dqn_{}_weights_{}.h5f'.format(env_name, model_name)\n",
        "checkpoint_weights_filename = CHECKPOINT_PATH + 'dqn_' + env_name + '_weights_{step}.h5f'\n",
        "log_filename = LOGS_PATH + 'dqn_{}_log_{}.json'.format(env_name, model_name)\n",
        "\n",
        "callbacks = [ModelIntervalCheckpoint(checkpoint_weights_filename, interval=MODEL_CHECKPOINT_STEPS)]\n",
        "callbacks += [FileLogger(log_filename, interval=100)]\n",
        "\n",
        "dqn.fit(env, callbacks=callbacks, nb_steps=TRAIN_STEPS, log_interval=LOG_INTERVAL, visualize=False)\n",
        "\n",
        "dqn.save_weights(weights_filename, overwrite=True)"
      ]
    },
    {
      "cell_type": "code",
      "execution_count": null,
      "metadata": {
        "id": "iltkMLm2dnhJ",
        "outputId": "97c58e3a-b0b1-4849-ca7e-abaede4e461e"
      },
      "outputs": [
        {
          "name": "stdout",
          "output_type": "stream",
          "text": [
            "2264\n"
          ]
        },
        {
          "data": {
            "image/png": "[encoded data removed]",
            "text/plain": [
              "<Figure size 640x480 with 1 Axes>"
            ]
          },
          "metadata": {},
          "output_type": "display_data"
        }
      ],
      "source": [
        "graph_training(env_name, model_name, 'mean_q')"
      ]
    },
    {
      "cell_type": "code",
      "execution_count": null,
      "metadata": {
        "id": "lfxfuTy1dnhJ",
        "outputId": "09af9a21-f5fa-40de-a157-e38d4fc120ac"
      },
      "outputs": [
        {
          "name": "stdout",
          "output_type": "stream",
          "text": [
            "Testing for 10 episodes ...\n",
            "Episode 1: reward: 14.000, steps: 552\n",
            "Episode 2: reward: 14.000, steps: 857\n",
            "Episode 3: reward: 10.000, steps: 577\n",
            "Episode 4: reward: 22.000, steps: 832\n",
            "Episode 5: reward: 19.000, steps: 1020\n",
            "Episode 6: reward: 12.000, steps: 579\n",
            "Episode 7: reward: 24.000, steps: 1391\n",
            "Episode 8: reward: 22.000, steps: 824\n",
            "Episode 9: reward: 23.000, steps: 893\n",
            "Episode 10: reward: 23.000, steps: 902"
          ]
        }
      ],
      "source": [
        "# Testing part to calculate the mean reward\n",
        "weights_filename = WEIGHTS_PATH + '/' + 'dqn_{}_weights_{}.h5f'.format(env_name, model_name)\n",
        "dqn.load_weights(weights_filename)\n",
        "dqn.test(env, nb_episodes=10, visualize=False)"
      ]
    },
    {
      "cell_type": "markdown",
      "metadata": {
        "id": "b4s1jeQDdnhK"
      },
      "source": [
        "3. Justificación de los parámetros seleccionados y de los resultados obtenidos"
      ]
    },
    {
      "cell_type": "markdown",
      "metadata": {
        "id": "W5-SXt0wdnhK"
      },
      "source": [
        "La recompensa media obtenida es de: **18,3**\n",
        "\n",
        "En este modelo, se ha reducido el warmup inicial a la mitad (25.000 steps), y la puntuación empeora, Se ha reducido la exploración inicial aleatoria del entorno. Como se comentó en el modelo anterior, al ser un algorítmo *off-policy*, estás exploración será tenida en cuenta durante el proceso de entrenamiento hasta que se llene la memoria, y no es exploración suficiente.\n",
        "\n",
        "Se ha incluido *Dueling network* en este modelo en base al artículo **[Dueling Network Architectures for Deep Reinforcement Learning](https://arxiv.org/pdf/1511.06581.pdf), Wang, Z. et al. (2015)**. Esta red contiene dos estimadores diferentes: uno para la función *Value* y otro para la función de *Advantage*. El objetivo es generalizar el aprendizaje entre acciones y conduce a una mejor evaluación de políticas en presencia de muchas acciones de valor similar.\n",
        "\n",
        "Puede verse que, con menor exloración pero añadiendo *Dueling network*, los resultados, aunque insuficientes, son aceptables."
      ]
    },
    {
      "cell_type": "markdown",
      "metadata": {
        "id": "JuY3PGnddnhK"
      },
      "source": [
        "- - -\n",
        "#### 3.2.4. Modelo 8"
      ]
    },
    {
      "cell_type": "code",
      "execution_count": null,
      "metadata": {
        "id": "RtSiwVM3dnhK"
      },
      "outputs": [],
      "source": [
        "load_hyperparameters(0)"
      ]
    },
    {
      "cell_type": "markdown",
      "metadata": {
        "id": "VED_DjfTdnhK"
      },
      "source": [
        "1. Implementación de la red neuronal (misma arquitectura del Modelo 1 cambiando los hiperparámetros del algoritmo de ApR)"
      ]
    },
    {
      "cell_type": "code",
      "execution_count": null,
      "metadata": {
        "id": "P4vLu6IYdnhK",
        "outputId": "4c630d9b-6acc-419c-c9d0-6947b992d04b"
      },
      "outputs": [
        {
          "name": "stdout",
          "output_type": "stream",
          "text": [
            "channels_last\n",
            "Model: \"sequential_3\"\n",
            "_________________________________________________________________\n",
            "Layer (type)                 Output Shape              Param #   \n",
            "=================================================================\n",
            "permute_3 (Permute)          (None, 84, 84, 4)         0         \n",
            "_________________________________________________________________\n",
            "conv2d_9 (Conv2D)            (None, 20, 20, 32)        8224      \n",
            "_________________________________________________________________\n",
            "activation_11 (Activation)   (None, 20, 20, 32)        0         \n",
            "_________________________________________________________________\n",
            "conv2d_10 (Conv2D)           (None, 9, 9, 64)          32832     \n",
            "_________________________________________________________________\n",
            "activation_12 (Activation)   (None, 9, 9, 64)          0         \n",
            "_________________________________________________________________\n",
            "conv2d_11 (Conv2D)           (None, 7, 7, 64)          36928     \n",
            "_________________________________________________________________\n",
            "activation_13 (Activation)   (None, 7, 7, 64)          0         \n",
            "_________________________________________________________________\n",
            "flatten_2 (Flatten)          (None, 3136)              0         \n",
            "_________________________________________________________________\n",
            "dense_6 (Dense)              (None, 512)               1606144   \n",
            "_________________________________________________________________\n",
            "activation_14 (Activation)   (None, 512)               0         \n",
            "_________________________________________________________________\n",
            "dense_7 (Dense)              (None, 6)                 3078      \n",
            "_________________________________________________________________\n",
            "activation_15 (Activation)   (None, 6)                 0         \n",
            "=================================================================\n",
            "Total params: 1,687,206\n",
            "Trainable params: 1,687,206\n",
            "Non-trainable params: 0\n",
            "_________________________________________________________________\n"
          ]
        }
      ],
      "source": [
        "model_name = 'Modelo_08'\n",
        "\n",
        "input_shape = (WINDOW_LENGTH,) + INPUT_SHAPE\n",
        "\n",
        "model = Sequential()\n",
        "\n",
        "print(K.image_data_format())\n",
        "\n",
        "if K.image_data_format() == 'channels_last':\n",
        "    # (width, height, channels)\n",
        "    model.add(Permute((2, 3, 1), input_shape=input_shape))\n",
        "elif K.image_data_format() == 'channels_first':\n",
        "    # (channels, width, height)\n",
        "    model.add(Permute((1, 2, 3), input_shape=input_shape))\n",
        "else:\n",
        "    raise RuntimeError('Unknown image_dim_ordering.')\n",
        "\n",
        "model.add(Convolution2D(32, (8, 8), strides=(4, 4)))\n",
        "model.add(Activation('relu'))\n",
        "\n",
        "model.add(Convolution2D(64, (4, 4), strides=(2, 2)))\n",
        "model.add(Activation('relu'))\n",
        "\n",
        "model.add(Convolution2D(64, (3, 3), strides=(1, 1)))\n",
        "model.add(Activation('relu'))\n",
        "\n",
        "model.add(Flatten())\n",
        "model.add(Dense(512))\n",
        "model.add(Activation('relu'))\n",
        "\n",
        "model.add(Dense(nb_actions))\n",
        "model.add(Activation('linear'))\n",
        "model.summary()"
      ]
    },
    {
      "cell_type": "markdown",
      "metadata": {
        "id": "dsYLEjlddnhK"
      },
      "source": [
        "2. Implementación de la solución DQN"
      ]
    },
    {
      "cell_type": "code",
      "execution_count": null,
      "metadata": {
        "id": "1LtTrVABdnhL"
      },
      "outputs": [],
      "source": [
        "memory = SequentialMemory(limit=MEMORY_SIZE, window_length=WINDOW_LENGTH)\n",
        "processor = AtariProcessor()"
      ]
    },
    {
      "cell_type": "code",
      "execution_count": null,
      "metadata": {
        "id": "a5nLmatwdnhL"
      },
      "outputs": [],
      "source": [
        "policy = BoltzmannQPolicy(tau=1.)"
      ]
    },
    {
      "cell_type": "code",
      "execution_count": null,
      "metadata": {
        "id": "e3irdzhLdnhL"
      },
      "outputs": [],
      "source": [
        "dqn = DQNAgent(model=model,\n",
        "               nb_actions=nb_actions,\n",
        "               policy=policy,\n",
        "               memory=memory,\n",
        "               processor=processor,\n",
        "               nb_steps_warmup=WARMUP_STEPS,       # Acumular memoria inicial\n",
        "               gamma=GAMMA,                        # Discount reward\n",
        "               target_model_update=MODEL_UPDATE,   # Actualización del modelo\n",
        "               train_interval=4,\n",
        "               enable_dueling_network=DUELING, dueling_type=DUELING_TYPE)\n",
        "\n",
        "dqn.compile(Adam(learning_rate=LEARNING_RATE), metrics=['mae'])"
      ]
    },
    {
      "cell_type": "code",
      "execution_count": null,
      "metadata": {
        "id": "gVxgCyzCdnhL"
      },
      "outputs": [],
      "source": [
        "weights_filename = WEIGHTS_PATH + '/' + 'dqn_{}_weights_{}.h5f'.format(env_name, model_name)\n",
        "checkpoint_weights_filename = CHECKPOINT_PATH + 'dqn_' + env_name + '_weights_{step}.h5f'\n",
        "log_filename = LOGS_PATH + 'dqn_{}_log_{}.json'.format(env_name, model_name)\n",
        "\n",
        "callbacks = [ModelIntervalCheckpoint(checkpoint_weights_filename, interval=MODEL_CHECKPOINT_STEPS)]\n",
        "callbacks += [FileLogger(log_filename, interval=100)]\n",
        "\n",
        "dqn.fit(env, callbacks=callbacks, nb_steps=TRAIN_STEPS, log_interval=LOG_INTERVAL, visualize=False)\n",
        "\n",
        "dqn.save_weights(weights_filename, overwrite=True)"
      ]
    },
    {
      "cell_type": "code",
      "execution_count": null,
      "metadata": {
        "id": "72d4HRBjdnhL",
        "outputId": "f192723c-f1d8-40be-c1bf-9d9164f46c97"
      },
      "outputs": [
        {
          "name": "stdout",
          "output_type": "stream",
          "text": [
            "801\n"
          ]
        },
        {
          "data": {
            "image/png": "[encoded data removed]",
            "text/plain": [
              "<Figure size 640x480 with 1 Axes>"
            ]
          },
          "metadata": {},
          "output_type": "display_data"
        }
      ],
      "source": [
        "graph_training(env_name, model_name, 'mean_q')"
      ]
    },
    {
      "cell_type": "code",
      "execution_count": null,
      "metadata": {
        "id": "zJGhCnxOdnhL",
        "outputId": "18f49806-26c8-49ad-ff30-e6a9a3b65d8c"
      },
      "outputs": [
        {
          "name": "stdout",
          "output_type": "stream",
          "text": [
            "Testing for 10 episodes ...\n",
            "Episode 1: reward: 16.000, steps: 1121\n",
            "Episode 2: reward: 20.000, steps: 1047\n",
            "Episode 3: reward: 15.000, steps: 915\n",
            "Episode 4: reward: 16.000, steps: 987\n",
            "Episode 5: reward: 23.000, steps: 1123\n",
            "Episode 6: reward: 20.000, steps: 1075\n",
            "Episode 7: reward: 18.000, steps: 987\n",
            "Episode 8: reward: 22.000, steps: 1321\n",
            "Episode 9: reward: 20.000, steps: 1098\n",
            "Episode 10: reward: 19.000, steps: 976\n"
          ]
        }
      ],
      "source": [
        "# Testing part to calculate the mean reward\n",
        "weights_filename = WEIGHTS_PATH + '/' + 'dqn_{}_weights_{}.h5f'.format(env_name, model_name)\n",
        "dqn.load_weights(weights_filename)\n",
        "dqn.test(env, nb_episodes=10, visualize=False)"
      ]
    },
    {
      "cell_type": "markdown",
      "metadata": {
        "id": "9y8p7fyCdnhL"
      },
      "source": [
        "3. Justificación de los parámetros seleccionados y de los resultados obtenidos"
      ]
    },
    {
      "cell_type": "markdown",
      "metadata": {
        "id": "QlHk9FgFdnhM"
      },
      "source": [
        "La recompensa media obtenida es de: **18,9**\n",
        "\n",
        "En este modelo hemos cambiado el modelo de la *policy*, usando *Boltzmann* en lugar de *$\\epsilon$-greedy*. Aunque el resultado no ha llegado a la puntuación mínima, según podemos apreciar en el gráfico hay todavía margen de mejora con un tiempo de entrenamiento, ya que la media de la recompensa esperada a futuro mantiene una pendiente ascendete y constante al alcanzar el límite de 1,75M de steps."
      ]
    },
    {
      "cell_type": "markdown",
      "metadata": {
        "id": "GzkZpUovdnhM"
      },
      "source": [
        "- - -\n",
        "#### 3.2.5. Modelo 9"
      ]
    },
    {
      "cell_type": "code",
      "execution_count": null,
      "metadata": {
        "id": "egXpejq1dnhM"
      },
      "outputs": [],
      "source": [
        "load_hyperparameters(7)"
      ]
    },
    {
      "cell_type": "markdown",
      "metadata": {
        "id": "z1jn9EnWdnhM"
      },
      "source": [
        "1. Implementación de la red neuronal (misma arquitectura del Modelo 1 cambiando los hiperparámetros del algoritmo de ApR)"
      ]
    },
    {
      "cell_type": "code",
      "execution_count": null,
      "metadata": {
        "id": "M5tLPCULdnhM",
        "outputId": "d7b69365-7b91-4b93-c838-8b8493b8e028"
      },
      "outputs": [
        {
          "name": "stdout",
          "output_type": "stream",
          "text": [
            "channels_last\n",
            "Model: \"sequential_2\"\n",
            "_________________________________________________________________\n",
            "Layer (type)                 Output Shape              Param #   \n",
            "=================================================================\n",
            "permute_2 (Permute)          (None, 84, 84, 4)         0         \n",
            "_________________________________________________________________\n",
            "conv2d_6 (Conv2D)            (None, 20, 20, 32)        8224      \n",
            "_________________________________________________________________\n",
            "activation_6 (Activation)    (None, 20, 20, 32)        0         \n",
            "_________________________________________________________________\n",
            "conv2d_7 (Conv2D)            (None, 9, 9, 64)          32832     \n",
            "_________________________________________________________________\n",
            "activation_7 (Activation)    (None, 9, 9, 64)          0         \n",
            "_________________________________________________________________\n",
            "conv2d_8 (Conv2D)            (None, 7, 7, 64)          36928     \n",
            "_________________________________________________________________\n",
            "activation_8 (Activation)    (None, 7, 7, 64)          0         \n",
            "_________________________________________________________________\n",
            "flatten_1 (Flatten)          (None, 3136)              0         \n",
            "_________________________________________________________________\n",
            "dense_3 (Dense)              (None, 512)               1606144   \n",
            "_________________________________________________________________\n",
            "activation_9 (Activation)    (None, 512)               0         \n",
            "_________________________________________________________________\n",
            "dense_4 (Dense)              (None, 6)                 3078      \n",
            "_________________________________________________________________\n",
            "activation_10 (Activation)   (None, 6)                 0         \n",
            "=================================================================\n",
            "Total params: 1,687,206\n",
            "Trainable params: 1,687,206\n",
            "Non-trainable params: 0\n",
            "_________________________________________________________________\n"
          ]
        }
      ],
      "source": [
        "model_name = 'Modelo_09'\n",
        "\n",
        "input_shape = (WINDOW_LENGTH,) + INPUT_SHAPE\n",
        "\n",
        "model = Sequential()\n",
        "\n",
        "print(K.image_data_format())\n",
        "\n",
        "if K.image_data_format() == 'channels_last':\n",
        "    # (width, height, channels)\n",
        "    model.add(Permute((2, 3, 1), input_shape=input_shape))\n",
        "elif K.image_data_format() == 'channels_first':\n",
        "    # (channels, width, height)\n",
        "    model.add(Permute((1, 2, 3), input_shape=input_shape))\n",
        "else:\n",
        "    raise RuntimeError('Unknown image_dim_ordering.')\n",
        "\n",
        "model.add(Convolution2D(32, (8, 8), strides=(4, 4)))\n",
        "model.add(Activation('relu'))\n",
        "\n",
        "model.add(Convolution2D(64, (4, 4), strides=(2, 2)))\n",
        "model.add(Activation('relu'))\n",
        "\n",
        "model.add(Convolution2D(64, (3, 3), strides=(1, 1)))\n",
        "model.add(Activation('relu'))\n",
        "\n",
        "model.add(Flatten())\n",
        "model.add(Dense(512))\n",
        "model.add(Activation('relu'))\n",
        "\n",
        "model.add(Dense(nb_actions))\n",
        "model.add(Activation('linear'))\n",
        "model.summary()"
      ]
    },
    {
      "cell_type": "markdown",
      "metadata": {
        "id": "C3kc1JDNdnhM"
      },
      "source": [
        "2. Implementación de la solución DQN"
      ]
    },
    {
      "cell_type": "code",
      "execution_count": null,
      "metadata": {
        "id": "z3akjetkdnhM"
      },
      "outputs": [],
      "source": [
        "memory = SequentialMemory(limit=MEMORY_SIZE, window_length=WINDOW_LENGTH)\n",
        "processor = AtariProcessor()"
      ]
    },
    {
      "cell_type": "code",
      "execution_count": null,
      "metadata": {
        "id": "A6amM2gsdnhM"
      },
      "outputs": [],
      "source": [
        "policy = LinearAnnealedPolicy(EpsGreedyQPolicy(), attr='eps',\n",
        "                              value_max=1., value_min=.1,\n",
        "                              value_test=.05,\n",
        "                              nb_steps=SCHEDULER_STEPS)"
      ]
    },
    {
      "cell_type": "code",
      "execution_count": null,
      "metadata": {
        "id": "_PZ50V2XdnhM"
      },
      "outputs": [],
      "source": [
        "dqn = DQNAgent(model=model,\n",
        "               nb_actions=nb_actions,\n",
        "               policy=policy,\n",
        "               memory=memory,\n",
        "               processor=processor,\n",
        "               nb_steps_warmup=WARMUP_STEPS,       # Acumular memoria inicial\n",
        "               gamma=GAMMA,                        # Discount reward\n",
        "               target_model_update=MODEL_UPDATE,   # Actualización del modelo\n",
        "               train_interval=4,\n",
        "               enable_dueling_network=DUELING, dueling_type=DUELING_TYPE)\n",
        "\n",
        "dqn.compile(Adam(learning_rate=LEARNING_RATE), metrics=['mae'])"
      ]
    },
    {
      "cell_type": "code",
      "execution_count": null,
      "metadata": {
        "id": "jUCAwjwPdnhN"
      },
      "outputs": [],
      "source": [
        "weights_filename = WEIGHTS_PATH + '/' + 'dqn_{}_weights_{}.h5f'.format(env_name, model_name)\n",
        "checkpoint_weights_filename = CHECKPOINT_PATH + 'dqn_' + env_name + '_weights_{step}.h5f'\n",
        "log_filename = LOGS_PATH + 'dqn_{}_log_{}.json'.format(env_name, model_name)\n",
        "\n",
        "callbacks = [ModelIntervalCheckpoint(checkpoint_weights_filename, interval=MODEL_CHECKPOINT_STEPS)]\n",
        "callbacks += [FileLogger(log_filename, interval=100)]\n",
        "\n",
        "dqn.fit(env, callbacks=callbacks, nb_steps=TRAIN_STEPS, log_interval=LOG_INTERVAL, visualize=False)\n",
        "\n",
        "dqn.save_weights(weights_filename, overwrite=True)"
      ]
    },
    {
      "cell_type": "code",
      "execution_count": null,
      "metadata": {
        "id": "0VkePmIydnhN",
        "outputId": "d4e01b26-5ac5-4138-ff27-a759f6ac529d"
      },
      "outputs": [
        {
          "name": "stdout",
          "output_type": "stream",
          "text": [
            "2360\n"
          ]
        },
        {
          "data": {
            "image/png": "[encoded data removed]",
            "text/plain": [
              "<Figure size 640x480 with 1 Axes>"
            ]
          },
          "metadata": {},
          "output_type": "display_data"
        }
      ],
      "source": [
        "graph_training(env_name, model_name, 'mean_q')"
      ]
    },
    {
      "cell_type": "code",
      "execution_count": null,
      "metadata": {
        "id": "4scE9W8FdnhN",
        "outputId": "706ea2d7-7962-49c9-a48b-f55313c5bbd3"
      },
      "outputs": [
        {
          "name": "stdout",
          "output_type": "stream",
          "text": [
            "Testing for 10 episodes ...\n",
            "Episode 1: reward: 28.000, steps: 1081\n",
            "Episode 2: reward: 20.000, steps: 597\n",
            "Episode 3: reward: 23.000, steps: 706\n",
            "Episode 4: reward: 31.000, steps: 924\n",
            "Episode 5: reward: 16.000, steps: 594\n",
            "Episode 6: reward: 21.000, steps: 761\n",
            "Episode 7: reward: 31.000, steps: 1246\n",
            "Episode 8: reward: 26.000, steps: 931\n",
            "Episode 9: reward: 34.000, steps: 1219\n",
            "Episode 10: reward: 29.000, steps: 1030"
          ]
        }
      ],
      "source": [
        "# Testing part to calculate the mean reward\n",
        "weights_filename = WEIGHTS_PATH + '/' + 'dqn_{}_weights_{}.h5f'.format(env_name, model_name)\n",
        "dqn.load_weights(weights_filename)\n",
        "dqn.test(env, nb_episodes=10, visualize=False)"
      ]
    },
    {
      "cell_type": "markdown",
      "metadata": {
        "id": "k1BKiXDDdnhN"
      },
      "source": [
        "3. Justificación de los parámetros seleccionados y de los resultados obtenidos"
      ]
    },
    {
      "cell_type": "markdown",
      "metadata": {
        "id": "zXl0hPiwdnhN"
      },
      "source": [
        "La recompensa media obtenida es de: <span style=\"color:red\">**25,9**</span>\n",
        "\n",
        "Con *Dueling network* y aumentando el warmup inicial x10, respecto del modelo de partida, es decir, reuniendo los últimos dos mejores modelos obtenemos los mejores resultados, casi un 30% por encima del mínimo exigido en el enunciado.\n",
        "\n",
        "Como se ha comentado en los modelos precedentes, incluyendo por una parte dos estimadores diferentes (uno para la función *Value* y otro para la función de *Advantage*) y aumentando considerablemente la exploración del entorno para que el agente pueda conocer posibles acciones, que de otro modo no podría alcanzar."
      ]
    },
    {
      "cell_type": "markdown",
      "metadata": {
        "id": "zDqZUuuXdnhN"
      },
      "source": [
        "---"
      ]
    },
    {
      "cell_type": "markdown",
      "metadata": {
        "id": "u47oV_JxdnhN"
      },
      "source": [
        "### Test del mejor modelo"
      ]
    },
    {
      "cell_type": "code",
      "execution_count": null,
      "metadata": {
        "id": "gkvbKrcndnhN",
        "outputId": "013b7eee-498f-4270-da34-446dff6c25c5"
      },
      "outputs": [
        {
          "name": "stdout",
          "output_type": "stream",
          "text": [
            "Testing for 10 episodes ...\n",
            "Episode 1: reward: 31.000, steps: 1126\n",
            "Episode 2: reward: 33.000, steps: 1060\n",
            "Episode 3: reward: 16.000, steps: 667\n",
            "Episode 4: reward: 38.000, steps: 1648\n",
            "Episode 5: reward: 24.000, steps: 675\n",
            "Episode 6: reward: 29.000, steps: 949\n",
            "Episode 7: reward: 24.000, steps: 872\n",
            "Episode 8: reward: 32.000, steps: 1029\n",
            "Episode 9: reward: 24.000, steps: 925\n",
            "Episode 10: reward: 23.000, steps: 719\n",
            "\n",
            "La media de las recompensas obtenidas para 10 episodios aleatorios es de:  27.4 +- 6.36\n"
          ]
        }
      ],
      "source": [
        "weights_filename = WEIGHTS_PATH + '/' + 'dqn_{}_best_weights.h5f'.format(env_name)\n",
        "dqn.load_weights(weights_filename)\n",
        "H = dqn.test(env, nb_episodes=10, visualize=True)\n",
        "\n",
        "######### MEDIA ##########\n",
        "df = pd.DataFrame(H.history)\n",
        "\n",
        "print(\"\\nLa media de las recompensas obtenidas para 10 episodios aleatorios es de: \",\n",
        "      f\"{round(df['episode_reward'].mean(), 2)} +- {round(df['episode_reward'].std(), 2)}\")"
      ]
    },
    {
      "cell_type": "markdown",
      "metadata": {
        "id": "dSK7tuUndnhO"
      },
      "source": [
        "---"
      ]
    }
  ],
  "metadata": {
    "colab": {
      "provenance": [],
      "toc_visible": true,
      "include_colab_link": true
    },
    "kernelspec": {
      "display_name": "Python 3",
      "language": "python",
      "name": "python3"
    },
    "language_info": {
      "codemirror_mode": {
        "name": "ipython",
        "version": 3
      },
      "file_extension": ".py",
      "mimetype": "text/x-python",
      "name": "python",
      "nbconvert_exporter": "python",
      "pygments_lexer": "ipython3",
      "version": "3.9.13"
    }
  },
  "nbformat": 4,
  "nbformat_minor": 0
}