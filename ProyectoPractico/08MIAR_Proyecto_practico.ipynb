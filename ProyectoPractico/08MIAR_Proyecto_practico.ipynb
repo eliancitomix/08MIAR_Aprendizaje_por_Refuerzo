{
 "cells": [
  {
   "cell_type": "markdown",
   "metadata": {
    "colab_type": "text",
    "id": "view-in-github"
   },
   "source": [
    "<a href=\"https://colab.research.google.com/github/emichester/08MIAR_Aprendizaje_por_Refuerzo/blob/main/ProyectoPractico/08MIAR_Proyecto_practico.ipynb\" target=\"_parent\"><img src=\"https://colab.research.google.com/assets/colab-badge.svg\" alt=\"Open In Colab\"/></a>"
   ]
  },
  {
   "cell_type": "markdown",
   "metadata": {
    "id": "jUehXgCyIRdq"
   },
   "source": [
    "# Actividad - Proyecto práctico\n",
    "\n",
    "\n",
    "> La actividad se desarrollará en grupos pre-definidos de 2-3 alumnos. Se debe indicar los nombres en orden alfabético (de apellidos). Recordad que esta actividad se corresponde con un 30% de la nota final de la asignatura. Se debe entregar entregar el trabajo en la presente notebook.\n",
    "*   Alumno 1: [Emilio Jesús Hernández Salas](mailto:emiliohersal@gmail.com)\n",
    "*   Alumno 2: [Javier Rodríguez Juárez](mailto:jr.juarez.79@gmail.com)\n",
    "*   Alumno 3: [Guillermo Caamaño de Melo](mailto:elguillesise@gmail.com)\n",
    "\n",
    "\n",
    "\n",
    "\n"
   ]
  },
  {
   "cell_type": "markdown",
   "metadata": {
    "id": "w1sJ2S7xQ2cT"
   },
   "source": [
    "## Seleccionar alumno"
   ]
  },
  {
   "cell_type": "code",
   "execution_count": 2,
   "metadata": {
    "colab": {
     "base_uri": "https://localhost:8080/",
     "height": 101,
     "referenced_widgets": [
      "3063d6905f01462fbcda147ddcdb513d",
      "1bb92e9296b64ae3a5892574065f2bd9",
      "911f17fe161e411480d793dfc1aa73ed"
     ]
    },
    "id": "jq1iYY0ZQ6ej",
    "outputId": "ba44a349-4ad5-4cf7-bd42-032e8746bdde"
   },
   "outputs": [
    {
     "name": "stdout",
     "output_type": "stream",
     "text": [
      "%%%%%%%%%%%%%%%%%%%%%%%%%%%%%%%%%%%%%%%%\n",
      "SELECT MEMBER OF THE TEAM\n"
     ]
    },
    {
     "data": {
      "application/vnd.jupyter.widget-view+json": {
       "model_id": "e370021881754e39bb9f05734fc0a95d",
       "version_major": 2,
       "version_minor": 0
      },
      "text/plain": [
       "Dropdown(description='User:', options=(('Emilio', 1), ('Javier', 2), ('Guillermo', 3)), value=1)"
      ]
     },
     "metadata": {},
     "output_type": "display_data"
    },
    {
     "name": "stdout",
     "output_type": "stream",
     "text": [
      "%%%%%%%%%%%%%%%%%%%%%%%%%%%%%%%%%%%%%%%%\n"
     ]
    }
   ],
   "source": [
    "from ipywidgets.widgets import widget\n",
    "import ipywidgets as widgets\n",
    "from IPython.display import display\n",
    "\n",
    "# my_button = widgets.Button(icon=\"home\")\n",
    "# display(my_button)\n",
    "\n",
    "w = widgets.Dropdown(\n",
    "    options=[('Emilio', 1), ('Javier', 2), ('Guillermo', 3)],\n",
    "    description='User:',\n",
    ")\n",
    "print(\"%%%%%%%%%%%%%%%%%%%%%%%%%%%%%%%%%%%%%%%%\")\n",
    "print(\"SELECT MEMBER OF THE TEAM\")\n",
    "display(w)\n",
    "print(\"%%%%%%%%%%%%%%%%%%%%%%%%%%%%%%%%%%%%%%%%\")"
   ]
  },
  {
   "cell_type": "markdown",
   "metadata": {
    "id": "JwpYlnjWJhS9"
   },
   "source": [
    "---\n",
    "## **PARTE 1** - Instalación y requisitos previos\n",
    "\n",
    "> Las prácticas han sido preparadas para poder realizarse en el entorno de trabajo de Google Colab. Sin embargo, esta plataforma presenta ciertas incompatibilidades a la hora de visualizar la renderización en gym. Por ello, para obtener estas visualizaciones, se deberá trasladar el entorno de trabajo a local. Por ello, el presente dosier presenta instrucciones para poder trabajar en ambos entornos. Siga los siguientes pasos para un correcto funcionamiento:\n",
    "1.   **LOCAL:** Preparar el enviroment, siguiendo las intrucciones detalladas en la sección *1.1.Preparar enviroment*.\n",
    "2.  **AMBOS:** Modificar las variables \"mount\" y \"drive_mount\" a la carpeta de trabajo en drive en el caso de estar en Colab, y ejecturar la celda *1.2.Localizar entorno de trabajo*.\n",
    "3. **COLAB:** se deberá ejecutar las celdas correspondientes al montaje de la carpeta de trabajo en Drive. Esta corresponde a la sección *1.3.Montar carpeta de datos local*.\n",
    "4.  **AMBOS:** Instalar las librerías necesarias, siguiendo la sección *1.4.Instalar librerías necesarias*.\n"
   ]
  },
  {
   "cell_type": "markdown",
   "metadata": {
    "id": "RU2BPrK2JkP0"
   },
   "source": [
    "---\n",
    "### 1.1. Preparar enviroment (solo local)\n",
    "\n",
    "\n",
    "\n",
    "> Para preparar el entorno de trabajo en local, se han seguido los siguientes pasos:\n",
    "1. En Windows, puede ser necesario instalar las C++ Build Tools. Para ello, siga los siguientes pasos: https://towardsdatascience.com/how-to-install-openai-gym-in-a-windows-environment-338969e24d30.\n",
    "2. Instalar Anaconda\n",
    "3. Siguiendo el código que se presenta comentado en la próxima celda: Crear un enviroment, cambiar la ruta de trabajo, e instalar librerías básicas.\n",
    "\n",
    "\n",
    "```\n",
    "conda create --name miar_rl python=3.8\n",
    "conda activate miar_rl\n",
    "cd \"PATH_TO_FOLDER\"\n",
    "conda install git\n",
    "pip install jupyter\n",
    "```\n",
    "\n",
    "\n",
    "4. Abrir la notebook con *jupyter-notebook*.\n",
    "\n",
    "\n",
    "\n",
    "```\n",
    "jupyter-notebook\n",
    "```\n"
   ]
  },
  {
   "cell_type": "markdown",
   "metadata": {
    "id": "w-kixNPiJqTc"
   },
   "source": [
    "---\n",
    "### 1.2. Localizar entorno de trabajo: Google colab o local"
   ]
  },
  {
   "cell_type": "code",
   "execution_count": 3,
   "metadata": {
    "colab": {
     "base_uri": "https://localhost:8080/"
    },
    "id": "S_YDFwZ-JscI",
    "outputId": "1d018945-f334-41cd-d481-b2ec8e586e44"
   },
   "outputs": [
    {
     "name": "stdout",
     "output_type": "stream",
     "text": [
      "------>  G:\\Mi unidad\\ASIGNATURAS\\VIU\\08MIAR_Aprendizaje_por_Refuerzo\\ProyectoPractico\n"
     ]
    }
   ],
   "source": [
    "import os\n",
    "# ATENCIÓN!! Modificar ruta relativa a la práctica si es distinta (drive_root)\n",
    "mount='/content/drive'\n",
    "\n",
    "try:\n",
    "  from google.colab import drive\n",
    "  IN_COLAB=True\n",
    "except:\n",
    "  IN_COLAB=False\n",
    "\n",
    "if IN_COLAB:\n",
    "    s = w.get_state()\n",
    "    user_selection = s['_options_labels'][s['index']]\n",
    "    if user_selection == 'Emilio':\n",
    "        drive_root = os.path.join(mount, \"MyDrive/ASIGNATURAS/VIU/08MIAR_Aprendizaje_por_Refuerzo/ProyectoPractico\")\n",
    "    elif user_selection == 'Javier':\n",
    "        drive_root = os.path.join(mount, \"MyDrive/ASIGNATURAS/VIU/08MIAR_Aprendizaje_por_Refuerzo/ProyectoPractico\")\n",
    "    elif user_selection == 'Guillermo':\n",
    "        drive_root = os.path.join(mount, \"MyDrive/ASIGNATURAS/VIU/08MIAR_Aprendizaje_por_Refuerzo/ProyectoPractico\")\n",
    "    print(\"------> \",drive_root)\n",
    "    \n",
    "    WEIGHTS_PATH = os.path.join(drive_root, \"weights\")\n",
    "    CHECKPOINT_PATH = os.path.join(drive_root, \"checkpoints\")\n",
    "    LOGS_PATH = os.path.join(drive_root, \"logs\")\n",
    "    os.makedirs(WEIGHTS_PATH, exist_ok=True)\n",
    "    os.makedirs(CHECKPOINT_PATH, exist_ok=True)\n",
    "    os.makedirs(LOGS_PATH, exist_ok=True)\n",
    "else:\n",
    "    s = w.get_state()\n",
    "    user_selection = s['_options_labels'][s['index']]\n",
    "    if user_selection == 'Emilio':\n",
    "        drive_root = os.path.join(\"G:\\\\Mi unidad\\\\ASIGNATURAS\\\\VIU\\\\08MIAR_Aprendizaje_por_Refuerzo\\\\ProyectoPractico\")\n",
    "    elif user_selection == 'Javier':\n",
    "        drive_root = os.path.join(\"G:\\\\Mi unidad\\\\ASIGNATURAS\\\\VIU\\\\08MIAR_Aprendizaje_por_Refuerzo\\\\ProyectoPractico\")\n",
    "    elif user_selection == 'Guillermo':\n",
    "        drive_root = os.path.join(\"G:\\\\Mi unidad\\\\ASIGNATURAS\\\\VIU\\\\08MIAR_Aprendizaje_por_Refuerzo\\\\ProyectoPractico\")\n",
    "    print(\"------> \",drive_root)\n",
    "    \n",
    "    WEIGHTS_PATH = os.path.join(drive_root, \"weights\")\n",
    "    CHECKPOINT_PATH = os.path.join(drive_root, \"checkpoints\")\n",
    "    LOGS_PATH = os.path.join(drive_root, \"logs\")\n",
    "    os.makedirs(WEIGHTS_PATH, exist_ok=True)\n",
    "    os.makedirs(CHECKPOINT_PATH, exist_ok=True)\n",
    "    os.makedirs(LOGS_PATH, exist_ok=True)"
   ]
  },
  {
   "cell_type": "markdown",
   "metadata": {
    "id": "8Dp_a1iBJ0tf"
   },
   "source": [
    "---\n",
    "### 1.3. Montar carpeta de datos local (solo Colab)"
   ]
  },
  {
   "cell_type": "code",
   "execution_count": 4,
   "metadata": {
    "colab": {
     "base_uri": "https://localhost:8080/"
    },
    "id": "I6n7MIefJ21i",
    "outputId": "df6dc7b5-0261-49a1-f353-d2b4c24c6f11"
   },
   "outputs": [
    {
     "name": "stdout",
     "output_type": "stream",
     "text": [
      "Archivos en el directorio: \n",
      "['.ipynb_checkpoints', '08MIAR_Proyecto_practico.ipynb']\n"
     ]
    }
   ],
   "source": [
    "# Switch to the directory on the Google Drive that you want to use\n",
    "import os\n",
    "if IN_COLAB:\n",
    "  print(\"We're running Colab\")\n",
    "\n",
    "  if IN_COLAB:\n",
    "    # Mount the Google Drive at mount\n",
    "    print(\"Colab: mounting Google drive on \", mount)\n",
    "\n",
    "    drive.mount(mount)\n",
    "\n",
    "    # Create drive_root if it doesn't exist\n",
    "    create_drive_root = True\n",
    "    if create_drive_root:\n",
    "      print(\"\\nColab: making sure \", drive_root, \" exists.\")\n",
    "      os.makedirs(drive_root, exist_ok=True)\n",
    "\n",
    "    # Change to the directory\n",
    "    print(\"\\nColab: Changing directory to \", drive_root)\n",
    "    %cd $drive_root\n",
    "# Verify we're in the correct working directory\n",
    "%pwd\n",
    "print(\"Archivos en el directorio: \")\n",
    "print(os.listdir())"
   ]
  },
  {
   "cell_type": "markdown",
   "metadata": {
    "id": "i1ZSL5bpJ560"
   },
   "source": [
    "---\n",
    "### 1.4. Instalar librerías necesarias"
   ]
  },
  {
   "cell_type": "code",
   "execution_count": 4,
   "metadata": {
    "colab": {
     "base_uri": "https://localhost:8080/"
    },
    "id": "UbVRjvHCJ8UF",
    "outputId": "4bfc89c8-b5f3-43c8-df76-0086c15b9f4b"
   },
   "outputs": [
    {
     "name": "stdout",
     "output_type": "stream",
     "text": [
      "Collecting gym==0.17.3\n",
      "  Downloading gym-0.17.3.tar.gz (1.6 MB)\n",
      "\u001b[2K     \u001b[90m━━━━━━━━━━━━━━━━━━━━━━━━━━━━━━━━━━━━━━━━\u001b[0m \u001b[32m1.6/1.6 MB\u001b[0m \u001b[31m7.2 MB/s\u001b[0m eta \u001b[36m0:00:00\u001b[0m\n",
      "\u001b[?25h  Preparing metadata (setup.py) ... \u001b[?25l\u001b[?25hdone\n",
      "Requirement already satisfied: scipy in /usr/local/lib/python3.10/dist-packages (from gym==0.17.3) (1.11.3)\n",
      "Requirement already satisfied: numpy>=1.10.4 in /usr/local/lib/python3.10/dist-packages (from gym==0.17.3) (1.23.5)\n",
      "Collecting pyglet<=1.5.0,>=1.4.0 (from gym==0.17.3)\n",
      "  Downloading pyglet-1.5.0-py2.py3-none-any.whl (1.0 MB)\n",
      "\u001b[2K     \u001b[90m━━━━━━━━━━━━━━━━━━━━━━━━━━━━━━━━━━━━━━━━\u001b[0m \u001b[32m1.0/1.0 MB\u001b[0m \u001b[31m12.3 MB/s\u001b[0m eta \u001b[36m0:00:00\u001b[0m\n",
      "\u001b[?25hCollecting cloudpickle<1.7.0,>=1.2.0 (from gym==0.17.3)\n",
      "  Downloading cloudpickle-1.6.0-py3-none-any.whl (23 kB)\n",
      "Requirement already satisfied: future in /usr/local/lib/python3.10/dist-packages (from pyglet<=1.5.0,>=1.4.0->gym==0.17.3) (0.18.3)\n",
      "Building wheels for collected packages: gym\n",
      "  Building wheel for gym (setup.py) ... \u001b[?25l\u001b[?25hdone\n",
      "  Created wheel for gym: filename=gym-0.17.3-py3-none-any.whl size=1654618 sha256=ef39383cd260bce947d6576b70be622f37c214506be39d4b1f398235284647a9\n",
      "  Stored in directory: /root/.cache/pip/wheels/af/4b/74/fcfc8238472c34d7f96508a63c962ff3ac9485a9a4137afd4e\n",
      "Successfully built gym\n",
      "Installing collected packages: pyglet, cloudpickle, gym\n",
      "  Attempting uninstall: cloudpickle\n",
      "    Found existing installation: cloudpickle 2.2.1\n",
      "    Uninstalling cloudpickle-2.2.1:\n",
      "      Successfully uninstalled cloudpickle-2.2.1\n",
      "  Attempting uninstall: gym\n",
      "    Found existing installation: gym 0.25.2\n",
      "    Uninstalling gym-0.25.2:\n",
      "      Successfully uninstalled gym-0.25.2\n",
      "\u001b[31mERROR: pip's dependency resolver does not currently take into account all the packages that are installed. This behaviour is the source of the following dependency conflicts.\n",
      "bigframes 0.13.0 requires cloudpickle>=2.0.0, but you have cloudpickle 1.6.0 which is incompatible.\u001b[0m\u001b[31m\n",
      "\u001b[0mSuccessfully installed cloudpickle-1.6.0 gym-0.17.3 pyglet-1.5.0\n",
      "Collecting git+https://github.com/Kojoley/atari-py.git\n",
      "  Cloning https://github.com/Kojoley/atari-py.git to /tmp/pip-req-build-7924jbim\n",
      "  Running command git clone --filter=blob:none --quiet https://github.com/Kojoley/atari-py.git /tmp/pip-req-build-7924jbim\n",
      "  Resolved https://github.com/Kojoley/atari-py.git to commit 86a1e05c0a95e9e6233c3a413521fdb34ca8a089\n",
      "  Preparing metadata (setup.py) ... \u001b[?25l\u001b[?25hdone\n",
      "Requirement already satisfied: numpy in /usr/local/lib/python3.10/dist-packages (from atari-py==1.2.2) (1.23.5)\n",
      "Building wheels for collected packages: atari-py\n",
      "  Building wheel for atari-py (setup.py) ... \u001b[?25l\u001b[?25hdone\n",
      "  Created wheel for atari-py: filename=atari_py-1.2.2-cp310-cp310-linux_x86_64.whl size=4738732 sha256=ab30c8237846c712a0acae6858b28fd9e285036b276fb548a49ff0332ec17485\n",
      "  Stored in directory: /tmp/pip-ephem-wheel-cache-grtnj0st/wheels/6c/9b/f1/8a80a63a233d6f4eb2e2ee8c7357f4875f21c3ffc7f2613f9f\n",
      "Successfully built atari-py\n",
      "Installing collected packages: atari-py\n",
      "Successfully installed atari-py-1.2.2\n",
      "Collecting keras-rl2==1.0.5\n",
      "  Downloading keras_rl2-1.0.5-py3-none-any.whl (52 kB)\n",
      "\u001b[2K     \u001b[90m━━━━━━━━━━━━━━━━━━━━━━━━━━━━━━━━━━━━━━━━\u001b[0m \u001b[32m52.1/52.1 kB\u001b[0m \u001b[31m1.4 MB/s\u001b[0m eta \u001b[36m0:00:00\u001b[0m\n",
      "\u001b[?25hRequirement already satisfied: tensorflow in /usr/local/lib/python3.10/dist-packages (from keras-rl2==1.0.5) (2.14.0)\n",
      "Requirement already satisfied: absl-py>=1.0.0 in /usr/local/lib/python3.10/dist-packages (from tensorflow->keras-rl2==1.0.5) (1.4.0)\n",
      "Requirement already satisfied: astunparse>=1.6.0 in /usr/local/lib/python3.10/dist-packages (from tensorflow->keras-rl2==1.0.5) (1.6.3)\n",
      "Requirement already satisfied: flatbuffers>=23.5.26 in /usr/local/lib/python3.10/dist-packages (from tensorflow->keras-rl2==1.0.5) (23.5.26)\n",
      "Requirement already satisfied: gast!=0.5.0,!=0.5.1,!=0.5.2,>=0.2.1 in /usr/local/lib/python3.10/dist-packages (from tensorflow->keras-rl2==1.0.5) (0.5.4)\n",
      "Requirement already satisfied: google-pasta>=0.1.1 in /usr/local/lib/python3.10/dist-packages (from tensorflow->keras-rl2==1.0.5) (0.2.0)\n",
      "Requirement already satisfied: h5py>=2.9.0 in /usr/local/lib/python3.10/dist-packages (from tensorflow->keras-rl2==1.0.5) (3.9.0)\n",
      "Requirement already satisfied: libclang>=13.0.0 in /usr/local/lib/python3.10/dist-packages (from tensorflow->keras-rl2==1.0.5) (16.0.6)\n",
      "Requirement already satisfied: ml-dtypes==0.2.0 in /usr/local/lib/python3.10/dist-packages (from tensorflow->keras-rl2==1.0.5) (0.2.0)\n",
      "Requirement already satisfied: numpy>=1.23.5 in /usr/local/lib/python3.10/dist-packages (from tensorflow->keras-rl2==1.0.5) (1.23.5)\n",
      "Requirement already satisfied: opt-einsum>=2.3.2 in /usr/local/lib/python3.10/dist-packages (from tensorflow->keras-rl2==1.0.5) (3.3.0)\n",
      "Requirement already satisfied: packaging in /usr/local/lib/python3.10/dist-packages (from tensorflow->keras-rl2==1.0.5) (23.2)\n",
      "Requirement already satisfied: protobuf!=4.21.0,!=4.21.1,!=4.21.2,!=4.21.3,!=4.21.4,!=4.21.5,<5.0.0dev,>=3.20.3 in /usr/local/lib/python3.10/dist-packages (from tensorflow->keras-rl2==1.0.5) (3.20.3)\n",
      "Requirement already satisfied: setuptools in /usr/local/lib/python3.10/dist-packages (from tensorflow->keras-rl2==1.0.5) (67.7.2)\n",
      "Requirement already satisfied: six>=1.12.0 in /usr/local/lib/python3.10/dist-packages (from tensorflow->keras-rl2==1.0.5) (1.16.0)\n",
      "Requirement already satisfied: termcolor>=1.1.0 in /usr/local/lib/python3.10/dist-packages (from tensorflow->keras-rl2==1.0.5) (2.3.0)\n",
      "Requirement already satisfied: typing-extensions>=3.6.6 in /usr/local/lib/python3.10/dist-packages (from tensorflow->keras-rl2==1.0.5) (4.5.0)\n",
      "Requirement already satisfied: wrapt<1.15,>=1.11.0 in /usr/local/lib/python3.10/dist-packages (from tensorflow->keras-rl2==1.0.5) (1.14.1)\n",
      "Requirement already satisfied: tensorflow-io-gcs-filesystem>=0.23.1 in /usr/local/lib/python3.10/dist-packages (from tensorflow->keras-rl2==1.0.5) (0.34.0)\n",
      "Requirement already satisfied: grpcio<2.0,>=1.24.3 in /usr/local/lib/python3.10/dist-packages (from tensorflow->keras-rl2==1.0.5) (1.59.2)\n",
      "Requirement already satisfied: tensorboard<2.15,>=2.14 in /usr/local/lib/python3.10/dist-packages (from tensorflow->keras-rl2==1.0.5) (2.14.1)\n",
      "Requirement already satisfied: tensorflow-estimator<2.15,>=2.14.0 in /usr/local/lib/python3.10/dist-packages (from tensorflow->keras-rl2==1.0.5) (2.14.0)\n",
      "Requirement already satisfied: keras<2.15,>=2.14.0 in /usr/local/lib/python3.10/dist-packages (from tensorflow->keras-rl2==1.0.5) (2.14.0)\n",
      "Requirement already satisfied: wheel<1.0,>=0.23.0 in /usr/local/lib/python3.10/dist-packages (from astunparse>=1.6.0->tensorflow->keras-rl2==1.0.5) (0.41.3)\n",
      "Requirement already satisfied: google-auth<3,>=1.6.3 in /usr/local/lib/python3.10/dist-packages (from tensorboard<2.15,>=2.14->tensorflow->keras-rl2==1.0.5) (2.17.3)\n",
      "Requirement already satisfied: google-auth-oauthlib<1.1,>=0.5 in /usr/local/lib/python3.10/dist-packages (from tensorboard<2.15,>=2.14->tensorflow->keras-rl2==1.0.5) (1.0.0)\n",
      "Requirement already satisfied: markdown>=2.6.8 in /usr/local/lib/python3.10/dist-packages (from tensorboard<2.15,>=2.14->tensorflow->keras-rl2==1.0.5) (3.5.1)\n",
      "Requirement already satisfied: requests<3,>=2.21.0 in /usr/local/lib/python3.10/dist-packages (from tensorboard<2.15,>=2.14->tensorflow->keras-rl2==1.0.5) (2.31.0)\n",
      "Requirement already satisfied: tensorboard-data-server<0.8.0,>=0.7.0 in /usr/local/lib/python3.10/dist-packages (from tensorboard<2.15,>=2.14->tensorflow->keras-rl2==1.0.5) (0.7.2)\n",
      "Requirement already satisfied: werkzeug>=1.0.1 in /usr/local/lib/python3.10/dist-packages (from tensorboard<2.15,>=2.14->tensorflow->keras-rl2==1.0.5) (3.0.1)\n",
      "Requirement already satisfied: cachetools<6.0,>=2.0.0 in /usr/local/lib/python3.10/dist-packages (from google-auth<3,>=1.6.3->tensorboard<2.15,>=2.14->tensorflow->keras-rl2==1.0.5) (5.3.2)\n",
      "Requirement already satisfied: pyasn1-modules>=0.2.1 in /usr/local/lib/python3.10/dist-packages (from google-auth<3,>=1.6.3->tensorboard<2.15,>=2.14->tensorflow->keras-rl2==1.0.5) (0.3.0)\n",
      "Requirement already satisfied: rsa<5,>=3.1.4 in /usr/local/lib/python3.10/dist-packages (from google-auth<3,>=1.6.3->tensorboard<2.15,>=2.14->tensorflow->keras-rl2==1.0.5) (4.9)\n",
      "Requirement already satisfied: requests-oauthlib>=0.7.0 in /usr/local/lib/python3.10/dist-packages (from google-auth-oauthlib<1.1,>=0.5->tensorboard<2.15,>=2.14->tensorflow->keras-rl2==1.0.5) (1.3.1)\n",
      "Requirement already satisfied: charset-normalizer<4,>=2 in /usr/local/lib/python3.10/dist-packages (from requests<3,>=2.21.0->tensorboard<2.15,>=2.14->tensorflow->keras-rl2==1.0.5) (3.3.2)\n",
      "Requirement already satisfied: idna<4,>=2.5 in /usr/local/lib/python3.10/dist-packages (from requests<3,>=2.21.0->tensorboard<2.15,>=2.14->tensorflow->keras-rl2==1.0.5) (3.4)\n",
      "Requirement already satisfied: urllib3<3,>=1.21.1 in /usr/local/lib/python3.10/dist-packages (from requests<3,>=2.21.0->tensorboard<2.15,>=2.14->tensorflow->keras-rl2==1.0.5) (2.0.7)\n",
      "Requirement already satisfied: certifi>=2017.4.17 in /usr/local/lib/python3.10/dist-packages (from requests<3,>=2.21.0->tensorboard<2.15,>=2.14->tensorflow->keras-rl2==1.0.5) (2023.7.22)\n",
      "Requirement already satisfied: MarkupSafe>=2.1.1 in /usr/local/lib/python3.10/dist-packages (from werkzeug>=1.0.1->tensorboard<2.15,>=2.14->tensorflow->keras-rl2==1.0.5) (2.1.3)\n",
      "Requirement already satisfied: pyasn1<0.6.0,>=0.4.6 in /usr/local/lib/python3.10/dist-packages (from pyasn1-modules>=0.2.1->google-auth<3,>=1.6.3->tensorboard<2.15,>=2.14->tensorflow->keras-rl2==1.0.5) (0.5.0)\n",
      "Requirement already satisfied: oauthlib>=3.0.0 in /usr/local/lib/python3.10/dist-packages (from requests-oauthlib>=0.7.0->google-auth-oauthlib<1.1,>=0.5->tensorboard<2.15,>=2.14->tensorflow->keras-rl2==1.0.5) (3.2.2)\n",
      "Installing collected packages: keras-rl2\n",
      "Successfully installed keras-rl2-1.0.5\n",
      "Collecting tensorflow==2.8\n",
      "  Downloading tensorflow-2.8.0-cp310-cp310-manylinux2010_x86_64.whl (497.6 MB)\n",
      "\u001b[2K     \u001b[90m━━━━━━━━━━━━━━━━━━━━━━━━━━━━━━━━━━━━━━━━\u001b[0m \u001b[32m497.6/497.6 MB\u001b[0m \u001b[31m3.3 MB/s\u001b[0m eta \u001b[36m0:00:00\u001b[0m\n",
      "\u001b[?25hRequirement already satisfied: absl-py>=0.4.0 in /usr/local/lib/python3.10/dist-packages (from tensorflow==2.8) (1.4.0)\n",
      "Requirement already satisfied: astunparse>=1.6.0 in /usr/local/lib/python3.10/dist-packages (from tensorflow==2.8) (1.6.3)\n",
      "Requirement already satisfied: flatbuffers>=1.12 in /usr/local/lib/python3.10/dist-packages (from tensorflow==2.8) (23.5.26)\n",
      "Requirement already satisfied: gast>=0.2.1 in /usr/local/lib/python3.10/dist-packages (from tensorflow==2.8) (0.5.4)\n",
      "Requirement already satisfied: google-pasta>=0.1.1 in /usr/local/lib/python3.10/dist-packages (from tensorflow==2.8) (0.2.0)\n",
      "Requirement already satisfied: h5py>=2.9.0 in /usr/local/lib/python3.10/dist-packages (from tensorflow==2.8) (3.9.0)\n",
      "Collecting keras-preprocessing>=1.1.1 (from tensorflow==2.8)\n",
      "  Downloading Keras_Preprocessing-1.1.2-py2.py3-none-any.whl (42 kB)\n",
      "\u001b[2K     \u001b[90m━━━━━━━━━━━━━━━━━━━━━━━━━━━━━━━━━━━━━━━━\u001b[0m \u001b[32m42.6/42.6 kB\u001b[0m \u001b[31m5.6 MB/s\u001b[0m eta \u001b[36m0:00:00\u001b[0m\n",
      "\u001b[?25hRequirement already satisfied: libclang>=9.0.1 in /usr/local/lib/python3.10/dist-packages (from tensorflow==2.8) (16.0.6)\n",
      "Requirement already satisfied: numpy>=1.20 in /usr/local/lib/python3.10/dist-packages (from tensorflow==2.8) (1.23.5)\n",
      "Requirement already satisfied: opt-einsum>=2.3.2 in /usr/local/lib/python3.10/dist-packages (from tensorflow==2.8) (3.3.0)\n",
      "Requirement already satisfied: protobuf>=3.9.2 in /usr/local/lib/python3.10/dist-packages (from tensorflow==2.8) (3.20.3)\n",
      "Requirement already satisfied: setuptools in /usr/local/lib/python3.10/dist-packages (from tensorflow==2.8) (67.7.2)\n",
      "Requirement already satisfied: six>=1.12.0 in /usr/local/lib/python3.10/dist-packages (from tensorflow==2.8) (1.16.0)\n",
      "Requirement already satisfied: termcolor>=1.1.0 in /usr/local/lib/python3.10/dist-packages (from tensorflow==2.8) (2.3.0)\n",
      "Requirement already satisfied: typing-extensions>=3.6.6 in /usr/local/lib/python3.10/dist-packages (from tensorflow==2.8) (4.5.0)\n",
      "Requirement already satisfied: wrapt>=1.11.0 in /usr/local/lib/python3.10/dist-packages (from tensorflow==2.8) (1.14.1)\n",
      "Collecting tensorboard<2.9,>=2.8 (from tensorflow==2.8)\n",
      "  Downloading tensorboard-2.8.0-py3-none-any.whl (5.8 MB)\n",
      "\u001b[2K     \u001b[90m━━━━━━━━━━━━━━━━━━━━━━━━━━━━━━━━━━━━━━━━\u001b[0m \u001b[32m5.8/5.8 MB\u001b[0m \u001b[31m75.5 MB/s\u001b[0m eta \u001b[36m0:00:00\u001b[0m\n",
      "\u001b[?25hCollecting tf-estimator-nightly==2.8.0.dev2021122109 (from tensorflow==2.8)\n",
      "  Downloading tf_estimator_nightly-2.8.0.dev2021122109-py2.py3-none-any.whl (462 kB)\n",
      "\u001b[2K     \u001b[90m━━━━━━━━━━━━━━━━━━━━━━━━━━━━━━━━━━━━━━━━\u001b[0m \u001b[32m462.5/462.5 kB\u001b[0m \u001b[31m41.2 MB/s\u001b[0m eta \u001b[36m0:00:00\u001b[0m\n",
      "\u001b[?25hCollecting keras<2.9,>=2.8.0rc0 (from tensorflow==2.8)\n",
      "  Downloading keras-2.8.0-py2.py3-none-any.whl (1.4 MB)\n",
      "\u001b[2K     \u001b[90m━━━━━━━━━━━━━━━━━━━━━━━━━━━━━━━━━━━━━━━━\u001b[0m \u001b[32m1.4/1.4 MB\u001b[0m \u001b[31m62.6 MB/s\u001b[0m eta \u001b[36m0:00:00\u001b[0m\n",
      "\u001b[?25hRequirement already satisfied: tensorflow-io-gcs-filesystem>=0.23.1 in /usr/local/lib/python3.10/dist-packages (from tensorflow==2.8) (0.34.0)\n",
      "Requirement already satisfied: grpcio<2.0,>=1.24.3 in /usr/local/lib/python3.10/dist-packages (from tensorflow==2.8) (1.59.2)\n",
      "Requirement already satisfied: wheel<1.0,>=0.23.0 in /usr/local/lib/python3.10/dist-packages (from astunparse>=1.6.0->tensorflow==2.8) (0.41.3)\n",
      "Requirement already satisfied: google-auth<3,>=1.6.3 in /usr/local/lib/python3.10/dist-packages (from tensorboard<2.9,>=2.8->tensorflow==2.8) (2.17.3)\n",
      "Collecting google-auth-oauthlib<0.5,>=0.4.1 (from tensorboard<2.9,>=2.8->tensorflow==2.8)\n",
      "  Downloading google_auth_oauthlib-0.4.6-py2.py3-none-any.whl (18 kB)\n",
      "Requirement already satisfied: markdown>=2.6.8 in /usr/local/lib/python3.10/dist-packages (from tensorboard<2.9,>=2.8->tensorflow==2.8) (3.5.1)\n",
      "Requirement already satisfied: requests<3,>=2.21.0 in /usr/local/lib/python3.10/dist-packages (from tensorboard<2.9,>=2.8->tensorflow==2.8) (2.31.0)\n",
      "Collecting tensorboard-data-server<0.7.0,>=0.6.0 (from tensorboard<2.9,>=2.8->tensorflow==2.8)\n",
      "  Downloading tensorboard_data_server-0.6.1-py3-none-manylinux2010_x86_64.whl (4.9 MB)\n",
      "\u001b[2K     \u001b[90m━━━━━━━━━━━━━━━━━━━━━━━━━━━━━━━━━━━━━━━━\u001b[0m \u001b[32m4.9/4.9 MB\u001b[0m \u001b[31m82.8 MB/s\u001b[0m eta \u001b[36m0:00:00\u001b[0m\n",
      "\u001b[?25hCollecting tensorboard-plugin-wit>=1.6.0 (from tensorboard<2.9,>=2.8->tensorflow==2.8)\n",
      "  Downloading tensorboard_plugin_wit-1.8.1-py3-none-any.whl (781 kB)\n",
      "\u001b[2K     \u001b[90m━━━━━━━━━━━━━━━━━━━━━━━━━━━━━━━━━━━━━━━━\u001b[0m \u001b[32m781.3/781.3 kB\u001b[0m \u001b[31m47.7 MB/s\u001b[0m eta \u001b[36m0:00:00\u001b[0m\n",
      "\u001b[?25hRequirement already satisfied: werkzeug>=0.11.15 in /usr/local/lib/python3.10/dist-packages (from tensorboard<2.9,>=2.8->tensorflow==2.8) (3.0.1)\n",
      "Requirement already satisfied: cachetools<6.0,>=2.0.0 in /usr/local/lib/python3.10/dist-packages (from google-auth<3,>=1.6.3->tensorboard<2.9,>=2.8->tensorflow==2.8) (5.3.2)\n",
      "Requirement already satisfied: pyasn1-modules>=0.2.1 in /usr/local/lib/python3.10/dist-packages (from google-auth<3,>=1.6.3->tensorboard<2.9,>=2.8->tensorflow==2.8) (0.3.0)\n",
      "Requirement already satisfied: rsa<5,>=3.1.4 in /usr/local/lib/python3.10/dist-packages (from google-auth<3,>=1.6.3->tensorboard<2.9,>=2.8->tensorflow==2.8) (4.9)\n",
      "Requirement already satisfied: requests-oauthlib>=0.7.0 in /usr/local/lib/python3.10/dist-packages (from google-auth-oauthlib<0.5,>=0.4.1->tensorboard<2.9,>=2.8->tensorflow==2.8) (1.3.1)\n",
      "Requirement already satisfied: charset-normalizer<4,>=2 in /usr/local/lib/python3.10/dist-packages (from requests<3,>=2.21.0->tensorboard<2.9,>=2.8->tensorflow==2.8) (3.3.2)\n",
      "Requirement already satisfied: idna<4,>=2.5 in /usr/local/lib/python3.10/dist-packages (from requests<3,>=2.21.0->tensorboard<2.9,>=2.8->tensorflow==2.8) (3.4)\n",
      "Requirement already satisfied: urllib3<3,>=1.21.1 in /usr/local/lib/python3.10/dist-packages (from requests<3,>=2.21.0->tensorboard<2.9,>=2.8->tensorflow==2.8) (2.0.7)\n",
      "Requirement already satisfied: certifi>=2017.4.17 in /usr/local/lib/python3.10/dist-packages (from requests<3,>=2.21.0->tensorboard<2.9,>=2.8->tensorflow==2.8) (2023.7.22)\n",
      "Requirement already satisfied: MarkupSafe>=2.1.1 in /usr/local/lib/python3.10/dist-packages (from werkzeug>=0.11.15->tensorboard<2.9,>=2.8->tensorflow==2.8) (2.1.3)\n",
      "Requirement already satisfied: pyasn1<0.6.0,>=0.4.6 in /usr/local/lib/python3.10/dist-packages (from pyasn1-modules>=0.2.1->google-auth<3,>=1.6.3->tensorboard<2.9,>=2.8->tensorflow==2.8) (0.5.0)\n",
      "Requirement already satisfied: oauthlib>=3.0.0 in /usr/local/lib/python3.10/dist-packages (from requests-oauthlib>=0.7.0->google-auth-oauthlib<0.5,>=0.4.1->tensorboard<2.9,>=2.8->tensorflow==2.8) (3.2.2)\n",
      "Installing collected packages: tf-estimator-nightly, tensorboard-plugin-wit, keras, tensorboard-data-server, keras-preprocessing, google-auth-oauthlib, tensorboard, tensorflow\n",
      "  Attempting uninstall: keras\n",
      "    Found existing installation: keras 2.14.0\n",
      "    Uninstalling keras-2.14.0:\n",
      "      Successfully uninstalled keras-2.14.0\n",
      "  Attempting uninstall: tensorboard-data-server\n",
      "    Found existing installation: tensorboard-data-server 0.7.2\n",
      "    Uninstalling tensorboard-data-server-0.7.2:\n",
      "      Successfully uninstalled tensorboard-data-server-0.7.2\n",
      "  Attempting uninstall: google-auth-oauthlib\n",
      "    Found existing installation: google-auth-oauthlib 1.0.0\n",
      "    Uninstalling google-auth-oauthlib-1.0.0:\n",
      "      Successfully uninstalled google-auth-oauthlib-1.0.0\n",
      "  Attempting uninstall: tensorboard\n",
      "    Found existing installation: tensorboard 2.14.1\n",
      "    Uninstalling tensorboard-2.14.1:\n",
      "      Successfully uninstalled tensorboard-2.14.1\n",
      "  Attempting uninstall: tensorflow\n",
      "    Found existing installation: tensorflow 2.14.0\n",
      "    Uninstalling tensorflow-2.14.0:\n",
      "      Successfully uninstalled tensorflow-2.14.0\n",
      "Successfully installed google-auth-oauthlib-0.4.6 keras-2.8.0 keras-preprocessing-1.1.2 tensorboard-2.8.0 tensorboard-data-server-0.6.1 tensorboard-plugin-wit-1.8.1 tensorflow-2.8.0 tf-estimator-nightly-2.8.0.dev2021122109\n"
     ]
    }
   ],
   "source": [
    "if IN_COLAB:\n",
    "  %pip install gym==0.17.3\n",
    "  %pip install git+https://github.com/Kojoley/atari-py.git\n",
    "  %pip install keras-rl2==1.0.5\n",
    "  %pip install tensorflow==2.8\n",
    "else:\n",
    "  %pip install gym==0.17.3\n",
    "  %pip install git+https://github.com/Kojoley/atari-py.git\n",
    "  %pip install pyglet==1.5.0\n",
    "  %pip install h5py==3.1.0\n",
    "  %pip install Pillow==9.5.0\n",
    "  %pip install keras-rl2==1.0.5\n",
    "  %pip install Keras==2.2.4\n",
    "  %pip install tensorflow==2.5.3\n",
    "  %pip install torch==2.0.1\n",
    "  %pip install agents==1.4.0"
   ]
  },
  {
   "cell_type": "markdown",
   "metadata": {
    "id": "4hzP_5ZuGb2X"
   },
   "source": [
    "---\n",
    "## **PARTE 2**. Enunciado\n",
    "\n",
    "Consideraciones a tener en cuenta:\n",
    "\n",
    "- El entorno sobre el que trabajaremos será _SpaceInvaders-v0_ y el algoritmo que usaremos será _DQN_.\n",
    "\n",
    "- Para nuestro ejercicio, el requisito mínimo será alcanzado cuando el agente consiga una **media de recompensa por encima de 20 puntos en modo test**. Por ello, esta media de la recompensa se calculará a partir del código de test en la última celda del notebook.\n",
    "\n",
    "Este proyecto práctico consta de tres partes:\n",
    "\n",
    "1.   Implementar la red neuronal que se usará en la solución\n",
    "2.   Implementar las distintas piezas de la solución DQN\n",
    "3.   Justificar la respuesta en relación a los resultados obtenidos\n",
    "\n",
    "**Rúbrica**: Se valorará la originalidad en la solución aportada, así como la capacidad de discutir los resultados de forma detallada. El requisito mínimo servirá para aprobar la actividad, bajo premisa de que la discusión del resultado sera apropiada.\n",
    "\n",
    "IMPORTANTE:\n",
    "\n",
    "* Si no se consigue una puntuación óptima, responder sobre la mejor puntuación obtenida.\n",
    "* Para entrenamientos largos, recordad que podéis usar checkpoints de vuestros modelos para retomar los entrenamientos. En este caso, recordad cambiar los parámetros adecuadamente (sobre todo los relacionados con el proceso de exploración).\n",
    "* Se deberá entregar unicamente el notebook y los pesos del mejor modelo en un fichero .zip, de forma organizada.\n",
    "* Cada alumno deberá de subir la solución de forma individual."
   ]
  },
  {
   "cell_type": "markdown",
   "metadata": {
    "id": "6_b3mzw8IzJP"
   },
   "source": [
    "---\n",
    "## **PARTE 3**. Desarrollo y preguntas"
   ]
  },
  {
   "cell_type": "markdown",
   "metadata": {
    "id": "duPmUNOVGb2a"
   },
   "source": [
    "#### Importar librerías"
   ]
  },
  {
   "cell_type": "code",
   "execution_count": 5,
   "metadata": {},
   "outputs": [
    {
     "data": {
      "text/plain": [
       "[PhysicalDevice(name='/physical_device:GPU:0', device_type='GPU')]"
      ]
     },
     "execution_count": 5,
     "metadata": {},
     "output_type": "execute_result"
    }
   ],
   "source": [
    "import tensorflow as tf\n",
    "tf.config.list_physical_devices('GPU')"
   ]
  },
  {
   "cell_type": "code",
   "execution_count": 6,
   "metadata": {
    "id": "j3eRhgI-Gb2a"
   },
   "outputs": [],
   "source": [
    "from __future__ import division\n",
    "\n",
    "from PIL import Image\n",
    "import numpy as np\n",
    "import gym\n",
    "\n",
    "from tensorflow.keras.regularizers import l2\n",
    "from tensorflow.keras.applications import Xception\n",
    "from tensorflow.keras.models import Sequential, Model\n",
    "from tensorflow.keras.layers import Dense, Activation, Flatten, Convolution2D, Permute, MaxPooling2D, GlobalAveragePooling2D \\\n",
    "                                    ,LeakyReLU , BatchNormalization, Dropout\n",
    "from tensorflow.keras.optimizers import Adam\n",
    "import tensorflow.keras.backend as K\n",
    "\n",
    "from rl.agents.dqn import DQNAgent\n",
    "from rl.policy import LinearAnnealedPolicy, BoltzmannQPolicy, EpsGreedyQPolicy\n",
    "from rl.memory import SequentialMemory\n",
    "from rl.core import Processor\n",
    "from rl.callbacks import FileLogger, ModelIntervalCheckpoint"
   ]
  },
  {
   "cell_type": "markdown",
   "metadata": {
    "id": "f4jgQjzoGb2a"
   },
   "source": [
    "#### Configuración base"
   ]
  },
  {
   "cell_type": "markdown",
   "metadata": {
    "id": "aXdWR5-SUeVy"
   },
   "source": [
    "- [SpaceInvaders Gym Documentation](https://www.gymlibrary.dev/environments/atari/space_invaders/)"
   ]
  },
  {
   "cell_type": "code",
   "execution_count": 7,
   "metadata": {
    "id": "jwOE6I_KGb2a"
   },
   "outputs": [],
   "source": [
    "INPUT_SHAPE = (84, 84)\n",
    "WINDOW_LENGTH = 4\n",
    "\n",
    "env_name = 'SpaceInvaders-v0'\n",
    "env = gym.make(env_name)\n",
    "\n",
    "np.random.seed(123)\n",
    "env.seed(123)\n",
    "nb_actions = env.action_space.n"
   ]
  },
  {
   "cell_type": "code",
   "execution_count": 8,
   "metadata": {
    "colab": {
     "base_uri": "https://localhost:8080/"
    },
    "id": "4Ra8M4O0TouC",
    "outputId": "9a3ead1f-daf1-4cc2-d8bc-07bb852d4a0b"
   },
   "outputs": [
    {
     "name": "stdout",
     "output_type": "stream",
     "text": [
      "El tamaño del espacio de acciones es:  6  y son las siguientes:\n"
     ]
    }
   ],
   "source": [
    "print(\"El tamaño del espacio de acciones es: \",nb_actions,\" y son las siguientes:\")"
   ]
  },
  {
   "cell_type": "markdown",
   "metadata": {
    "id": "Qbt0KlkzU7tQ"
   },
   "source": [
    "![image.png](data:image/png;base64,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)"
   ]
  },
  {
   "cell_type": "code",
   "execution_count": 9,
   "metadata": {
    "colab": {
     "base_uri": "https://localhost:8080/"
    },
    "id": "0LKAr9BLYcfx",
    "outputId": "0f17f979-4d96-451c-bb8d-590ffc964a23"
   },
   "outputs": [
    {
     "name": "stdout",
     "output_type": "stream",
     "text": [
      "Formato de las observaciones:\n"
     ]
    },
    {
     "data": {
      "text/plain": [
       "Box(0, 255, (210, 160, 3), uint8)"
      ]
     },
     "execution_count": 9,
     "metadata": {},
     "output_type": "execute_result"
    }
   ],
   "source": [
    "print(\"Formato de las observaciones:\")\n",
    "env.observation_space"
   ]
  },
  {
   "cell_type": "code",
   "execution_count": 10,
   "metadata": {
    "id": "9jGEZUcpGb2a"
   },
   "outputs": [],
   "source": [
    "class AtariProcessor(Processor):\n",
    "    def process_observation(self, observation):\n",
    "        # 3 dimensiones de forma obligatoria -> RGB\n",
    "        assert observation.ndim == 3  # (height, width, channel)\n",
    "        img = Image.fromarray(observation)\n",
    "        img = img.resize(INPUT_SHAPE).convert('L') # gray\n",
    "        processed_observation = np.array(img)\n",
    "        assert processed_observation.shape == INPUT_SHAPE\n",
    "        return processed_observation.astype('uint8')\n",
    "\n",
    "    def process_state_batch(self, batch):\n",
    "        processed_batch = batch.astype('float32') / 255.\n",
    "        return processed_batch\n",
    "\n",
    "    def process_reward(self, reward):\n",
    "        return np.clip(reward, -1., 1.)"
   ]
  },
  {
   "cell_type": "markdown",
   "metadata": {
    "id": "7yitXTADGb2b"
   },
   "source": [
    "#### 1. Implementación de la red neuronal"
   ]
  },
  {
   "cell_type": "markdown",
   "metadata": {
    "id": "MGrkLFZhW9EB"
   },
   "source": [
    "##### CNN por Mnih et al. (2015), con modificaciones"
   ]
  },
  {
   "cell_type": "code",
   "execution_count": 9,
   "metadata": {
    "colab": {
     "base_uri": "https://localhost:8080/"
    },
    "id": "O4GKrfWSGb2b",
    "outputId": "13ec1bc4-4d43-4bcd-d4be-24b83c12cfa0"
   },
   "outputs": [
    {
     "name": "stdout",
     "output_type": "stream",
     "text": [
      "channels_last\n",
      "Model: \"sequential\"\n",
      "_________________________________________________________________\n",
      " Layer (type)                Output Shape              Param #   \n",
      "=================================================================\n",
      " permute (Permute)           (None, 84, 84, 4)         0         \n",
      "                                                                 \n",
      " conv2d (Conv2D)             (None, 77, 77, 32)        8224      \n",
      "                                                                 \n",
      " max_pooling2d (MaxPooling2D  (None, 25, 25, 32)       0         \n",
      " )                                                               \n",
      "                                                                 \n",
      " activation (Activation)     (None, 25, 25, 32)        0         \n",
      "                                                                 \n",
      " conv2d_1 (Conv2D)           (None, 23, 23, 64)        18496     \n",
      "                                                                 \n",
      " max_pooling2d_1 (MaxPooling  (None, 11, 11, 64)       0         \n",
      " 2D)                                                             \n",
      "                                                                 \n",
      " activation_1 (Activation)   (None, 11, 11, 64)        0         \n",
      "                                                                 \n",
      " conv2d_2 (Conv2D)           (None, 9, 9, 64)          36928     \n",
      "                                                                 \n",
      " max_pooling2d_2 (MaxPooling  (None, 9, 9, 64)         0         \n",
      " 2D)                                                             \n",
      "                                                                 \n",
      " activation_2 (Activation)   (None, 9, 9, 64)          0         \n",
      "                                                                 \n",
      " flatten (Flatten)           (None, 5184)              0         \n",
      "                                                                 \n",
      " dense (Dense)               (None, 512)               2654720   \n",
      "                                                                 \n",
      " activation_3 (Activation)   (None, 512)               0         \n",
      "                                                                 \n",
      " dense_1 (Dense)             (None, 6)                 3078      \n",
      "                                                                 \n",
      " activation_4 (Activation)   (None, 6)                 0         \n",
      "                                                                 \n",
      "=================================================================\n",
      "Total params: 2,721,446\n",
      "Trainable params: 2,721,446\n",
      "Non-trainable params: 0\n",
      "_________________________________________________________________\n",
      "None\n"
     ]
    }
   ],
   "source": [
    "input_shape = (WINDOW_LENGTH,) + INPUT_SHAPE # (batch, width, height) -> también se podría utilizar una LSTM (batch temporal)\n",
    "model = Sequential()\n",
    "print(K.image_data_format())\n",
    "if K.image_data_format() == 'channels_last':\n",
    "    # (width, height, channels)\n",
    "    model.add(Permute((2, 3, 1), input_shape=input_shape))\n",
    "elif K.image_data_format() == 'channels_first':\n",
    "    # (channels, width, height)\n",
    "    model.add(Permute((1, 2, 3), input_shape=input_shape))\n",
    "else:\n",
    "    raise RuntimeError('Unknown image_dim_ordering.')\n",
    "\n",
    "# Cambiamos los strides por MaxPooling2D\n",
    "model.add(Convolution2D(32, (8, 8)))\n",
    "model.add(MaxPooling2D((3, 3)))\n",
    "model.add(Activation('relu'))\n",
    "model.add(Convolution2D(64, (3, 3)))\n",
    "model.add(MaxPooling2D((2, 2)))\n",
    "model.add(Activation('relu'))\n",
    "model.add(Convolution2D(64, (3, 3)))\n",
    "model.add(MaxPooling2D((1, 1)))\n",
    "model.add(Activation('relu'))\n",
    "# Cambiamos el Flatten por GlobalAveragePooling2D\n",
    "# model.add(GlobalAveragePooling2D())\n",
    "model.add(Flatten())\n",
    "model.add(Dense(512))\n",
    "model.add(Activation('relu'))\n",
    "model.add(Dense(nb_actions))\n",
    "model.add(Activation('linear'))\n",
    "print(model.summary())"
   ]
  },
  {
   "cell_type": "markdown",
   "metadata": {
    "id": "sjvI4K8zkjmH"
   },
   "source": [
    "###### Resultados con esta arquitectura"
   ]
  },
  {
   "cell_type": "markdown",
   "metadata": {
    "id": "jPoQcBG1khto"
   },
   "source": [
    "![image.png](data:image/png;base64,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)"
   ]
  },
  {
   "cell_type": "markdown",
   "metadata": {
    "id": "Vd_BO00dmDHq"
   },
   "source": [
    "![image.png](data:image/png;base64,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)"
   ]
  },
  {
   "cell_type": "markdown",
   "metadata": {
    "id": "npos6Z8UnqTh"
   },
   "source": [
    "##### Mejoras sobre la red anterior"
   ]
  },
  {
   "cell_type": "code",
   "execution_count": 11,
   "metadata": {
    "colab": {
     "base_uri": "https://localhost:8080/"
    },
    "id": "QyLQivB7nwMi",
    "outputId": "539ddc58-9596-4882-c400-05c860afb537"
   },
   "outputs": [
    {
     "name": "stdout",
     "output_type": "stream",
     "text": [
      "channels_last\n",
      "WARNING:tensorflow:From C:\\Users\\usuario\\anaconda3\\envs\\miar_rl\\lib\\site-packages\\tensorflow\\python\\keras\\layers\\normalization.py:534: _colocate_with (from tensorflow.python.framework.ops) is deprecated and will be removed in a future version.\n",
      "Instructions for updating:\n",
      "Colocations handled automatically by placer.\n",
      "Model: \"sequential\"\n",
      "_________________________________________________________________\n",
      "Layer (type)                 Output Shape              Param #   \n",
      "=================================================================\n",
      "permute (Permute)            (None, 84, 84, 4)         0         \n",
      "_________________________________________________________________\n",
      "conv2d (Conv2D)              (None, 77, 77, 32)        8224      \n",
      "_________________________________________________________________\n",
      "max_pooling2d (MaxPooling2D) (None, 25, 25, 32)        0         \n",
      "_________________________________________________________________\n",
      "leaky_re_lu (LeakyReLU)      (None, 25, 25, 32)        0         \n",
      "_________________________________________________________________\n",
      "batch_normalization (BatchNo (None, 25, 25, 32)        128       \n",
      "_________________________________________________________________\n",
      "dropout (Dropout)            (None, 25, 25, 32)        0         \n",
      "_________________________________________________________________\n",
      "conv2d_1 (Conv2D)            (None, 23, 23, 64)        18496     \n",
      "_________________________________________________________________\n",
      "max_pooling2d_1 (MaxPooling2 (None, 11, 11, 64)        0         \n",
      "_________________________________________________________________\n",
      "leaky_re_lu_1 (LeakyReLU)    (None, 11, 11, 64)        0         \n",
      "_________________________________________________________________\n",
      "batch_normalization_1 (Batch (None, 11, 11, 64)        256       \n",
      "_________________________________________________________________\n",
      "dropout_1 (Dropout)          (None, 11, 11, 64)        0         \n",
      "_________________________________________________________________\n",
      "conv2d_2 (Conv2D)            (None, 9, 9, 64)          36928     \n",
      "_________________________________________________________________\n",
      "max_pooling2d_2 (MaxPooling2 (None, 9, 9, 64)          0         \n",
      "_________________________________________________________________\n",
      "leaky_re_lu_2 (LeakyReLU)    (None, 9, 9, 64)          0         \n",
      "_________________________________________________________________\n",
      "batch_normalization_2 (Batch (None, 9, 9, 64)          256       \n",
      "_________________________________________________________________\n",
      "dropout_2 (Dropout)          (None, 9, 9, 64)          0         \n",
      "_________________________________________________________________\n",
      "global_average_pooling2d (Gl (None, 64)                0         \n",
      "_________________________________________________________________\n",
      "dense (Dense)                (None, 6)                 390       \n",
      "_________________________________________________________________\n",
      "activation (Activation)      (None, 6)                 0         \n",
      "=================================================================\n",
      "Total params: 64,678\n",
      "Trainable params: 64,358\n",
      "Non-trainable params: 320\n",
      "_________________________________________________________________\n",
      "None\n"
     ]
    }
   ],
   "source": [
    "input_shape = (WINDOW_LENGTH,) + INPUT_SHAPE # (batch, width, height) -> también se podría utilizar una LSTM (batch temporal)\n",
    "model = Sequential()\n",
    "print(K.image_data_format())\n",
    "if K.image_data_format() == 'channels_last':\n",
    "    # (width, height, channels)\n",
    "    model.add(Permute((2, 3, 1), input_shape=input_shape))\n",
    "elif K.image_data_format() == 'channels_first':\n",
    "    # (channels, width, height)\n",
    "    model.add(Permute((1, 2, 3), input_shape=input_shape))\n",
    "else:\n",
    "    raise RuntimeError('Unknown image_dim_ordering.')\n",
    "\n",
    "# Block 1\n",
    "model.add(Convolution2D(32, (8, 8), kernel_regularizer=l2(0.001)))\n",
    "model.add(MaxPooling2D((3, 3)))\n",
    "model.add(LeakyReLU())\n",
    "model.add(BatchNormalization())\n",
    "model.add(Dropout(0.2))\n",
    "\n",
    "# Block 2\n",
    "model.add(Convolution2D(64, (3, 3), kernel_regularizer=l2(0.001)))\n",
    "model.add(MaxPooling2D((2, 2)))\n",
    "model.add(LeakyReLU())\n",
    "model.add(BatchNormalization())\n",
    "model.add(Dropout(0.2))\n",
    "\n",
    "# Block 3\n",
    "model.add(Convolution2D(64, (3, 3), kernel_regularizer=l2(0.001)))\n",
    "model.add(MaxPooling2D((1, 1)))\n",
    "model.add(LeakyReLU())\n",
    "model.add(BatchNormalization())\n",
    "model.add(Dropout(0.2))\n",
    "\n",
    "# Top Model\n",
    "model.add(GlobalAveragePooling2D())\n",
    "model.add(Dense(nb_actions))\n",
    "model.add(Activation('linear'))\n",
    "\n",
    "print(model.summary())"
   ]
  },
  {
   "cell_type": "markdown",
   "metadata": {
    "id": "OB9-_5HPGb2b"
   },
   "source": [
    "#### 2. Implementación de la solución DQN"
   ]
  },
  {
   "cell_type": "code",
   "execution_count": 12,
   "metadata": {
    "id": "xD-FuD7FaPHS"
   },
   "outputs": [],
   "source": [
    "###########  VALORES VISTOS EN CLASE  ###########\n",
    "# LEARNING_RATE = .00025\n",
    "# MEMORY_SIZE = 1000000\n",
    "\n",
    "# SHCHEDULER_STEPS = 1000000 # steps en los que aplica el scheduler\n",
    "# WARMUP_STEPS = 25000 # steps de calentamiento\n",
    "# MODEL_UPDATE = 10000 # cada estos steps se actualiza el modelo\n",
    "# MODEL_CHECKPOINT_STEPS = 250000 # cada estos steps se guarda un checkpoint del modelo\n",
    "# TRAIN_STEPS = 1750000 # número de steps de entrenamiento\n",
    "# LOG_INTERVAL = 10000\n",
    "\n",
    "LEARNING_RATE = .00025\n",
    "MEMORY_SIZE = 1000000\n",
    "\n",
    "SHCHEDULER_STEPS = 1000000 # steps en los que aplica el scheduler\n",
    "WARMUP_STEPS = 25000 # steps de calentamiento\n",
    "MODEL_UPDATE = 10000 # cada estos steps se actualiza el modelo\n",
    "MODEL_CHECKPOINT_STEPS = 50000 # cada estos steps se guarda un checkpoint del modelo\n",
    "TRAIN_STEPS = 1750000 # número de steps de entrenamiento\n",
    "LOG_INTERVAL = 10000"
   ]
  },
  {
   "cell_type": "code",
   "execution_count": 13,
   "metadata": {
    "id": "foSlxWH1Gb2b"
   },
   "outputs": [],
   "source": [
    "memory = SequentialMemory(limit=MEMORY_SIZE, window_length=WINDOW_LENGTH)\n",
    "processor = AtariProcessor()"
   ]
  },
  {
   "cell_type": "code",
   "execution_count": 14,
   "metadata": {
    "id": "-a50C-IFYlrS"
   },
   "outputs": [],
   "source": [
    "policy = LinearAnnealedPolicy(EpsGreedyQPolicy(), attr='eps', # scheduler del epsilon\n",
    "                              value_max=1., value_min=.1, value_test=.05, # empieza en 1, hasta 0.1 y en test 0.05\n",
    "                              nb_steps=SHCHEDULER_STEPS) # steps en los que el scheduler aplica"
   ]
  },
  {
   "cell_type": "code",
   "execution_count": 15,
   "metadata": {
    "id": "Lh38xjxgYn0C"
   },
   "outputs": [],
   "source": [
    "dqn = DQNAgent(model=model, nb_actions=nb_actions, policy=policy,\n",
    "               memory=memory, processor=processor,\n",
    "               nb_steps_warmup=WARMUP_STEPS, # steps de calentamiento\n",
    "               gamma=.99, # discount reward\n",
    "               target_model_update=MODEL_UPDATE, #actualización cada 10000 steps\n",
    "               train_interval=4)\n",
    "dqn.compile(Adam(learning_rate=LEARNING_RATE), metrics=['mae'])"
   ]
  },
  {
   "cell_type": "markdown",
   "metadata": {
    "id": "Uj5mgDwBYv0x"
   },
   "source": [
    "#### Training"
   ]
  },
  {
   "cell_type": "code",
   "execution_count": null,
   "metadata": {
    "colab": {
     "base_uri": "https://localhost:8080/"
    },
    "id": "WEk0ktTPYtyx",
    "outputId": "c0bf0d68-6457-4e74-8330-85740d0bb929"
   },
   "outputs": [
    {
     "name": "stdout",
     "output_type": "stream",
     "text": [
      "Training for 1750000 steps ...\n",
      "Interval 1 (0 steps performed)\n"
     ]
    },
    {
     "name": "stderr",
     "output_type": "stream",
     "text": [
      "C:\\Users\\usuario\\anaconda3\\envs\\miar_rl\\lib\\site-packages\\tensorflow\\python\\keras\\engine\\training.py:2424: UserWarning: `Model.state_updates` will be removed in a future version. This property should not be used in TensorFlow 2.0, as `updates` are applied automatically.\n",
      "  warnings.warn('`Model.state_updates` will be removed in a future version. '\n"
     ]
    },
    {
     "name": "stdout",
     "output_type": "stream",
     "text": [
      "10000/10000 [==============================] - 41s 4ms/step - reward: 0.0131\n",
      "15 episodes - episode_reward: 8.333 [2.000, 13.000] - ale.lives: 2.045\n",
      "\n",
      "Interval 2 (10000 steps performed)\n",
      "10000/10000 [==============================] - 38s 4ms/step - reward: 0.0135\n",
      "14 episodes - episode_reward: 9.429 [4.000, 14.000] - ale.lives: 2.068\n",
      "\n",
      "Interval 3 (20000 steps performed)\n",
      "10000/10000 [==============================] - 157s 16ms/step - reward: 0.0132\n",
      "15 episodes - episode_reward: 8.733 [2.000, 19.000] - loss: 0.065 - mae: 0.095 - mean_q: 0.185 - mean_eps: 0.975 - ale.lives: 2.089\n",
      "\n",
      "Interval 4 (30000 steps performed)\n",
      "10000/10000 [==============================] - 278s 28ms/step - reward: 0.0123\n",
      "15 episodes - episode_reward: 8.800 [1.000, 22.000] - loss: 0.013 - mae: 0.181 - mean_q: 0.283 - mean_eps: 0.969 - ale.lives: 2.219\n",
      "\n",
      "Interval 5 (40000 steps performed)\n",
      "10000/10000 [==============================] - 270s 27ms/step - reward: 0.0122\n",
      "15 episodes - episode_reward: 8.200 [3.000, 18.000] - loss: 0.009 - mae: 0.335 - mean_q: 0.452 - mean_eps: 0.960 - ale.lives: 2.101\n",
      "\n",
      "Interval 6 (50000 steps performed)\n",
      "10000/10000 [==============================] - 264s 26ms/step - reward: 0.0136\n",
      "15 episodes - episode_reward: 8.733 [2.000, 16.000] - loss: 0.009 - mae: 0.484 - mean_q: 0.622 - mean_eps: 0.951 - ale.lives: 2.215\n",
      "\n",
      "Interval 7 (60000 steps performed)\n",
      "10000/10000 [==============================] - 337s 34ms/step - reward: 0.0160\n",
      "14 episodes - episode_reward: 11.429 [3.000, 28.000] - loss: 0.008 - mae: 0.528 - mean_q: 0.668 - mean_eps: 0.942 - ale.lives: 2.182\n",
      "\n",
      "Interval 8 (70000 steps performed)\n",
      "10000/10000 [==============================] - 342s 34ms/step - reward: 0.0148\n",
      "14 episodes - episode_reward: 10.357 [3.000, 22.000] - loss: 0.008 - mae: 0.518 - mean_q: 0.652 - mean_eps: 0.933 - ale.lives: 2.166\n",
      "\n",
      "Interval 9 (80000 steps performed)\n",
      "10000/10000 [==============================] - 297s 30ms/step - reward: 0.0122\n",
      "16 episodes - episode_reward: 8.062 [3.000, 12.000] - loss: 0.008 - mae: 0.615 - mean_q: 0.764 - mean_eps: 0.924 - ale.lives: 2.120\n",
      "\n",
      "Interval 10 (90000 steps performed)\n",
      "10000/10000 [==============================] - 297s 30ms/step - reward: 0.0135\n",
      "16 episodes - episode_reward: 8.375 [4.000, 15.000] - loss: 0.008 - mae: 0.694 - mean_q: 0.855 - mean_eps: 0.915 - ale.lives: 2.031\n",
      "\n",
      "Interval 11 (100000 steps performed)\n",
      "10000/10000 [==============================] - 268s 27ms/step - reward: 0.0127\n",
      "15 episodes - episode_reward: 7.933 [2.000, 15.000] - loss: 0.009 - mae: 0.684 - mean_q: 0.840 - mean_eps: 0.906 - ale.lives: 2.051\n",
      "\n",
      "Interval 12 (110000 steps performed)\n",
      "10000/10000 [==============================] - 262s 26ms/step - reward: 0.0142\n",
      "13 episodes - episode_reward: 11.385 [6.000, 17.000] - loss: 0.008 - mae: 0.745 - mean_q: 0.910 - mean_eps: 0.897 - ale.lives: 2.121\n",
      "\n",
      "Interval 13 (120000 steps performed)\n",
      "10000/10000 [==============================] - 261s 26ms/step - reward: 0.0132\n",
      "14 episodes - episode_reward: 9.714 [6.000, 23.000] - loss: 0.009 - mae: 0.811 - mean_q: 0.988 - mean_eps: 0.888 - ale.lives: 2.089\n",
      "\n",
      "Interval 14 (130000 steps performed)\n",
      "10000/10000 [==============================] - 255s 25ms/step - reward: 0.0140\n",
      "12 episodes - episode_reward: 10.917 [6.000, 20.000] - loss: 0.008 - mae: 0.770 - mean_q: 0.936 - mean_eps: 0.879 - ale.lives: 2.064\n",
      "\n",
      "Interval 15 (140000 steps performed)\n",
      "10000/10000 [==============================] - 256s 26ms/step - reward: 0.0148\n",
      "14 episodes - episode_reward: 10.857 [5.000, 24.000] - loss: 0.008 - mae: 0.803 - mean_q: 0.975 - mean_eps: 0.870 - ale.lives: 1.966\n",
      "\n",
      "Interval 16 (150000 steps performed)\n",
      "10000/10000 [==============================] - 258s 26ms/step - reward: 0.0147\n",
      "15 episodes - episode_reward: 9.400 [4.000, 17.000] - loss: 0.008 - mae: 0.849 - mean_q: 1.028 - mean_eps: 0.861 - ale.lives: 2.050\n",
      "\n",
      "Interval 17 (160000 steps performed)\n",
      "10000/10000 [==============================] - 259s 26ms/step - reward: 0.0146\n",
      "13 episodes - episode_reward: 11.231 [5.000, 18.000] - loss: 0.009 - mae: 0.918 - mean_q: 1.109 - mean_eps: 0.852 - ale.lives: 2.074\n",
      "\n",
      "Interval 18 (170000 steps performed)\n",
      "10000/10000 [==============================] - 263s 26ms/step - reward: 0.0158\n",
      "12 episodes - episode_reward: 14.000 [8.000, 19.000] - loss: 0.009 - mae: 0.940 - mean_q: 1.135 - mean_eps: 0.843 - ale.lives: 1.990\n",
      "\n",
      "Interval 19 (180000 steps performed)\n",
      "10000/10000 [==============================] - 257s 26ms/step - reward: 0.0171\n",
      "11 episodes - episode_reward: 15.273 [6.000, 24.000] - loss: 0.009 - mae: 1.023 - mean_q: 1.234 - mean_eps: 0.834 - ale.lives: 1.999\n",
      "\n",
      "Interval 20 (190000 steps performed)\n",
      "10000/10000 [==============================] - 259s 26ms/step - reward: 0.0144\n",
      "14 episodes - episode_reward: 10.571 [4.000, 20.000] - loss: 0.009 - mae: 1.080 - mean_q: 1.301 - mean_eps: 0.825 - ale.lives: 2.043\n",
      "\n",
      "Interval 21 (200000 steps performed)\n",
      "10000/10000 [==============================] - 260s 26ms/step - reward: 0.0126\n",
      "15 episodes - episode_reward: 8.000 [4.000, 14.000] - loss: 0.010 - mae: 1.140 - mean_q: 1.371 - mean_eps: 0.816 - ale.lives: 2.109\n",
      "\n",
      "Interval 22 (210000 steps performed)\n",
      "10000/10000 [==============================] - 264s 26ms/step - reward: 0.0142\n",
      "13 episodes - episode_reward: 11.000 [3.000, 15.000] - loss: 0.010 - mae: 1.164 - mean_q: 1.399 - mean_eps: 0.807 - ale.lives: 2.082\n",
      "\n",
      "Interval 23 (220000 steps performed)\n",
      "10000/10000 [==============================] - 264s 26ms/step - reward: 0.0160\n",
      "15 episodes - episode_reward: 10.667 [4.000, 20.000] - loss: 0.010 - mae: 1.239 - mean_q: 1.488 - mean_eps: 0.798 - ale.lives: 2.193\n",
      "\n",
      "Interval 24 (230000 steps performed)\n",
      "10000/10000 [==============================] - 265s 26ms/step - reward: 0.0158\n",
      "13 episodes - episode_reward: 12.154 [4.000, 28.000] - loss: 0.011 - mae: 1.274 - mean_q: 1.529 - mean_eps: 0.789 - ale.lives: 2.123\n",
      "\n",
      "Interval 25 (240000 steps performed)\n",
      "10000/10000 [==============================] - 266s 27ms/step - reward: 0.0140\n",
      "14 episodes - episode_reward: 9.857 [6.000, 22.000] - loss: 0.011 - mae: 1.271 - mean_q: 1.526 - mean_eps: 0.780 - ale.lives: 2.011\n",
      "\n",
      "Interval 26 (250000 steps performed)\n",
      "10000/10000 [==============================] - 267s 27ms/step - reward: 0.0143\n",
      "15 episodes - episode_reward: 9.800 [4.000, 27.000] - loss: 0.011 - mae: 1.265 - mean_q: 1.519 - mean_eps: 0.771 - ale.lives: 1.996\n",
      "\n",
      "Interval 27 (260000 steps performed)\n",
      "10000/10000 [==============================] - 267s 27ms/step - reward: 0.0150\n",
      "16 episodes - episode_reward: 9.250 [3.000, 24.000] - loss: 0.010 - mae: 1.236 - mean_q: 1.485 - mean_eps: 0.762 - ale.lives: 2.119\n",
      "\n",
      "Interval 28 (270000 steps performed)\n",
      "10000/10000 [==============================] - 269s 27ms/step - reward: 0.0143\n",
      "14 episodes - episode_reward: 10.071 [4.000, 23.000] - loss: 0.011 - mae: 1.305 - mean_q: 1.568 - mean_eps: 0.753 - ale.lives: 2.122\n",
      "\n",
      "Interval 29 (280000 steps performed)\n",
      "10000/10000 [==============================] - 269s 27ms/step - reward: 0.0158\n",
      "13 episodes - episode_reward: 11.769 [2.000, 27.000] - loss: 0.011 - mae: 1.295 - mean_q: 1.555 - mean_eps: 0.744 - ale.lives: 2.258\n",
      "\n",
      "Interval 30 (290000 steps performed)\n",
      "10000/10000 [==============================] - 269s 27ms/step - reward: 0.0159\n",
      "15 episodes - episode_reward: 11.400 [2.000, 25.000] - loss: 0.011 - mae: 1.317 - mean_q: 1.578 - mean_eps: 0.735 - ale.lives: 1.971\n",
      "\n",
      "Interval 31 (300000 steps performed)\n",
      "10000/10000 [==============================] - 272s 27ms/step - reward: 0.0149\n",
      "13 episodes - episode_reward: 10.231 [4.000, 23.000] - loss: 0.013 - mae: 1.397 - mean_q: 1.672 - mean_eps: 0.726 - ale.lives: 2.012\n",
      "\n",
      "Interval 32 (310000 steps performed)\n",
      "10000/10000 [==============================] - 270s 27ms/step - reward: 0.0158\n",
      "12 episodes - episode_reward: 13.333 [4.000, 24.000] - loss: 0.012 - mae: 1.332 - mean_q: 1.594 - mean_eps: 0.717 - ale.lives: 2.035\n",
      "\n",
      "Interval 33 (320000 steps performed)\n",
      "10000/10000 [==============================] - 270s 27ms/step - reward: 0.0154\n",
      "14 episodes - episode_reward: 11.714 [4.000, 30.000] - loss: 0.013 - mae: 1.275 - mean_q: 1.526 - mean_eps: 0.708 - ale.lives: 2.043\n",
      "\n",
      "Interval 34 (330000 steps performed)\n",
      "10000/10000 [==============================] - 270s 27ms/step - reward: 0.0172\n",
      "13 episodes - episode_reward: 13.385 [5.000, 35.000] - loss: 0.013 - mae: 1.233 - mean_q: 1.474 - mean_eps: 0.699 - ale.lives: 2.048\n",
      "\n",
      "Interval 35 (340000 steps performed)\n",
      "10000/10000 [==============================] - 272s 27ms/step - reward: 0.0153\n",
      "14 episodes - episode_reward: 10.429 [5.000, 24.000] - loss: 0.012 - mae: 1.184 - mean_q: 1.416 - mean_eps: 0.690 - ale.lives: 2.143\n",
      "\n",
      "Interval 36 (350000 steps performed)\n",
      "10000/10000 [==============================] - 274s 27ms/step - reward: 0.0148\n",
      "13 episodes - episode_reward: 12.077 [4.000, 30.000] - loss: 0.013 - mae: 1.164 - mean_q: 1.387 - mean_eps: 0.681 - ale.lives: 2.087\n",
      "\n",
      "Interval 37 (360000 steps performed)\n",
      "10000/10000 [==============================] - 274s 27ms/step - reward: 0.0175\n",
      "13 episodes - episode_reward: 13.077 [5.000, 25.000] - loss: 0.013 - mae: 1.166 - mean_q: 1.391 - mean_eps: 0.672 - ale.lives: 1.881\n",
      "\n",
      "Interval 38 (370000 steps performed)\n",
      "10000/10000 [==============================] - 276s 28ms/step - reward: 0.0159\n",
      "12 episodes - episode_reward: 12.417 [6.000, 21.000] - loss: 0.014 - mae: 1.112 - mean_q: 1.321 - mean_eps: 0.663 - ale.lives: 2.083\n",
      "\n",
      "Interval 39 (380000 steps performed)\n",
      "10000/10000 [==============================] - 276s 28ms/step - reward: 0.0141\n",
      "13 episodes - episode_reward: 11.385 [2.000, 20.000] - loss: 0.013 - mae: 1.062 - mean_q: 1.263 - mean_eps: 0.654 - ale.lives: 2.008\n",
      "\n",
      "Interval 40 (390000 steps performed)\n",
      "10000/10000 [==============================] - 276s 28ms/step - reward: 0.0158\n",
      "14 episodes - episode_reward: 11.143 [4.000, 29.000] - loss: 0.013 - mae: 1.031 - mean_q: 1.224 - mean_eps: 0.645 - ale.lives: 2.179\n",
      "\n",
      "Interval 41 (400000 steps performed)\n",
      "10000/10000 [==============================] - 277s 28ms/step - reward: 0.0140\n",
      "13 episodes - episode_reward: 11.308 [4.000, 20.000] - loss: 0.012 - mae: 0.895 - mean_q: 1.060 - mean_eps: 0.636 - ale.lives: 1.950\n",
      "\n",
      "Interval 42 (410000 steps performed)\n",
      "10000/10000 [==============================] - 279s 28ms/step - reward: 0.0141\n",
      "13 episodes - episode_reward: 9.692 [5.000, 21.000] - loss: 0.012 - mae: 0.874 - mean_q: 1.036 - mean_eps: 0.627 - ale.lives: 1.952\n",
      "\n",
      "Interval 43 (420000 steps performed)\n",
      "10000/10000 [==============================] - 279s 28ms/step - reward: 0.0155\n",
      "12 episodes - episode_reward: 14.417 [4.000, 23.000] - loss: 0.011 - mae: 0.766 - mean_q: 0.908 - mean_eps: 0.618 - ale.lives: 2.058\n",
      "\n",
      "Interval 44 (430000 steps performed)\n",
      "10000/10000 [==============================] - 279s 28ms/step - reward: 0.0150\n",
      "11 episodes - episode_reward: 13.000 [4.000, 25.000] - loss: 0.012 - mae: 0.797 - mean_q: 0.938 - mean_eps: 0.609 - ale.lives: 2.222\n",
      "\n",
      "Interval 45 (440000 steps performed)\n",
      "10000/10000 [==============================] - 281s 28ms/step - reward: 0.0154\n",
      "13 episodes - episode_reward: 10.462 [5.000, 20.000] - loss: 0.013 - mae: 0.813 - mean_q: 0.951 - mean_eps: 0.600 - ale.lives: 2.066\n",
      "\n",
      "Interval 46 (450000 steps performed)\n",
      "10000/10000 [==============================] - 281s 28ms/step - reward: 0.0161\n",
      "14 episodes - episode_reward: 13.214 [3.000, 26.000] - loss: 0.012 - mae: 0.779 - mean_q: 0.909 - mean_eps: 0.591 - ale.lives: 2.158\n",
      "\n",
      "Interval 47 (460000 steps performed)\n",
      "10000/10000 [==============================] - 281s 28ms/step - reward: 0.0138\n",
      "11 episodes - episode_reward: 11.182 [3.000, 20.000] - loss: 0.012 - mae: 0.643 - mean_q: 0.736 - mean_eps: 0.582 - ale.lives: 2.150\n",
      "\n",
      "Interval 48 (470000 steps performed)\n",
      "10000/10000 [==============================] - 283s 28ms/step - reward: 0.0141\n",
      "14 episodes - episode_reward: 10.143 [3.000, 20.000] - loss: 0.012 - mae: 0.574 - mean_q: 0.653 - mean_eps: 0.573 - ale.lives: 2.144\n",
      "\n",
      "Interval 49 (480000 steps performed)\n",
      "10000/10000 [==============================] - 284s 28ms/step - reward: 0.0161\n",
      "13 episodes - episode_reward: 11.692 [6.000, 17.000] - loss: 0.011 - mae: 0.558 - mean_q: 0.634 - mean_eps: 0.564 - ale.lives: 2.048\n",
      "\n",
      "Interval 50 (490000 steps performed)\n",
      "10000/10000 [==============================] - 284s 28ms/step - reward: 0.0143\n",
      "13 episodes - episode_reward: 12.462 [5.000, 30.000] - loss: 0.010 - mae: 0.472 - mean_q: 0.531 - mean_eps: 0.555 - ale.lives: 1.963\n",
      "\n",
      "Interval 51 (500000 steps performed)\n",
      "10000/10000 [==============================] - 285s 29ms/step - reward: 0.0171\n",
      "13 episodes - episode_reward: 13.077 [6.000, 37.000] - loss: 0.010 - mae: 0.437 - mean_q: 0.487 - mean_eps: 0.546 - ale.lives: 2.004\n",
      "\n",
      "Interval 52 (510000 steps performed)\n",
      "10000/10000 [==============================] - 286s 29ms/step - reward: 0.0193\n",
      "11 episodes - episode_reward: 17.455 [11.000, 32.000] - loss: 0.011 - mae: 0.404 - mean_q: 0.441 - mean_eps: 0.537 - ale.lives: 2.035\n",
      "\n",
      "Interval 53 (520000 steps performed)\n",
      "10000/10000 [==============================] - 287s 29ms/step - reward: 0.0155\n",
      "13 episodes - episode_reward: 11.154 [1.000, 28.000] - loss: 0.011 - mae: 0.445 - mean_q: 0.491 - mean_eps: 0.528 - ale.lives: 2.002\n",
      "\n",
      "Interval 54 (530000 steps performed)\n",
      "10000/10000 [==============================] - 289s 29ms/step - reward: 0.0142\n",
      "13 episodes - episode_reward: 12.231 [5.000, 22.000] - loss: 0.012 - mae: 0.512 - mean_q: 0.574 - mean_eps: 0.519 - ale.lives: 2.128\n",
      "\n",
      "Interval 55 (540000 steps performed)\n",
      "10000/10000 [==============================] - 291s 29ms/step - reward: 0.0161\n",
      "11 episodes - episode_reward: 14.273 [7.000, 27.000] - loss: 0.011 - mae: 0.533 - mean_q: 0.608 - mean_eps: 0.510 - ale.lives: 1.854\n",
      "\n",
      "Interval 56 (550000 steps performed)\n",
      "10000/10000 [==============================] - 291s 29ms/step - reward: 0.0141\n",
      "13 episodes - episode_reward: 11.154 [3.000, 26.000] - loss: 0.011 - mae: 0.490 - mean_q: 0.557 - mean_eps: 0.501 - ale.lives: 2.014\n",
      "\n",
      "Interval 57 (560000 steps performed)\n",
      "10000/10000 [==============================] - 290s 29ms/step - reward: 0.0171\n",
      "14 episodes - episode_reward: 10.786 [4.000, 29.000] - loss: 0.011 - mae: 0.518 - mean_q: 0.589 - mean_eps: 0.492 - ale.lives: 2.086\n",
      "\n",
      "Interval 58 (570000 steps performed)\n",
      "10000/10000 [==============================] - 293s 29ms/step - reward: 0.0152\n",
      "15 episodes - episode_reward: 11.467 [4.000, 26.000] - loss: 0.011 - mae: 0.607 - mean_q: 0.696 - mean_eps: 0.483 - ale.lives: 2.092\n",
      "\n",
      "Interval 59 (580000 steps performed)\n",
      "10000/10000 [==============================] - 293s 29ms/step - reward: 0.0164\n",
      "11 episodes - episode_reward: 12.909 [5.000, 27.000] - loss: 0.012 - mae: 0.688 - mean_q: 0.797 - mean_eps: 0.474 - ale.lives: 2.149\n",
      "\n",
      "Interval 60 (590000 steps performed)\n",
      "10000/10000 [==============================] - 293s 29ms/step - reward: 0.0145\n",
      "13 episodes - episode_reward: 11.385 [4.000, 22.000] - loss: 0.011 - mae: 0.580 - mean_q: 0.668 - mean_eps: 0.465 - ale.lives: 2.060\n",
      "\n",
      "Interval 61 (600000 steps performed)\n",
      "10000/10000 [==============================] - 297s 30ms/step - reward: 0.0134\n",
      "14 episodes - episode_reward: 10.643 [1.000, 23.000] - loss: 0.012 - mae: 0.581 - mean_q: 0.666 - mean_eps: 0.456 - ale.lives: 2.083\n",
      "\n",
      "Interval 62 (610000 steps performed)\n",
      "10000/10000 [==============================] - 296s 30ms/step - reward: 0.0150\n",
      "13 episodes - episode_reward: 11.462 [4.000, 22.000] - loss: 0.012 - mae: 0.515 - mean_q: 0.584 - mean_eps: 0.447 - ale.lives: 2.100\n",
      "\n",
      "Interval 63 (620000 steps performed)\n",
      "10000/10000 [==============================] - 297s 30ms/step - reward: 0.0149\n",
      "11 episodes - episode_reward: 13.273 [6.000, 27.000] - loss: 0.012 - mae: 0.494 - mean_q: 0.557 - mean_eps: 0.438 - ale.lives: 1.929\n",
      "\n",
      "Interval 64 (630000 steps performed)\n",
      "10000/10000 [==============================] - 299s 30ms/step - reward: 0.0143\n",
      "12 episodes - episode_reward: 12.000 [6.000, 19.000] - loss: 0.012 - mae: 0.522 - mean_q: 0.595 - mean_eps: 0.429 - ale.lives: 2.093\n",
      "\n",
      "Interval 65 (640000 steps performed)\n",
      "10000/10000 [==============================] - 300s 30ms/step - reward: 0.0132\n",
      "13 episodes - episode_reward: 10.308 [5.000, 20.000] - loss: 0.011 - mae: 0.395 - mean_q: 0.437 - mean_eps: 0.420 - ale.lives: 1.910\n",
      "\n",
      "Interval 66 (650000 steps performed)\n",
      "10000/10000 [==============================] - 301s 30ms/step - reward: 0.0144\n",
      "14 episodes - episode_reward: 10.429 [4.000, 23.000] - loss: 0.010 - mae: 0.280 - mean_q: 0.279 - mean_eps: 0.411 - ale.lives: 2.053\n",
      "\n",
      "Interval 67 (660000 steps performed)\n",
      "10000/10000 [==============================] - 302s 30ms/step - reward: 0.0169\n",
      "12 episodes - episode_reward: 13.667 [2.000, 27.000] - loss: 0.010 - mae: 0.230 - mean_q: 0.200 - mean_eps: 0.402 - ale.lives: 1.980\n",
      "\n",
      "Interval 68 (670000 steps performed)\n",
      "10000/10000 [==============================] - 303s 30ms/step - reward: 0.0157\n",
      "13 episodes - episode_reward: 12.154 [5.000, 20.000] - loss: 0.010 - mae: 0.219 - mean_q: 0.191 - mean_eps: 0.393 - ale.lives: 2.000\n",
      "\n",
      "Interval 69 (680000 steps performed)\n",
      "10000/10000 [==============================] - 304s 30ms/step - reward: 0.0153\n",
      "11 episodes - episode_reward: 14.455 [6.000, 27.000] - loss: 0.010 - mae: 0.251 - mean_q: 0.236 - mean_eps: 0.384 - ale.lives: 2.106\n",
      "\n",
      "Interval 70 (690000 steps performed)\n",
      "10000/10000 [==============================] - 304s 30ms/step - reward: 0.0163\n",
      "12 episodes - episode_reward: 12.500 [6.000, 26.000] - loss: 0.011 - mae: 0.316 - mean_q: 0.338 - mean_eps: 0.375 - ale.lives: 2.078\n",
      "\n",
      "Interval 71 (700000 steps performed)\n",
      "10000/10000 [==============================] - 309s 31ms/step - reward: 0.0143\n",
      "11 episodes - episode_reward: 13.091 [2.000, 28.000] - loss: 0.011 - mae: 0.229 - mean_q: 0.209 - mean_eps: 0.366 - ale.lives: 2.040\n",
      "\n",
      "Interval 72 (710000 steps performed)\n",
      "10000/10000 [==============================] - 308s 31ms/step - reward: 0.0176\n",
      "13 episodes - episode_reward: 14.077 [3.000, 25.000] - loss: 0.010 - mae: 0.223 - mean_q: 0.189 - mean_eps: 0.357 - ale.lives: 1.897\n",
      "\n",
      "Interval 73 (720000 steps performed)\n",
      "10000/10000 [==============================] - 307s 31ms/step - reward: 0.0150\n",
      "11 episodes - episode_reward: 12.909 [4.000, 26.000] - loss: 0.011 - mae: 0.203 - mean_q: 0.160 - mean_eps: 0.348 - ale.lives: 1.823\n",
      "\n",
      "Interval 74 (730000 steps performed)\n",
      "10000/10000 [==============================] - 309s 31ms/step - reward: 0.0143\n",
      "15 episodes - episode_reward: 10.467 [1.000, 24.000] - loss: 0.010 - mae: 0.239 - mean_q: 0.227 - mean_eps: 0.339 - ale.lives: 1.974\n",
      "\n",
      "Interval 75 (740000 steps performed)\n",
      "10000/10000 [==============================] - 310s 31ms/step - reward: 0.0144\n",
      "14 episodes - episode_reward: 10.071 [5.000, 21.000] - loss: 0.010 - mae: 0.201 - mean_q: 0.139 - mean_eps: 0.330 - ale.lives: 2.176\n",
      "\n",
      "Interval 76 (750000 steps performed)\n",
      "10000/10000 [==============================] - 310s 31ms/step - reward: 0.0165\n",
      "9 episodes - episode_reward: 15.667 [5.000, 24.000] - loss: 0.010 - mae: 0.223 - mean_q: 0.182 - mean_eps: 0.321 - ale.lives: 1.942\n",
      "\n",
      "Interval 77 (760000 steps performed)\n",
      "10000/10000 [==============================] - 312s 31ms/step - reward: 0.0125\n",
      "10 episodes - episode_reward: 15.000 [5.000, 27.000] - loss: 0.010 - mae: 0.229 - mean_q: 0.213 - mean_eps: 0.312 - ale.lives: 2.097\n",
      "\n",
      "Interval 78 (770000 steps performed)\n",
      "10000/10000 [==============================] - 313s 31ms/step - reward: 0.0146\n",
      "12 episodes - episode_reward: 11.500 [3.000, 21.000] - loss: 0.010 - mae: 0.215 - mean_q: 0.184 - mean_eps: 0.303 - ale.lives: 1.864\n",
      "\n",
      "Interval 79 (780000 steps performed)\n",
      "10000/10000 [==============================] - 316s 32ms/step - reward: 0.0165\n",
      "13 episodes - episode_reward: 12.385 [4.000, 32.000] - loss: 0.010 - mae: 0.200 - mean_q: 0.163 - mean_eps: 0.294 - ale.lives: 2.128\n",
      "\n",
      "Interval 80 (790000 steps performed)\n",
      "10000/10000 [==============================] - 317s 32ms/step - reward: 0.0157\n",
      "13 episodes - episode_reward: 12.846 [5.000, 18.000] - loss: 0.010 - mae: 0.199 - mean_q: 0.140 - mean_eps: 0.285 - ale.lives: 2.230\n",
      "\n",
      "Interval 81 (800000 steps performed)\n",
      "10000/10000 [==============================] - 318s 32ms/step - reward: 0.0159\n",
      "12 episodes - episode_reward: 13.583 [4.000, 27.000] - loss: 0.010 - mae: 0.180 - mean_q: 0.106 - mean_eps: 0.276 - ale.lives: 1.997\n",
      "\n",
      "Interval 82 (810000 steps performed)\n",
      "10000/10000 [==============================] - 319s 32ms/step - reward: 0.0150\n",
      "10 episodes - episode_reward: 14.000 [5.000, 27.000] - loss: 0.010 - mae: 0.180 - mean_q: 0.068 - mean_eps: 0.267 - ale.lives: 2.055\n",
      "\n",
      "Interval 83 (820000 steps performed)\n",
      "10000/10000 [==============================] - 320s 32ms/step - reward: 0.0166\n",
      "11 episodes - episode_reward: 15.091 [7.000, 29.000] - loss: 0.010 - mae: 0.164 - mean_q: 0.015 - mean_eps: 0.258 - ale.lives: 1.933\n",
      "\n",
      "Interval 84 (830000 steps performed)\n",
      "10000/10000 [==============================] - 321s 32ms/step - reward: 0.0162\n",
      "11 episodes - episode_reward: 15.091 [3.000, 19.000] - loss: 0.010 - mae: 0.168 - mean_q: 0.009 - mean_eps: 0.249 - ale.lives: 1.862\n",
      "\n",
      "Interval 85 (840000 steps performed)\n",
      "10000/10000 [==============================] - 323s 32ms/step - reward: 0.0164\n",
      "11 episodes - episode_reward: 14.636 [6.000, 25.000] - loss: 0.009 - mae: 0.165 - mean_q: 0.069 - mean_eps: 0.240 - ale.lives: 1.947\n",
      "\n",
      "Interval 86 (850000 steps performed)\n",
      "10000/10000 [==============================] - 324s 32ms/step - reward: 0.0176\n",
      "14 episodes - episode_reward: 12.643 [7.000, 21.000] - loss: 0.009 - mae: 0.160 - mean_q: 0.087 - mean_eps: 0.231 - ale.lives: 2.149\n",
      "\n",
      "Interval 87 (860000 steps performed)\n",
      "10000/10000 [==============================] - 326s 33ms/step - reward: 0.0138\n",
      "14 episodes - episode_reward: 10.286 [5.000, 19.000] - loss: 0.010 - mae: 0.238 - mean_q: 0.243 - mean_eps: 0.222 - ale.lives: 2.114\n",
      "\n",
      "Interval 88 (870000 steps performed)\n",
      "10000/10000 [==============================] - 327s 33ms/step - reward: 0.0164\n",
      "14 episodes - episode_reward: 11.857 [5.000, 21.000] - loss: 0.009 - mae: 0.232 - mean_q: 0.237 - mean_eps: 0.213 - ale.lives: 1.998\n",
      "\n",
      "Interval 89 (880000 steps performed)\n",
      "10000/10000 [==============================] - 327s 33ms/step - reward: 0.0175\n",
      "11 episodes - episode_reward: 14.091 [6.000, 21.000] - loss: 0.009 - mae: 0.241 - mean_q: 0.254 - mean_eps: 0.204 - ale.lives: 2.063\n",
      "\n",
      "Interval 90 (890000 steps performed)\n",
      "10000/10000 [==============================] - 330s 33ms/step - reward: 0.0138\n",
      "11 episodes - episode_reward: 14.000 [9.000, 22.000] - loss: 0.009 - mae: 0.191 - mean_q: 0.167 - mean_eps: 0.195 - ale.lives: 2.031\n",
      "\n",
      "Interval 91 (900000 steps performed)\n",
      "10000/10000 [==============================] - 330s 33ms/step - reward: 0.0132\n",
      "11 episodes - episode_reward: 11.818 [7.000, 16.000] - loss: 0.009 - mae: 0.206 - mean_q: 0.204 - mean_eps: 0.186 - ale.lives: 1.911\n",
      "\n",
      "Interval 92 (910000 steps performed)\n",
      "10000/10000 [==============================] - 331s 33ms/step - reward: 0.0155\n",
      "11 episodes - episode_reward: 13.636 [4.000, 26.000] - loss: 0.009 - mae: 0.163 - mean_q: 0.131 - mean_eps: 0.177 - ale.lives: 1.964\n",
      "\n",
      "Interval 93 (920000 steps performed)\n",
      "10000/10000 [==============================] - 333s 33ms/step - reward: 0.0138\n",
      "11 episodes - episode_reward: 12.818 [7.000, 25.000] - loss: 0.010 - mae: 0.225 - mean_q: 0.239 - mean_eps: 0.168 - ale.lives: 1.994\n",
      "\n",
      "Interval 94 (930000 steps performed)\n",
      "10000/10000 [==============================] - 332s 33ms/step - reward: 0.0162\n",
      "10 episodes - episode_reward: 15.400 [2.000, 32.000] - loss: 0.010 - mae: 0.224 - mean_q: 0.248 - mean_eps: 0.159 - ale.lives: 2.066\n",
      "\n",
      "Interval 95 (940000 steps performed)\n",
      "10000/10000 [==============================] - 334s 33ms/step - reward: 0.0147\n",
      "12 episodes - episode_reward: 12.333 [3.000, 21.000] - loss: 0.009 - mae: 0.180 - mean_q: 0.184 - mean_eps: 0.150 - ale.lives: 2.171\n",
      "\n",
      "Interval 96 (950000 steps performed)\n",
      "10000/10000 [==============================] - 335s 34ms/step - reward: 0.0154\n",
      "10 episodes - episode_reward: 16.700 [5.000, 25.000] - loss: 0.009 - mae: 0.137 - mean_q: 0.104 - mean_eps: 0.141 - ale.lives: 2.076\n",
      "\n",
      "Interval 97 (960000 steps performed)\n",
      "10000/10000 [==============================] - 336s 34ms/step - reward: 0.0159\n",
      "11 episodes - episode_reward: 13.364 [7.000, 24.000] - loss: 0.009 - mae: 0.151 - mean_q: 0.134 - mean_eps: 0.132 - ale.lives: 2.129\n",
      "\n",
      "Interval 98 (970000 steps performed)\n",
      "10000/10000 [==============================] - 345s 35ms/step - reward: 0.0137\n",
      "12 episodes - episode_reward: 11.583 [3.000, 21.000] - loss: 0.009 - mae: 0.158 - mean_q: 0.162 - mean_eps: 0.123 - ale.lives: 2.015\n",
      "\n",
      "Interval 99 (980000 steps performed)\n",
      "10000/10000 [==============================] - 340s 34ms/step - reward: 0.0138\n",
      "11 episodes - episode_reward: 13.455 [7.000, 21.000] - loss: 0.009 - mae: 0.147 - mean_q: 0.145 - mean_eps: 0.114 - ale.lives: 2.019\n",
      "\n",
      "Interval 100 (990000 steps performed)\n",
      "10000/10000 [==============================] - 335s 33ms/step - reward: 0.0146\n",
      "13 episodes - episode_reward: 11.077 [4.000, 20.000] - loss: 0.009 - mae: 0.124 - mean_q: 0.102 - mean_eps: 0.105 - ale.lives: 1.919\n",
      "\n",
      "Interval 101 (1000000 steps performed)\n",
      "10000/10000 [==============================] - 339s 34ms/step - reward: 0.0135\n",
      "9 episodes - episode_reward: 14.778 [11.000, 19.000] - loss: 0.009 - mae: 0.123 - mean_q: 0.115 - mean_eps: 0.100 - ale.lives: 1.973\n",
      "\n",
      "Interval 102 (1010000 steps performed)\n",
      "10000/10000 [==============================] - 336s 34ms/step - reward: 0.0160\n",
      "10 episodes - episode_reward: 15.900 [8.000, 29.000] - loss: 0.010 - mae: 0.112 - mean_q: 0.112 - mean_eps: 0.100 - ale.lives: 1.980\n",
      "\n",
      "Interval 103 (1020000 steps performed)\n",
      "10000/10000 [==============================] - 336s 34ms/step - reward: 0.0186\n",
      "12 episodes - episode_reward: 15.167 [5.000, 20.000] - loss: 0.009 - mae: 0.107 - mean_q: 0.106 - mean_eps: 0.100 - ale.lives: 1.962\n",
      "\n",
      "Interval 104 (1030000 steps performed)\n",
      "10000/10000 [==============================] - 337s 34ms/step - reward: 0.0155\n",
      "12 episodes - episode_reward: 13.833 [8.000, 24.000] - loss: 0.008 - mae: 0.100 - mean_q: 0.105 - mean_eps: 0.100 - ale.lives: 2.058\n",
      "\n",
      "Interval 105 (1040000 steps performed)\n",
      "10000/10000 [==============================] - 336s 34ms/step - reward: 0.0165\n",
      "12 episodes - episode_reward: 12.417 [5.000, 22.000] - loss: 0.009 - mae: 0.094 - mean_q: 0.085 - mean_eps: 0.100 - ale.lives: 2.028\n",
      "\n",
      "Interval 106 (1050000 steps performed)\n",
      "10000/10000 [==============================] - 336s 34ms/step - reward: 0.0135\n",
      "12 episodes - episode_reward: 10.500 [5.000, 17.000] - loss: 0.010 - mae: 0.126 - mean_q: 0.135 - mean_eps: 0.100 - ale.lives: 1.929\n",
      "\n",
      "Interval 107 (1060000 steps performed)\n",
      "10000/10000 [==============================] - 337s 34ms/step - reward: 0.0147\n",
      "15 episodes - episode_reward: 11.400 [3.000, 25.000] - loss: 0.009 - mae: 0.147 - mean_q: 0.161 - mean_eps: 0.100 - ale.lives: 1.953\n",
      "\n",
      "Interval 108 (1070000 steps performed)\n",
      "10000/10000 [==============================] - 337s 34ms/step - reward: 0.0143\n",
      "12 episodes - episode_reward: 11.833 [3.000, 21.000] - loss: 0.008 - mae: 0.140 - mean_q: 0.149 - mean_eps: 0.100 - ale.lives: 2.070\n",
      "\n",
      "Interval 109 (1080000 steps performed)\n",
      "10000/10000 [==============================] - 336s 34ms/step - reward: 0.0145\n",
      "11 episodes - episode_reward: 11.818 [2.000, 20.000] - loss: 0.009 - mae: 0.154 - mean_q: 0.169 - mean_eps: 0.100 - ale.lives: 2.197\n",
      "\n",
      "Interval 110 (1090000 steps performed)\n",
      "10000/10000 [==============================] - 337s 34ms/step - reward: 0.0160\n",
      "12 episodes - episode_reward: 14.667 [8.000, 24.000] - loss: 0.009 - mae: 0.108 - mean_q: 0.101 - mean_eps: 0.100 - ale.lives: 1.971\n",
      "\n",
      "Interval 111 (1100000 steps performed)\n",
      "10000/10000 [==============================] - 352s 35ms/step - reward: 0.0145\n",
      "13 episodes - episode_reward: 10.923 [6.000, 16.000] - loss: 0.009 - mae: 0.087 - mean_q: 0.047 - mean_eps: 0.100 - ale.lives: 1.947\n",
      "\n",
      "Interval 112 (1110000 steps performed)\n",
      "10000/10000 [==============================] - 345s 35ms/step - reward: 0.0140\n",
      "12 episodes - episode_reward: 11.750 [6.000, 27.000] - loss: 0.008 - mae: 0.084 - mean_q: 0.037 - mean_eps: 0.100 - ale.lives: 2.066\n",
      "\n",
      "Interval 113 (1120000 steps performed)\n",
      "10000/10000 [==============================] - 340s 34ms/step - reward: 0.0133\n",
      "10 episodes - episode_reward: 12.000 [3.000, 20.000] - loss: 0.009 - mae: 0.120 - mean_q: 0.108 - mean_eps: 0.100 - ale.lives: 2.148\n",
      "\n",
      "Interval 114 (1130000 steps performed)\n",
      "10000/10000 [==============================] - 339s 34ms/step - reward: 0.0139\n",
      "13 episodes - episode_reward: 11.538 [0.000, 22.000] - loss: 0.009 - mae: 0.096 - mean_q: 0.040 - mean_eps: 0.100 - ale.lives: 2.057\n",
      "\n",
      "Interval 115 (1140000 steps performed)\n",
      "10000/10000 [==============================] - 336s 34ms/step - reward: 0.0138\n",
      "9 episodes - episode_reward: 15.111 [6.000, 25.000] - loss: 0.009 - mae: 0.097 - mean_q: 0.005 - mean_eps: 0.100 - ale.lives: 1.880\n",
      "\n",
      "Interval 116 (1150000 steps performed)\n",
      " 4777/10000 [=============>................] - ETA: 2:56 - reward: 0.0174"
     ]
    }
   ],
   "source": [
    "weights_filename = os.path.join(WEIGHTS_PATH, 'dqn_{}_weights.h5f'.format(env_name))\n",
    "checkpoint_weights_filename = os.path.join(CHECKPOINT_PATH, 'dqn_' + env_name + '_weights_{step}.h5f')\n",
    "log_filename = os.path.join(LOGS_PATH, 'dqn_{}_log.json'.format(env_name))\n",
    "\n",
    "callbacks = [ModelIntervalCheckpoint(checkpoint_weights_filename, interval=MODEL_CHECKPOINT_STEPS)]\n",
    "callbacks += [FileLogger(log_filename, interval=100)]\n",
    "\n",
    "dqn.fit(env, callbacks=callbacks, nb_steps=TRAIN_STEPS, log_interval=LOG_INTERVAL, visualize=False)\n",
    "\n",
    "dqn.save_weights(weights_filename, overwrite=True)"
   ]
  },
  {
   "cell_type": "markdown",
   "metadata": {
    "id": "72UZDvzYYLKC"
   },
   "source": [
    "#### Testing"
   ]
  },
  {
   "cell_type": "code",
   "execution_count": 30,
   "metadata": {
    "colab": {
     "base_uri": "https://localhost:8080/"
    },
    "id": "OHYryKd1Gb2b",
    "outputId": "ac4b1ee0-02fa-4b89-ddac-ae1faf210e0a"
   },
   "outputs": [
    {
     "name": "stdout",
     "output_type": "stream",
     "text": [
      "Testing for 10 episodes ...\n",
      "Episode 1: reward: 5.000, steps: 423\n",
      "Episode 2: reward: 8.000, steps: 525\n",
      "Episode 3: reward: 5.000, steps: 430\n",
      "Episode 4: reward: 9.000, steps: 642\n",
      "Episode 5: reward: 7.000, steps: 683\n",
      "Episode 6: reward: 11.000, steps: 972\n",
      "Episode 7: reward: 17.000, steps: 983\n",
      "Episode 8: reward: 11.000, steps: 639\n",
      "Episode 9: reward: 12.000, steps: 1074\n",
      "Episode 10: reward: 4.000, steps: 470\n"
     ]
    },
    {
     "data": {
      "text/plain": [
       "<keras.callbacks.History at 0x7e3c3d48bf40>"
      ]
     },
     "execution_count": 30,
     "metadata": {},
     "output_type": "execute_result"
    }
   ],
   "source": [
    "# Testing part to calculate the mean reward\n",
    "weights_filename = os.path.join(WEIGHTS_PATH, 'dqn_{}_weights.h5f'.format(env_name))\n",
    "dqn.load_weights(weights_filename)\n",
    "dqn.test(env, nb_episodes=10, visualize=False)"
   ]
  },
  {
   "cell_type": "code",
   "execution_count": 14,
   "metadata": {
    "colab": {
     "base_uri": "https://localhost:8080/"
    },
    "id": "tqgAU-caMjuT",
    "outputId": "6ad93bff-1dcf-4def-c21c-420df5020eb3"
   },
   "outputs": [
    {
     "name": "stdout",
     "output_type": "stream",
     "text": [
      "Testing for 10 episodes ...\n"
     ]
    },
    {
     "name": "stderr",
     "output_type": "stream",
     "text": [
      "/usr/local/lib/python3.10/dist-packages/keras/engine/training_v1.py:2079: UserWarning: `Model.state_updates` will be removed in a future version. This property should not be used in TensorFlow 2.0, as `updates` are applied automatically.\n",
      "  updates=self.state_updates,\n"
     ]
    },
    {
     "name": "stdout",
     "output_type": "stream",
     "text": [
      "Episode 1: reward: 12.000, steps: 702\n",
      "Episode 2: reward: 0.000, steps: 306\n",
      "Episode 3: reward: 25.000, steps: 1228\n",
      "Episode 4: reward: 3.000, steps: 640\n",
      "Episode 5: reward: 4.000, steps: 349\n",
      "Episode 6: reward: 4.000, steps: 470\n",
      "Episode 7: reward: 6.000, steps: 656\n",
      "Episode 8: reward: 1.000, steps: 395\n",
      "Episode 9: reward: 9.000, steps: 699\n",
      "Episode 10: reward: 23.000, steps: 1280\n"
     ]
    },
    {
     "data": {
      "text/plain": [
       "<keras.callbacks.History at 0x792e0b2c9cc0>"
      ]
     },
     "execution_count": 14,
     "metadata": {},
     "output_type": "execute_result"
    }
   ],
   "source": [
    "# Testing part to calculate the mean reward\n",
    "checkpoint_weights_filename = os.path.join(CHECKPOINT_PATH, 'dqn_' + env_name + f'_weights_{150000}.h5f')\n",
    "dqn.load_weights(checkpoint_weights_filename)\n",
    "dqn.test(env, nb_episodes=10, visualize=False)"
   ]
  },
  {
   "cell_type": "markdown",
   "metadata": {
    "id": "-NAlu8b1Gb2b"
   },
   "source": [
    "#### 3. Justificación de los parámetros seleccionados y de los resultados obtenidos"
   ]
  },
  {
   "cell_type": "markdown",
   "metadata": {
    "id": "ANFQiicXK3sO"
   },
   "source": [
    "---"
   ]
  }
 ],
 "metadata": {
  "accelerator": "GPU",
  "colab": {
   "gpuType": "T4",
   "include_colab_link": true,
   "provenance": []
  },
  "kernelspec": {
   "display_name": "Python 3 (ipykernel)",
   "language": "python",
   "name": "python3"
  },
  "language_info": {
   "codemirror_mode": {
    "name": "ipython",
    "version": 3
   },
   "file_extension": ".py",
   "mimetype": "text/x-python",
   "name": "python",
   "nbconvert_exporter": "python",
   "pygments_lexer": "ipython3",
   "version": "3.8.18"
  },
  "widgets": {
   "application/vnd.jupyter.widget-state+json": {
    "1bb92e9296b64ae3a5892574065f2bd9": {
     "model_module": "@jupyter-widgets/base",
     "model_module_version": "1.2.0",
     "model_name": "LayoutModel",
     "state": {
      "_model_module": "@jupyter-widgets/base",
      "_model_module_version": "1.2.0",
      "_model_name": "LayoutModel",
      "_view_count": null,
      "_view_module": "@jupyter-widgets/base",
      "_view_module_version": "1.2.0",
      "_view_name": "LayoutView",
      "align_content": null,
      "align_items": null,
      "align_self": null,
      "border": null,
      "bottom": null,
      "display": null,
      "flex": null,
      "flex_flow": null,
      "grid_area": null,
      "grid_auto_columns": null,
      "grid_auto_flow": null,
      "grid_auto_rows": null,
      "grid_column": null,
      "grid_gap": null,
      "grid_row": null,
      "grid_template_areas": null,
      "grid_template_columns": null,
      "grid_template_rows": null,
      "height": null,
      "justify_content": null,
      "justify_items": null,
      "left": null,
      "margin": null,
      "max_height": null,
      "max_width": null,
      "min_height": null,
      "min_width": null,
      "object_fit": null,
      "object_position": null,
      "order": null,
      "overflow": null,
      "overflow_x": null,
      "overflow_y": null,
      "padding": null,
      "right": null,
      "top": null,
      "visibility": null,
      "width": null
     }
    },
    "3063d6905f01462fbcda147ddcdb513d": {
     "model_module": "@jupyter-widgets/controls",
     "model_module_version": "1.5.0",
     "model_name": "DropdownModel",
     "state": {
      "_dom_classes": [],
      "_model_module": "@jupyter-widgets/controls",
      "_model_module_version": "1.5.0",
      "_model_name": "DropdownModel",
      "_options_labels": [
       "Emilio",
       "Javier",
       "Guillermo"
      ],
      "_view_count": null,
      "_view_module": "@jupyter-widgets/controls",
      "_view_module_version": "1.5.0",
      "_view_name": "DropdownView",
      "description": "User:",
      "description_tooltip": null,
      "disabled": false,
      "index": 0,
      "layout": "IPY_MODEL_1bb92e9296b64ae3a5892574065f2bd9",
      "style": "IPY_MODEL_911f17fe161e411480d793dfc1aa73ed"
     }
    },
    "911f17fe161e411480d793dfc1aa73ed": {
     "model_module": "@jupyter-widgets/controls",
     "model_module_version": "1.5.0",
     "model_name": "DescriptionStyleModel",
     "state": {
      "_model_module": "@jupyter-widgets/controls",
      "_model_module_version": "1.5.0",
      "_model_name": "DescriptionStyleModel",
      "_view_count": null,
      "_view_module": "@jupyter-widgets/base",
      "_view_module_version": "1.2.0",
      "_view_name": "StyleView",
      "description_width": ""
     }
    }
   }
  }
 },
 "nbformat": 4,
 "nbformat_minor": 4
}
